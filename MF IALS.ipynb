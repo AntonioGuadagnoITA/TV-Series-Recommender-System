{
  "nbformat": 4,
  "nbformat_minor": 0,
  "metadata": {
    "colab": {
      "name": "RS_MF_IALS 41,8%.ipynb",
      "provenance": []
    },
    "kernelspec": {
      "display_name": "Python 3",
      "name": "python3"
    },
    "language_info": {
      "name": "python"
    }
  },
  "cells": [
    {
      "cell_type": "code",
      "metadata": {
        "colab": {
          "base_uri": "https://localhost:8080/"
        },
        "id": "LFlT6nkAWskh",
        "outputId": "4ae19cf6-9144-42c0-99eb-e4d4095a94dc"
      },
      "source": [
        "#Connecting to google drive\n",
        "from google.colab import drive \n",
        "drive.mount('/content/gdrive',force_remount=True)"
      ],
      "execution_count": null,
      "outputs": [
        {
          "output_type": "stream",
          "name": "stdout",
          "text": [
            "Mounted at /content/gdrive\n"
          ]
        }
      ]
    },
    {
      "cell_type": "code",
      "metadata": {
        "colab": {
          "base_uri": "https://localhost:8080/"
        },
        "id": "IOxo6wtFYcWJ",
        "outputId": "2f5d4847-0e70-44c2-ab96-0a4eaf91f655"
      },
      "source": [
        "%cd gdrive/My Drive/RS_Challenge/RSLib\n",
        "%ls"
      ],
      "execution_count": null,
      "outputs": [
        {
          "output_type": "stream",
          "name": "stdout",
          "text": [
            "/content/gdrive/My Drive/RS_Challenge/RSLib\n",
            "\u001b[0m\u001b[01;34mRecSys_Course_AT_PoliMi-master\u001b[0m/\n"
          ]
        }
      ]
    },
    {
      "cell_type": "code",
      "metadata": {
        "colab": {
          "base_uri": "https://localhost:8080/"
        },
        "id": "uyeCiqzqYq-b",
        "outputId": "2576befe-2193-4f80-e5a5-23acb8eee764"
      },
      "source": [
        "!ls */*.py"
      ],
      "execution_count": null,
      "outputs": [
        {
          "output_type": "stream",
          "name": "stdout",
          "text": [
            "RecSys_Course_AT_PoliMi-master/cython_example_FunkSVD.py\n",
            "RecSys_Course_AT_PoliMi-master/cython_example_SLIM_MSE.py\n",
            "RecSys_Course_AT_PoliMi-master/run_all_algorithms.py\n",
            "RecSys_Course_AT_PoliMi-master/run_compile_all_cython.py\n",
            "RecSys_Course_AT_PoliMi-master/run_hyperparameter_search.py\n",
            "RecSys_Course_AT_PoliMi-master/run_test_recommenders.py\n"
          ]
        }
      ]
    },
    {
      "cell_type": "code",
      "metadata": {
        "id": "2ueKvUiuYyX9"
      },
      "source": [
        "#Importing course's repositories\n",
        "import sys\n",
        "sys.path.append('/content/gdrive/MyDrive/RS_Challenge/RSLib/RecSys_Course_AT_PoliMi-master')"
      ],
      "execution_count": null,
      "outputs": []
    },
    {
      "cell_type": "code",
      "source": [
        "#To use skopt\n",
        "! pip install --quiet lightgbm==2.2.3 scikit-optimize==0.9.0 neptune-client==0.4.132 neptune-contrib[monitoring]==0.25.0"
      ],
      "metadata": {
        "id": "UvS1s1l-1_wm",
        "colab": {
          "base_uri": "https://localhost:8080/"
        },
        "outputId": "32b4a35c-0fa8-4f74-b461-89957c811a8e"
      },
      "execution_count": null,
      "outputs": [
        {
          "output_type": "stream",
          "name": "stdout",
          "text": [
            "\u001b[?25l\r\u001b[K     |███▎                            | 10 kB 19.5 MB/s eta 0:00:01\r\u001b[K     |██████▌                         | 20 kB 23.4 MB/s eta 0:00:01\r\u001b[K     |█████████▉                      | 30 kB 24.3 MB/s eta 0:00:01\r\u001b[K     |█████████████                   | 40 kB 26.6 MB/s eta 0:00:01\r\u001b[K     |████████████████▍               | 51 kB 29.5 MB/s eta 0:00:01\r\u001b[K     |███████████████████▋            | 61 kB 32.1 MB/s eta 0:00:01\r\u001b[K     |██████████████████████▉         | 71 kB 27.5 MB/s eta 0:00:01\r\u001b[K     |██████████████████████████▏     | 81 kB 29.1 MB/s eta 0:00:01\r\u001b[K     |█████████████████████████████▍  | 92 kB 30.7 MB/s eta 0:00:01\r\u001b[K     |████████████████████████████████| 100 kB 6.9 MB/s \n",
            "\u001b[K     |████████████████████████████████| 110 kB 43.2 MB/s \n",
            "\u001b[K     |████████████████████████████████| 67 kB 4.1 MB/s \n",
            "\u001b[K     |████████████████████████████████| 829 kB 35.8 MB/s \n",
            "\u001b[K     |████████████████████████████████| 53 kB 1.9 MB/s \n",
            "\u001b[K     |████████████████████████████████| 180 kB 59.7 MB/s \n",
            "\u001b[K     |████████████████████████████████| 106 kB 65.3 MB/s \n",
            "\u001b[K     |████████████████████████████████| 175 kB 63.6 MB/s \n",
            "\u001b[K     |████████████████████████████████| 63 kB 1.4 MB/s \n",
            "\u001b[K     |████████████████████████████████| 99 kB 8.6 MB/s \n",
            "\u001b[K     |████████████████████████████████| 67 kB 5.1 MB/s \n",
            "\u001b[K     |████████████████████████████████| 130 kB 68.7 MB/s \n",
            "\u001b[K     |████████████████████████████████| 564 kB 55.6 MB/s \n",
            "\u001b[?25h  Building wheel for neptune-client (setup.py) ... \u001b[?25l\u001b[?25hdone\n",
            "  Building wheel for neptune-contrib (setup.py) ... \u001b[?25l\u001b[?25hdone\n",
            "  Building wheel for future (setup.py) ... \u001b[?25l\u001b[?25hdone\n",
            "  Building wheel for py-cpuinfo (setup.py) ... \u001b[?25l\u001b[?25hdone\n",
            "  Building wheel for strict-rfc3339 (setup.py) ... \u001b[?25l\u001b[?25hdone\n",
            "  Building wheel for memory-profiler (setup.py) ... \u001b[?25l\u001b[?25hdone\n"
          ]
        }
      ]
    },
    {
      "cell_type": "code",
      "metadata": {
        "colab": {
          "base_uri": "https://localhost:8080/"
        },
        "id": "gc4Jcu0fZCZJ",
        "outputId": "f1222ef8-bc4c-4301-b04b-fe3ae22422b3"
      },
      "source": [
        "#Importing libraries\n",
        "import pandas as pd \n",
        "import scipy.sparse as sps\n",
        "import numpy as np\n",
        "import time\n",
        "import matplotlib.pyplot as pyplot\n",
        "import os\n",
        "from Evaluation.Evaluator import EvaluatorHoldout\n",
        "from Data_manager.split_functions.split_train_validation_random_holdout import split_train_in_two_percentage_global_sample\n",
        "from Recommenders.Similarity.Compute_Similarity_Python import Compute_Similarity_Python\n",
        "from HyperparameterTuning.SearchBayesianSkopt import SearchBayesianSkopt\n",
        "from HyperparameterTuning.SearchAbstractClass import SearchInputRecommenderArgs\n",
        "from Recommenders.MatrixFactorization.IALSRecommender import IALSRecommender\n",
        "\n",
        "print(\"DEBUG\")"
      ],
      "execution_count": null,
      "outputs": [
        {
          "output_type": "stream",
          "name": "stdout",
          "text": [
            "DEBUG\n"
          ]
        }
      ]
    },
    {
      "cell_type": "code",
      "metadata": {
        "colab": {
          "base_uri": "https://localhost:8080/"
        },
        "id": "oZixAobTZ39k",
        "outputId": "309c3d94-1ab0-4932-dd15-0d9517b26b3a"
      },
      "source": [
        "%cd ..\n",
        "%ls"
      ],
      "execution_count": null,
      "outputs": [
        {
          "output_type": "stream",
          "name": "stdout",
          "text": [
            "/content/gdrive/MyDrive/RS_Challenge\n",
            " \u001b[0m\u001b[01;34mRSDs\u001b[0m/   'RS_MFIals 41,8%.ipynb'             submission_MFIALS_full_URM.csv\n",
            " \u001b[01;34mRSLib\u001b[0m/   submission_MFIALS_2_full_URM.csv\n"
          ]
        }
      ]
    },
    {
      "cell_type": "code",
      "metadata": {
        "id": "Y4jzSuLZZLjE"
      },
      "source": [
        "#Loading dataframes\n",
        "URM_dataframe = pd.read_csv('RSDs/data_train.csv')\n",
        "ICM_genre_dataframe=pd.read_csv('RSDs/data_ICM_genre.csv')\n",
        "ICM_subgenre_dataframe=pd.read_csv('RSDs/data_ICM_subgenre.csv')\n",
        "ICM_event_dataframe=pd.read_csv('RSDs/data_ICM_event.csv')\n",
        "ICM_channel_dataframe=pd.read_csv('RSDs/data_ICM_channel.csv')"
      ],
      "execution_count": null,
      "outputs": []
    },
    {
      "cell_type": "code",
      "metadata": {
        "id": "Bs8W6l3IaK3z"
      },
      "source": [
        "#Column Renaming\n",
        "URM_dataframe.columns = ['User','Item','Interaction']\n",
        "ICM_genre_dataframe.columns = ['Item','Feature','Val']\n",
        "ICM_subgenre_dataframe.columns = ['Item','Feature','Val']\n",
        "ICM_event_dataframe.columns = ['Item','Feature','Val']\n",
        "ICM_channel_dataframe.columns = ['Item','Feature','Val']"
      ],
      "execution_count": null,
      "outputs": []
    },
    {
      "cell_type": "code",
      "metadata": {
        "id": "aq7xFKS4aL1O"
      },
      "source": [
        "#Converting datatype\n",
        "URM_dataframe['Interaction'] = URM_dataframe['Interaction'].astype(int)\n",
        "ICM_genre_dataframe['Val'] = ICM_genre_dataframe['Val'].astype(int)\n",
        "ICM_subgenre_dataframe['Val'] = ICM_subgenre_dataframe['Val'].astype(int)\n",
        "ICM_event_dataframe['Val'] = ICM_event_dataframe['Val'].astype(int)\n",
        "ICM_channel_dataframe['Val'] = ICM_channel_dataframe['Val'].astype(int)"
      ],
      "execution_count": null,
      "outputs": []
    },
    {
      "cell_type": "code",
      "metadata": {
        "colab": {
          "base_uri": "https://localhost:8080/"
        },
        "id": "aZAaTBClaVXp",
        "outputId": "976c348a-5295-4db4-b560-98fa8019b055"
      },
      "source": [
        "#Printing stats to see if everything went well\n",
        "userID_unique = URM_dataframe[\"User\"].unique()\n",
        "itemID_unique = URM_dataframe[\"Item\"].unique()\n",
        "n_users = len(userID_unique)\n",
        "n_items = len(itemID_unique)\n",
        "n_interactions = len(URM_dataframe)\n",
        "\n",
        "#Printing some stats\n",
        "print(\"Number of users: \" + str(n_users))\n",
        "print(\"Number of items: \" + str(n_items))\n",
        "print(\"Number of interactions: \" + str(n_interactions))"
      ],
      "execution_count": null,
      "outputs": [
        {
          "output_type": "stream",
          "name": "stdout",
          "text": [
            "Number of users: 13650\n",
            "Number of items: 18059\n",
            "Number of interactions: 5285664\n"
          ]
        }
      ]
    },
    {
      "cell_type": "code",
      "metadata": {
        "colab": {
          "base_uri": "https://localhost:8080/"
        },
        "id": "yB4mwV2paWVD",
        "outputId": "1bccd315-6112-4c76-e214-ad1d3c764d2b"
      },
      "source": [
        "#Checking if re-assignment of ID's is needed\n",
        "print('The maxID for user {}, The maxID for item {}'.format(max(URM_dataframe.User),max(URM_dataframe.Item)))"
      ],
      "execution_count": null,
      "outputs": [
        {
          "output_type": "stream",
          "name": "stdout",
          "text": [
            "The maxID for user 13649, The maxID for item 18058\n"
          ]
        }
      ]
    },
    {
      "cell_type": "markdown",
      "metadata": {
        "id": "x-6SNHkf6kKU"
      },
      "source": [
        "Re-assignment not needed"
      ]
    },
    {
      "cell_type": "code",
      "metadata": {
        "colab": {
          "base_uri": "https://localhost:8080/"
        },
        "id": "h_WVD6-9aaUZ",
        "outputId": "a0607d11-6acd-4756-a336-9b50ddce006d"
      },
      "source": [
        "#Converting the URM into a sparse matrix\n",
        "URM_sparse = sps.coo_matrix((URM_dataframe['Interaction'].values,(URM_dataframe['User'].values,URM_dataframe['Item'].values)))\n",
        "URM_csr = URM_sparse.tocsr()\n",
        "URM_csr"
      ],
      "execution_count": null,
      "outputs": [
        {
          "output_type": "execute_result",
          "data": {
            "text/plain": [
              "<13650x18059 sparse matrix of type '<class 'numpy.longlong'>'\n",
              "\twith 5285664 stored elements in Compressed Sparse Row format>"
            ]
          },
          "metadata": {},
          "execution_count": 13
        }
      ]
    },
    {
      "cell_type": "code",
      "metadata": {
        "colab": {
          "base_uri": "https://localhost:8080/"
        },
        "id": "MqGmEtuKabZ_",
        "outputId": "2ca8086e-2fe0-4428-aaaa-3b7c07fef7c0"
      },
      "source": [
        "#Splitting data into training and validation set (Test set is the one on Kaggle)\n",
        "URM_train, URM_validation = split_train_in_two_percentage_global_sample(URM_csr, train_percentage = 0.80)\n",
        "evaluator_validation = EvaluatorHoldout(URM_validation, cutoff_list=[10])"
      ],
      "execution_count": null,
      "outputs": [
        {
          "output_type": "stream",
          "name": "stdout",
          "text": [
            "Warning: 8 (0.06 %) of 13650 users have no sampled items\n",
            "EvaluatorHoldout: Ignoring 13642 ( 0.1%) Users that have less than 1 test interactions\n"
          ]
        }
      ]
    },
    {
      "cell_type": "code",
      "metadata": {
        "id": "bg6cZbP3a0J2"
      },
      "source": [
        "#Using MF IALS imported from course's libraries\n",
        "recommender = IALSRecommender(URM_sparse) # Previously I've worked with train+validation, now I use the entire URM to obtain better performances on the test set"
      ],
      "execution_count": null,
      "outputs": []
    },
    {
      "cell_type": "markdown",
      "source": [
        "Hyperparameters tuning"
      ],
      "metadata": {
        "id": "uIEBosA0zWn1"
      }
    },
    {
      "cell_type": "code",
      "metadata": {
        "id": "cI9AIX4acc8f"
      },
      "source": [
        "from skopt.space import Real, Integer, Categorical"
      ],
      "execution_count": null,
      "outputs": []
    },
    {
      "cell_type": "code",
      "metadata": {
        "id": "N1LT5j_ice4f"
      },
      "source": [
        "hyperparameters_range_dictionary = {\n",
        "    \"num_factors\": Integer(45,55),\n",
        "    \"alpha\": Real(0.95,1.05),\n",
        "    \"reg\": Real(0.0005,0.0007),\n",
        "    \"init_mean\": Real(0.4, 0.6),\n",
        "    \"init_mean\": Real(0.04, 0.06),\n",
        "    \"confidence_scaling\": Categorical([\"linear\"])\n",
        "}"
      ],
      "execution_count": null,
      "outputs": []
    },
    {
      "cell_type": "code",
      "metadata": {
        "id": "GQ8LnP-Ke6MF"
      },
      "source": [
        "recommender_class = IALSRecommender\n",
        "hyperparameterSearch = SearchBayesianSkopt(recommender_class, evaluator_validation=evaluator_validation)"
      ],
      "execution_count": null,
      "outputs": []
    },
    {
      "cell_type": "code",
      "source": [
        "output_folder_path = '/content/gdrive/MyDrive/Colab Notebooks/RSChallenge/Results/SLIM_res/'\n",
        "\n",
        "# If directory does not exist, create\n",
        "if not os.path.exists(output_folder_path):\n",
        "    os.makedirs(output_folder_path)\n",
        "    \n",
        "n_cases = 10 \n",
        "n_random_starts = int(n_cases*0.3)\n",
        "metric_to_optimize = \"MAP\"   \n",
        "cutoff_to_optimize = 10"
      ],
      "metadata": {
        "id": "Yp8aAnWCzfUv"
      },
      "execution_count": null,
      "outputs": []
    },
    {
      "cell_type": "code",
      "source": [
        "earlystopping_keywargs = {\"validation_every_n\": 2,\n",
        "                          \"stop_on_validation\": True,\n",
        "                          \"evaluator_object\": evaluator_validation,\n",
        "                          \"lower_validations_allowed\": 10,\n",
        "                          \"validation_metric\": metric_to_optimize,\n",
        "                          }"
      ],
      "metadata": {
        "id": "k0uTCQzEBCVA"
      },
      "execution_count": null,
      "outputs": []
    },
    {
      "cell_type": "code",
      "metadata": {
        "id": "6IYiK4SDfAza"
      },
      "source": [
        "recommender_input_args = SearchInputRecommenderArgs(\n",
        "    CONSTRUCTOR_POSITIONAL_ARGS = [URM_train],   \n",
        "    CONSTRUCTOR_KEYWORD_ARGS = {},\n",
        "    FIT_POSITIONAL_ARGS = [],\n",
        "    FIT_KEYWORD_ARGS = earlystopping_keywargs # Early stopping\n",
        ")\n",
        "\n",
        "recommender_input_args_last_test = SearchInputRecommenderArgs(\n",
        "    CONSTRUCTOR_POSITIONAL_ARGS = [URM_validation],  \n",
        "    CONSTRUCTOR_KEYWORD_ARGS = {},\n",
        "    FIT_POSITIONAL_ARGS = [],\n",
        "    FIT_KEYWORD_ARGS = earlystopping_keywargs # Early stopping\n",
        ")"
      ],
      "execution_count": null,
      "outputs": []
    },
    {
      "cell_type": "code",
      "source": [
        "hyperparameterSearch = SearchBayesianSkopt(recommender_class,\n",
        "                                         evaluator_validation=evaluator_validation)"
      ],
      "metadata": {
        "id": "qZXFJR2IBYdi"
      },
      "execution_count": null,
      "outputs": []
    },
    {
      "cell_type": "code",
      "metadata": {
        "id": "oYygdf6MkeYI"
      },
      "source": [
        "hyperparameterSearch.search(recommender_input_args,\n",
        "                       recommender_input_args_last_test = recommender_input_args_last_test,\n",
        "                       hyperparameter_search_space = hyperparameters_range_dictionary,\n",
        "                       n_cases = n_cases,\n",
        "                       n_random_starts = n_random_starts,\n",
        "                       save_model = \"last\",\n",
        "                       output_folder_path = output_folder_path,\n",
        "                       output_file_name_root = recommender_class.RECOMMENDER_NAME,\n",
        "                       metric_to_optimize = metric_to_optimize,\n",
        "                       cutoff_to_optimize = cutoff_to_optimize,\n",
        "                      )"
      ],
      "execution_count": null,
      "outputs": []
    },
    {
      "cell_type": "code",
      "metadata": {
        "colab": {
          "base_uri": "https://localhost:8080/"
        },
        "id": "3l9gqXDiF9Hb",
        "outputId": "75b6f5ac-6f40-436e-b885-36358ebb22b0"
      },
      "source": [
        "recommender.fit(epochs = 32, num_factors = 50, alpha = 1.011955985422186, reg = 0.0006510527003718695, init_mean = 0.4902658701038708, init_std = 0.0542837791767091) # Così ottengo: 0.418 MAP: 0.2335376"
      ],
      "execution_count": null,
      "outputs": [
        {
          "output_type": "stream",
          "name": "stdout",
          "text": [
            "IALSRecommender: Epoch 1 of 32. Elapsed time 15.90 sec\n",
            "IALSRecommender: Epoch 2 of 32. Elapsed time 32.10 sec\n",
            "IALSRecommender: Epoch 3 of 32. Elapsed time 48.22 sec\n",
            "IALSRecommender: Epoch 4 of 32. Elapsed time 1.20 min\n",
            "IALSRecommender: Epoch 5 of 32. Elapsed time 1.60 min\n",
            "IALSRecommender: Epoch 6 of 32. Elapsed time 1.92 min\n",
            "IALSRecommender: Epoch 7 of 32. Elapsed time 2.19 min\n",
            "IALSRecommender: Epoch 8 of 32. Elapsed time 2.45 min\n",
            "IALSRecommender: Epoch 9 of 32. Elapsed time 2.72 min\n",
            "IALSRecommender: Epoch 10 of 32. Elapsed time 3.00 min\n",
            "IALSRecommender: Epoch 11 of 32. Elapsed time 3.26 min\n",
            "IALSRecommender: Epoch 12 of 32. Elapsed time 3.53 min\n",
            "IALSRecommender: Epoch 13 of 32. Elapsed time 3.80 min\n",
            "IALSRecommender: Epoch 14 of 32. Elapsed time 4.07 min\n",
            "IALSRecommender: Epoch 15 of 32. Elapsed time 4.34 min\n",
            "IALSRecommender: Epoch 16 of 32. Elapsed time 4.60 min\n",
            "IALSRecommender: Epoch 17 of 32. Elapsed time 4.87 min\n",
            "IALSRecommender: Epoch 18 of 32. Elapsed time 5.14 min\n",
            "IALSRecommender: Epoch 19 of 32. Elapsed time 5.40 min\n",
            "IALSRecommender: Epoch 20 of 32. Elapsed time 5.67 min\n",
            "IALSRecommender: Epoch 21 of 32. Elapsed time 5.93 min\n",
            "IALSRecommender: Epoch 22 of 32. Elapsed time 6.20 min\n",
            "IALSRecommender: Epoch 23 of 32. Elapsed time 6.46 min\n",
            "IALSRecommender: Epoch 24 of 32. Elapsed time 6.72 min\n",
            "IALSRecommender: Epoch 25 of 32. Elapsed time 6.99 min\n",
            "IALSRecommender: Epoch 26 of 32. Elapsed time 7.25 min\n",
            "IALSRecommender: Epoch 27 of 32. Elapsed time 7.51 min\n",
            "IALSRecommender: Epoch 28 of 32. Elapsed time 7.77 min\n",
            "IALSRecommender: Epoch 29 of 32. Elapsed time 8.03 min\n",
            "IALSRecommender: Epoch 30 of 32. Elapsed time 8.30 min\n",
            "IALSRecommender: Epoch 31 of 32. Elapsed time 8.56 min\n",
            "IALSRecommender: Epoch 32 of 32. Elapsed time 8.82 min\n",
            "IALSRecommender: Terminating at epoch 32. Elapsed time 8.82 min\n"
          ]
        }
      ]
    },
    {
      "cell_type": "code",
      "metadata": {
        "colab": {
          "base_uri": "https://localhost:8080/"
        },
        "id": "M4GCtxIF2Xx4",
        "outputId": "15035c05-7173-4f25-cf20-0404e975679f"
      },
      "source": [
        "%ls"
      ],
      "execution_count": null,
      "outputs": [
        {
          "output_type": "stream",
          "name": "stdout",
          "text": [
            " \u001b[0m\u001b[01;34mRSDs\u001b[0m/   \u001b[01;34mRSLib\u001b[0m/  'RS_MF_IALS 41,8%.ipynb'   submission_MFIALS_2_full_URM.csv\n"
          ]
        }
      ]
    },
    {
      "cell_type": "code",
      "metadata": {
        "id": "QkLpWFEM2VMU"
      },
      "source": [
        "target_users = pd.read_csv('RSDs/data_target_users_test.csv')"
      ],
      "execution_count": null,
      "outputs": []
    },
    {
      "cell_type": "code",
      "metadata": {
        "colab": {
          "base_uri": "https://localhost:8080/"
        },
        "id": "pzNvGLYjWYna",
        "outputId": "d18663d4-6c70-498a-f96f-3934349cbaf1"
      },
      "source": [
        "final_dict = {}\n",
        "start_time = time.time()\n",
        "\n",
        "for user in target_users['user_id']:\n",
        "  final_dict[user] = recommender.recommend(user,cutoff=10)\n",
        "end_time = time.time()\n",
        "print('Time needed is {}seconds'.format(end_time-start_time))"
      ],
      "execution_count": null,
      "outputs": [
        {
          "output_type": "stream",
          "name": "stdout",
          "text": [
            "Time needed is 19.083093881607056seconds\n"
          ]
        }
      ]
    },
    {
      "cell_type": "code",
      "metadata": {
        "id": "VT3Hf0jsWjWj"
      },
      "source": [
        "item_list = []\n",
        "for user in target_users['user_id']:\n",
        "  item_list.append(' '.join(str(e) for e in final_dict[user]))"
      ],
      "execution_count": null,
      "outputs": []
    },
    {
      "cell_type": "code",
      "metadata": {
        "colab": {
          "base_uri": "https://localhost:8080/",
          "height": 424
        },
        "id": "iSdj2hv5Wsqc",
        "outputId": "4118a741-9281-444c-e927-9a8db91be8ce"
      },
      "source": [
        "submission_df = pd.DataFrame({'user_id' : target_users['user_id'],'item_list' : item_list })\n",
        "submission_df['item_list'] = submission_df['item_list'].astype(str).str.strip('[]')\n",
        "submission_df"
      ],
      "execution_count": null,
      "outputs": [
        {
          "output_type": "execute_result",
          "data": {
            "text/html": [
              "<div>\n",
              "<style scoped>\n",
              "    .dataframe tbody tr th:only-of-type {\n",
              "        vertical-align: middle;\n",
              "    }\n",
              "\n",
              "    .dataframe tbody tr th {\n",
              "        vertical-align: top;\n",
              "    }\n",
              "\n",
              "    .dataframe thead th {\n",
              "        text-align: right;\n",
              "    }\n",
              "</style>\n",
              "<table border=\"1\" class=\"dataframe\">\n",
              "  <thead>\n",
              "    <tr style=\"text-align: right;\">\n",
              "      <th></th>\n",
              "      <th>user_id</th>\n",
              "      <th>item_list</th>\n",
              "    </tr>\n",
              "  </thead>\n",
              "  <tbody>\n",
              "    <tr>\n",
              "      <th>0</th>\n",
              "      <td>0</td>\n",
              "      <td>3899 6061 12752 8635 16359 5433 5885 5981 7143...</td>\n",
              "    </tr>\n",
              "    <tr>\n",
              "      <th>1</th>\n",
              "      <td>1</td>\n",
              "      <td>940 3473 2118 9275 3402 2820 53 739 16365 1533</td>\n",
              "    </tr>\n",
              "    <tr>\n",
              "      <th>2</th>\n",
              "      <td>2</td>\n",
              "      <td>6177 14181 1551 17330 5273 14229 15119 17584 5...</td>\n",
              "    </tr>\n",
              "    <tr>\n",
              "      <th>3</th>\n",
              "      <td>3</td>\n",
              "      <td>8194 960 15082 15551 15844 5885 5981 16359 837...</td>\n",
              "    </tr>\n",
              "    <tr>\n",
              "      <th>4</th>\n",
              "      <td>4</td>\n",
              "      <td>8194 11836 9871 7870 9825 13691 10586 241 9573...</td>\n",
              "    </tr>\n",
              "    <tr>\n",
              "      <th>...</th>\n",
              "      <td>...</td>\n",
              "      <td>...</td>\n",
              "    </tr>\n",
              "    <tr>\n",
              "      <th>13645</th>\n",
              "      <td>13645</td>\n",
              "      <td>6177 6961 16332 11491 4078 3200 9527 840 1259 ...</td>\n",
              "    </tr>\n",
              "    <tr>\n",
              "      <th>13646</th>\n",
              "      <td>13646</td>\n",
              "      <td>3473 5324 16640 7867 17266 8635 16624 17623 12...</td>\n",
              "    </tr>\n",
              "    <tr>\n",
              "      <th>13647</th>\n",
              "      <td>13647</td>\n",
              "      <td>1846 7716 7606 11227 14868 2665 8635 11491 173...</td>\n",
              "    </tr>\n",
              "    <tr>\n",
              "      <th>13648</th>\n",
              "      <td>13648</td>\n",
              "      <td>6177 8635 5273 13134 6214 14181 1846 11058 989...</td>\n",
              "    </tr>\n",
              "    <tr>\n",
              "      <th>13649</th>\n",
              "      <td>13649</td>\n",
              "      <td>16919 4088 14536 11038 5273 14390 10026 17748 ...</td>\n",
              "    </tr>\n",
              "  </tbody>\n",
              "</table>\n",
              "<p>13650 rows × 2 columns</p>\n",
              "</div>"
            ],
            "text/plain": [
              "       user_id                                          item_list\n",
              "0            0  3899 6061 12752 8635 16359 5433 5885 5981 7143...\n",
              "1            1     940 3473 2118 9275 3402 2820 53 739 16365 1533\n",
              "2            2  6177 14181 1551 17330 5273 14229 15119 17584 5...\n",
              "3            3  8194 960 15082 15551 15844 5885 5981 16359 837...\n",
              "4            4  8194 11836 9871 7870 9825 13691 10586 241 9573...\n",
              "...        ...                                                ...\n",
              "13645    13645  6177 6961 16332 11491 4078 3200 9527 840 1259 ...\n",
              "13646    13646  3473 5324 16640 7867 17266 8635 16624 17623 12...\n",
              "13647    13647  1846 7716 7606 11227 14868 2665 8635 11491 173...\n",
              "13648    13648  6177 8635 5273 13134 6214 14181 1846 11058 989...\n",
              "13649    13649  16919 4088 14536 11038 5273 14390 10026 17748 ...\n",
              "\n",
              "[13650 rows x 2 columns]"
            ]
          },
          "metadata": {},
          "execution_count": 32
        }
      ]
    },
    {
      "cell_type": "code",
      "metadata": {
        "colab": {
          "base_uri": "https://localhost:8080/"
        },
        "id": "qhQPgu05WxeR",
        "outputId": "79fe6120-2f5a-4d9b-f06e-582343cfe46a"
      },
      "source": [
        "%cd ..\n",
        "%ls"
      ],
      "execution_count": null,
      "outputs": [
        {
          "output_type": "stream",
          "name": "stdout",
          "text": [
            "/content/gdrive/MyDrive\n",
            "'Anthony super bello 2.zip'               'LISTA EPISODI COMPLETA 7.4.gdoc'\n",
            " Backup_Rubrica.vcf                       'Modulo senza titolo.gform'\n",
            " Cattura.JPG                              'PROGETTO DEF NON OTTIMIZZATO.txt'\n",
            "'CENSORED TRACKLIST.png'                  'PROGETTO DEF OTTIMIZZATO.txt'\n",
            "'CENSORED TRACKLIST STORIA.png'            \u001b[0m\u001b[01;34mRS_Challenge\u001b[0m/\n",
            "\u001b[01;34m'Colab Notebooks'\u001b[0m/                         SantoriniClient.zip\n",
            " \u001b[01;34mcontent\u001b[0m/                                 \u001b[01;34m'SONGS REVIEW'\u001b[0m/\n",
            "\u001b[01;34m'DRIVER EPSON'\u001b[0m/                           'TRACKLIST CLEAN.png'\n",
            "'FSM RESTAR MULTI START OTTIMIZZATA.txt'  'TRACKLIST CLEAN STORY.png'\n"
          ]
        }
      ]
    },
    {
      "cell_type": "code",
      "metadata": {
        "id": "j55GRF3YWzoc"
      },
      "source": [
        "submission_df.to_csv('RS_Challenge/submission_MFIALS_full_URM.csv', index=False)"
      ],
      "execution_count": null,
      "outputs": []
    },
    {
      "cell_type": "markdown",
      "source": [
        "Loading a DF and working with it"
      ],
      "metadata": {
        "id": "zpty3bwEpmA_"
      }
    },
    {
      "cell_type": "code",
      "source": [
        "%cd ..\n",
        "%ls"
      ],
      "metadata": {
        "colab": {
          "base_uri": "https://localhost:8080/"
        },
        "id": "BG7-YOvd4ulj",
        "outputId": "388a7f25-3491-4e0e-85e1-2533ee34027e"
      },
      "execution_count": null,
      "outputs": [
        {
          "output_type": "stream",
          "name": "stdout",
          "text": [
            "/content/gdrive/MyDrive\n",
            "'Anthony super bello 2.zip'               'LISTA EPISODI COMPLETA 7.4.gdoc'\n",
            " Backup_Rubrica.vcf                       'Modulo senza titolo.gform'\n",
            " Cattura.JPG                              'PROGETTO DEF NON OTTIMIZZATO.txt'\n",
            "'CENSORED TRACKLIST.png'                  'PROGETTO DEF OTTIMIZZATO.txt'\n",
            "'CENSORED TRACKLIST STORIA.png'            \u001b[0m\u001b[01;34mRS_Challenge\u001b[0m/\n",
            "\u001b[01;34m'Colab Notebooks'\u001b[0m/                         SantoriniClient.zip\n",
            " \u001b[01;34mcontent\u001b[0m/                                 \u001b[01;34m'SONGS REVIEW'\u001b[0m/\n",
            "\u001b[01;34m'DRIVER EPSON'\u001b[0m/                           'TRACKLIST CLEAN.png'\n",
            "'FSM RESTAR MULTI START OTTIMIZZATA.txt'  'TRACKLIST CLEAN STORY.png'\n"
          ]
        }
      ]
    },
    {
      "cell_type": "code",
      "source": [
        "MF_rec = pd.read_csv('RS_Challenge/submission_MFIALS_full_URM.csv') # Loading DF\n",
        "SLIM_rec = pd.read_csv('RS_Challenge/submission_SLIM_full_URM.csv') # Loading DF"
      ],
      "metadata": {
        "id": "5H15kdCApaHL"
      },
      "execution_count": null,
      "outputs": []
    },
    {
      "cell_type": "code",
      "source": [
        "MF_rec # Printing DF"
      ],
      "metadata": {
        "colab": {
          "base_uri": "https://localhost:8080/",
          "height": 424
        },
        "id": "UWm-GpN5pqQF",
        "outputId": "7235b565-13a9-4d4f-a9ff-697542bd9b4e"
      },
      "execution_count": null,
      "outputs": [
        {
          "output_type": "execute_result",
          "data": {
            "text/html": [
              "<div>\n",
              "<style scoped>\n",
              "    .dataframe tbody tr th:only-of-type {\n",
              "        vertical-align: middle;\n",
              "    }\n",
              "\n",
              "    .dataframe tbody tr th {\n",
              "        vertical-align: top;\n",
              "    }\n",
              "\n",
              "    .dataframe thead th {\n",
              "        text-align: right;\n",
              "    }\n",
              "</style>\n",
              "<table border=\"1\" class=\"dataframe\">\n",
              "  <thead>\n",
              "    <tr style=\"text-align: right;\">\n",
              "      <th></th>\n",
              "      <th>user_id</th>\n",
              "      <th>item_list</th>\n",
              "    </tr>\n",
              "  </thead>\n",
              "  <tbody>\n",
              "    <tr>\n",
              "      <th>0</th>\n",
              "      <td>0</td>\n",
              "      <td>3899 6061 12752 8635 16359 5433 5885 5981 7143...</td>\n",
              "    </tr>\n",
              "    <tr>\n",
              "      <th>1</th>\n",
              "      <td>1</td>\n",
              "      <td>940 3473 2118 9275 3402 2820 53 739 16365 1533</td>\n",
              "    </tr>\n",
              "    <tr>\n",
              "      <th>2</th>\n",
              "      <td>2</td>\n",
              "      <td>6177 14181 1551 17330 5273 14229 15119 17584 5...</td>\n",
              "    </tr>\n",
              "    <tr>\n",
              "      <th>3</th>\n",
              "      <td>3</td>\n",
              "      <td>8194 960 15082 15551 15844 5885 5981 16359 837...</td>\n",
              "    </tr>\n",
              "    <tr>\n",
              "      <th>4</th>\n",
              "      <td>4</td>\n",
              "      <td>8194 11836 9871 7870 9825 13691 10586 241 9573...</td>\n",
              "    </tr>\n",
              "    <tr>\n",
              "      <th>...</th>\n",
              "      <td>...</td>\n",
              "      <td>...</td>\n",
              "    </tr>\n",
              "    <tr>\n",
              "      <th>13645</th>\n",
              "      <td>13645</td>\n",
              "      <td>6177 6961 16332 11491 4078 3200 9527 840 1259 ...</td>\n",
              "    </tr>\n",
              "    <tr>\n",
              "      <th>13646</th>\n",
              "      <td>13646</td>\n",
              "      <td>3473 5324 16640 7867 17266 8635 16624 17623 12...</td>\n",
              "    </tr>\n",
              "    <tr>\n",
              "      <th>13647</th>\n",
              "      <td>13647</td>\n",
              "      <td>1846 7716 7606 11227 14868 2665 8635 11491 173...</td>\n",
              "    </tr>\n",
              "    <tr>\n",
              "      <th>13648</th>\n",
              "      <td>13648</td>\n",
              "      <td>6177 8635 5273 13134 6214 14181 1846 11058 989...</td>\n",
              "    </tr>\n",
              "    <tr>\n",
              "      <th>13649</th>\n",
              "      <td>13649</td>\n",
              "      <td>16919 4088 14536 11038 5273 14390 10026 17748 ...</td>\n",
              "    </tr>\n",
              "  </tbody>\n",
              "</table>\n",
              "<p>13650 rows × 2 columns</p>\n",
              "</div>"
            ],
            "text/plain": [
              "       user_id                                          item_list\n",
              "0            0  3899 6061 12752 8635 16359 5433 5885 5981 7143...\n",
              "1            1     940 3473 2118 9275 3402 2820 53 739 16365 1533\n",
              "2            2  6177 14181 1551 17330 5273 14229 15119 17584 5...\n",
              "3            3  8194 960 15082 15551 15844 5885 5981 16359 837...\n",
              "4            4  8194 11836 9871 7870 9825 13691 10586 241 9573...\n",
              "...        ...                                                ...\n",
              "13645    13645  6177 6961 16332 11491 4078 3200 9527 840 1259 ...\n",
              "13646    13646  3473 5324 16640 7867 17266 8635 16624 17623 12...\n",
              "13647    13647  1846 7716 7606 11227 14868 2665 8635 11491 173...\n",
              "13648    13648  6177 8635 5273 13134 6214 14181 1846 11058 989...\n",
              "13649    13649  16919 4088 14536 11038 5273 14390 10026 17748 ...\n",
              "\n",
              "[13650 rows x 2 columns]"
            ]
          },
          "metadata": {},
          "execution_count": 11
        }
      ]
    },
    {
      "cell_type": "code",
      "source": [
        "SLIM_rec"
      ],
      "metadata": {
        "colab": {
          "base_uri": "https://localhost:8080/",
          "height": 424
        },
        "id": "biLHqG_v48nI",
        "outputId": "cf13b364-2eed-44a1-8ba3-c4dd0ef1d88e"
      },
      "execution_count": null,
      "outputs": [
        {
          "output_type": "execute_result",
          "data": {
            "text/html": [
              "<div>\n",
              "<style scoped>\n",
              "    .dataframe tbody tr th:only-of-type {\n",
              "        vertical-align: middle;\n",
              "    }\n",
              "\n",
              "    .dataframe tbody tr th {\n",
              "        vertical-align: top;\n",
              "    }\n",
              "\n",
              "    .dataframe thead th {\n",
              "        text-align: right;\n",
              "    }\n",
              "</style>\n",
              "<table border=\"1\" class=\"dataframe\">\n",
              "  <thead>\n",
              "    <tr style=\"text-align: right;\">\n",
              "      <th></th>\n",
              "      <th>user_id</th>\n",
              "      <th>item_list</th>\n",
              "    </tr>\n",
              "  </thead>\n",
              "  <tbody>\n",
              "    <tr>\n",
              "      <th>0</th>\n",
              "      <td>0</td>\n",
              "      <td>3899 5433 8465 16365 16359 2243 9130 6061 1058...</td>\n",
              "    </tr>\n",
              "    <tr>\n",
              "      <th>1</th>\n",
              "      <td>1</td>\n",
              "      <td>3473 940 14400 16012 2118 10118 9275 9373 640 ...</td>\n",
              "    </tr>\n",
              "    <tr>\n",
              "      <th>2</th>\n",
              "      <td>2</td>\n",
              "      <td>6177 1551 17330 17022 2846 15119 14229 5925 16...</td>\n",
              "    </tr>\n",
              "    <tr>\n",
              "      <th>3</th>\n",
              "      <td>3</td>\n",
              "      <td>8194 15551 16359 15082 8371 960 15507 16444 16...</td>\n",
              "    </tr>\n",
              "    <tr>\n",
              "      <th>4</th>\n",
              "      <td>4</td>\n",
              "      <td>8194 10586 6177 16494 2152 5299 9130 10954 347...</td>\n",
              "    </tr>\n",
              "    <tr>\n",
              "      <th>...</th>\n",
              "      <td>...</td>\n",
              "      <td>...</td>\n",
              "    </tr>\n",
              "    <tr>\n",
              "      <th>13645</th>\n",
              "      <td>13645</td>\n",
              "      <td>6177 11491 3200 8898 11576 11303 1259 562 7762...</td>\n",
              "    </tr>\n",
              "    <tr>\n",
              "      <th>13646</th>\n",
              "      <td>13646</td>\n",
              "      <td>3473 7867 8635 16640 409 11504 17266 17622 176...</td>\n",
              "    </tr>\n",
              "    <tr>\n",
              "      <th>13647</th>\n",
              "      <td>13647</td>\n",
              "      <td>1846 7716 11227 7606 1186 8635 14868 11491 168...</td>\n",
              "    </tr>\n",
              "    <tr>\n",
              "      <th>13648</th>\n",
              "      <td>13648</td>\n",
              "      <td>6177 8635 13295 7295 14358 14181 6214 2482 179...</td>\n",
              "    </tr>\n",
              "    <tr>\n",
              "      <th>13649</th>\n",
              "      <td>13649</td>\n",
              "      <td>16919 4088 5273 14536 17330 14627 11038 10026 ...</td>\n",
              "    </tr>\n",
              "  </tbody>\n",
              "</table>\n",
              "<p>13650 rows × 2 columns</p>\n",
              "</div>"
            ],
            "text/plain": [
              "       user_id                                          item_list\n",
              "0            0  3899 5433 8465 16365 16359 2243 9130 6061 1058...\n",
              "1            1  3473 940 14400 16012 2118 10118 9275 9373 640 ...\n",
              "2            2  6177 1551 17330 17022 2846 15119 14229 5925 16...\n",
              "3            3  8194 15551 16359 15082 8371 960 15507 16444 16...\n",
              "4            4  8194 10586 6177 16494 2152 5299 9130 10954 347...\n",
              "...        ...                                                ...\n",
              "13645    13645  6177 11491 3200 8898 11576 11303 1259 562 7762...\n",
              "13646    13646  3473 7867 8635 16640 409 11504 17266 17622 176...\n",
              "13647    13647  1846 7716 11227 7606 1186 8635 14868 11491 168...\n",
              "13648    13648  6177 8635 13295 7295 14358 14181 6214 2482 179...\n",
              "13649    13649  16919 4088 5273 14536 17330 14627 11038 10026 ...\n",
              "\n",
              "[13650 rows x 2 columns]"
            ]
          },
          "metadata": {},
          "execution_count": 12
        }
      ]
    },
    {
      "cell_type": "code",
      "source": [
        "# Reading the DF line by line\n",
        "\n",
        "MF_ll = MF_rec.values.tolist() # Converting the DF in a List of Lists\n",
        "MF_list = MF_ll[0][1].split() # Taking the recommendations for user 0 and coverting them into a list\n",
        "MF_list[3] # Taking the 3th elements recommended to user 0"
      ],
      "metadata": {
        "colab": {
          "base_uri": "https://localhost:8080/",
          "height": 38
        },
        "id": "ye819Y5xps1r",
        "outputId": "376302a8-625b-4488-bf4a-4512e4f96f8b"
      },
      "execution_count": null,
      "outputs": [
        {
          "output_type": "execute_result",
          "data": {
            "application/vnd.google.colaboratory.intrinsic+json": {
              "type": "string"
            },
            "text/plain": [
              "'8635'"
            ]
          },
          "metadata": {},
          "execution_count": 39
        }
      ]
    },
    {
      "cell_type": "code",
      "source": [
        "%ls"
      ],
      "metadata": {
        "colab": {
          "base_uri": "https://localhost:8080/"
        },
        "id": "BPdrc8hR5Nny",
        "outputId": "6c3c4b3d-1f82-4ed9-c2ea-691fa9a8c106"
      },
      "execution_count": null,
      "outputs": [
        {
          "output_type": "stream",
          "name": "stdout",
          "text": [
            "'Anthony super bello 2.zip'               'LISTA EPISODI COMPLETA 7.4.gdoc'\n",
            " Backup_Rubrica.vcf                       'Modulo senza titolo.gform'\n",
            " Cattura.JPG                              'PROGETTO DEF NON OTTIMIZZATO.txt'\n",
            "'CENSORED TRACKLIST.png'                  'PROGETTO DEF OTTIMIZZATO.txt'\n",
            "'CENSORED TRACKLIST STORIA.png'            \u001b[0m\u001b[01;34mRS_Challenge\u001b[0m/\n",
            "\u001b[01;34m'Colab Notebooks'\u001b[0m/                         SantoriniClient.zip\n",
            " \u001b[01;34mcontent\u001b[0m/                                 \u001b[01;34m'SONGS REVIEW'\u001b[0m/\n",
            "\u001b[01;34m'DRIVER EPSON'\u001b[0m/                           'TRACKLIST CLEAN.png'\n",
            "'FSM RESTAR MULTI START OTTIMIZZATA.txt'  'TRACKLIST CLEAN STORY.png'\n"
          ]
        }
      ]
    },
    {
      "cell_type": "code",
      "source": [
        "target_users = pd.read_csv('RS_Challenge/RSDs/data_target_users_test.csv')"
      ],
      "metadata": {
        "id": "gY25y6X75LB-"
      },
      "execution_count": null,
      "outputs": []
    },
    {
      "cell_type": "code",
      "source": [
        "user_id = 1 \n",
        "i = 0 # Per scorrere SLIM\n",
        "j = 0 # Per scorrere MF\n",
        "  \n",
        "list_temp = []\n",
        "\n",
        "SLIM_ll = SLIM_rec.values.tolist()\n",
        "MF_ll = MF_rec.values.tolist()\n",
        "\n",
        "MF_list = MF_ll[user_id][1].split()\n",
        "SLIM_list = SLIM_ll[user_id][1].split()\n",
        "\n",
        "print(\"MF \")\n",
        "print(MF_list)\n",
        "print(\"SLIM \")\n",
        "print(SLIM_list)\n",
        "\n",
        "for k in range(10):\n",
        "  if(SLIM_list[k] in MF_list):\n",
        "    list_temp.append(SLIM_list[k])\n",
        "\n",
        "print(\"Common\")\n",
        "print(list_temp)    \n",
        "\n",
        "while(len(list_temp)<10):\n",
        "  if(i==2*j): # Se è il turno di pescare da SLIM\n",
        "    if(SLIM_list[i] not in list_temp):\n",
        "      list_temp.append(SLIM_list[i])\n",
        "    i=i+1\n",
        "    if(SLIM_list[i] not in list_temp and len(list_temp)<10):\n",
        "      list_temp.append(SLIM_list[i])\n",
        "    i=i+1\n",
        "  else: # Se è il turno di pescare da MF\n",
        "    if(MF_list[j] not in list_temp):\n",
        "      list_temp.append(MF_list[j])\n",
        "    j=j+1\n",
        "\n",
        "print(\"Suggestions\")\n",
        "print(list_temp)\n",
        "  \n"
      ],
      "metadata": {
        "colab": {
          "base_uri": "https://localhost:8080/"
        },
        "id": "krZNAgbf6aOX",
        "outputId": "d3761b83-5790-4b0a-d7bb-b18e02a7560b"
      },
      "execution_count": null,
      "outputs": [
        {
          "output_type": "stream",
          "name": "stdout",
          "text": [
            "MF \n",
            "['940', '3473', '2118', '9275', '3402', '2820', '53', '739', '16365', '1533']\n",
            "SLIM \n",
            "['3473', '940', '14400', '16012', '2118', '10118', '9275', '9373', '640', '16365']\n",
            "Common\n",
            "['3473', '940', '2118', '9275', '16365']\n",
            "Suggestions\n",
            "['3473', '940', '2118', '9275', '16365', '14400', '16012', '10118', '9373', '640']\n"
          ]
        }
      ]
    },
    {
      "cell_type": "code",
      "source": [
        "final_dict = {}\n",
        "start_time = time.time()\n",
        "\n",
        "SLIM_ll = SLIM_rec.values.tolist()\n",
        "MF_ll = MF_rec.values.tolist()\n",
        "\n",
        "for user in target_users['user_id']:\n",
        "  i = 0 # Per scorrere SLIM\n",
        "  j = 0 # Per scorrere MF\n",
        "\n",
        "  list_temp = [] # Suggestions\n",
        "\n",
        "  MF_list = MF_ll[user][1].split()\n",
        "  SLIM_list = SLIM_ll[user][1].split()\n",
        "\n",
        "  for k in range(10):\n",
        "    if(SLIM_list[k] in MF_list):\n",
        "      list_temp.append(SLIM_list[k])\n",
        "\n",
        "  while(len(list_temp)<10):\n",
        "    if(i==3*j): # Se è il turno di pescare da SLIM (2)\n",
        "      if(SLIM_list[i] not in list_temp):\n",
        "        list_temp.append(SLIM_list[i])\n",
        "      i=i+1\n",
        "      if(i<10 and SLIM_list[i] not in list_temp and len(list_temp)<10):\n",
        "        list_temp.append(SLIM_list[i])\n",
        "      i=i+1\n",
        "      if(i<10 and SLIM_list[i] not in list_temp and len(list_temp)<10):\n",
        "        list_temp.append(SLIM_list[i])\n",
        "      i=i+1\n",
        "    else: # Se è il turno di pescare da MF (1)\n",
        "      if(MF_list[j] not in list_temp):\n",
        "        list_temp.append(MF_list[j])\n",
        "      j=j+1\n",
        "\n",
        "  final_dict[user] = list_temp\n",
        "\n",
        "end_time = time.time()\n",
        "print('Time needed is {}seconds'.format(end_time-start_time))"
      ],
      "metadata": {
        "colab": {
          "base_uri": "https://localhost:8080/"
        },
        "id": "P3K3fEnV5V2v",
        "outputId": "7b356945-148f-4144-8d99-3e1ecfe3b924"
      },
      "execution_count": null,
      "outputs": [
        {
          "output_type": "stream",
          "name": "stdout",
          "text": [
            "Time needed is 0.37792468070983887seconds\n"
          ]
        }
      ]
    },
    {
      "cell_type": "code",
      "source": [
        "item_list = []\n",
        "for user in target_users['user_id']:\n",
        "  item_list.append(' '.join(str(e) for e in final_dict[user]))"
      ],
      "metadata": {
        "id": "vxzlUD03-wBr"
      },
      "execution_count": null,
      "outputs": []
    },
    {
      "cell_type": "code",
      "source": [
        "submission_df = pd.DataFrame({'user_id' : target_users['user_id'],'item_list' : item_list })\n",
        "submission_df['item_list'] = submission_df['item_list'].astype(str).str.strip('[]')\n",
        "submission_df"
      ],
      "metadata": {
        "colab": {
          "base_uri": "https://localhost:8080/",
          "height": 424
        },
        "id": "VfcrbvBW-0qX",
        "outputId": "3536e795-14e7-4772-9852-e4b0f8cb329f"
      },
      "execution_count": null,
      "outputs": [
        {
          "output_type": "execute_result",
          "data": {
            "text/html": [
              "<div>\n",
              "<style scoped>\n",
              "    .dataframe tbody tr th:only-of-type {\n",
              "        vertical-align: middle;\n",
              "    }\n",
              "\n",
              "    .dataframe tbody tr th {\n",
              "        vertical-align: top;\n",
              "    }\n",
              "\n",
              "    .dataframe thead th {\n",
              "        text-align: right;\n",
              "    }\n",
              "</style>\n",
              "<table border=\"1\" class=\"dataframe\">\n",
              "  <thead>\n",
              "    <tr style=\"text-align: right;\">\n",
              "      <th></th>\n",
              "      <th>user_id</th>\n",
              "      <th>item_list</th>\n",
              "    </tr>\n",
              "  </thead>\n",
              "  <tbody>\n",
              "    <tr>\n",
              "      <th>0</th>\n",
              "      <td>0</td>\n",
              "      <td>3899 5433 16359 6061 640 8465 16365 2243 9130 ...</td>\n",
              "    </tr>\n",
              "    <tr>\n",
              "      <th>1</th>\n",
              "      <td>1</td>\n",
              "      <td>3473 940 2118 9275 16365 14400 16012 10118 937...</td>\n",
              "    </tr>\n",
              "    <tr>\n",
              "      <th>2</th>\n",
              "      <td>2</td>\n",
              "      <td>6177 1551 17330 15119 14229 17022 2846 14181 5...</td>\n",
              "    </tr>\n",
              "    <tr>\n",
              "      <th>3</th>\n",
              "      <td>3</td>\n",
              "      <td>8194 15551 16359 15082 8371 960 5981 15507 164...</td>\n",
              "    </tr>\n",
              "    <tr>\n",
              "      <th>4</th>\n",
              "      <td>4</td>\n",
              "      <td>8194 10586 6177 16494 2152 5299 11836 9130 109...</td>\n",
              "    </tr>\n",
              "    <tr>\n",
              "      <th>...</th>\n",
              "      <td>...</td>\n",
              "      <td>...</td>\n",
              "    </tr>\n",
              "    <tr>\n",
              "      <th>13645</th>\n",
              "      <td>13645</td>\n",
              "      <td>6177 11491 3200 1259 8898 11576 11303 6961 562...</td>\n",
              "    </tr>\n",
              "    <tr>\n",
              "      <th>13646</th>\n",
              "      <td>13646</td>\n",
              "      <td>3473 7867 8635 16640 17266 17623 409 11504 532...</td>\n",
              "    </tr>\n",
              "    <tr>\n",
              "      <th>13647</th>\n",
              "      <td>13647</td>\n",
              "      <td>1846 7716 11227 7606 8635 14868 11491 16846 11...</td>\n",
              "    </tr>\n",
              "    <tr>\n",
              "      <th>13648</th>\n",
              "      <td>13648</td>\n",
              "      <td>6177 8635 14181 6214 1846 13295 7295 14358 248...</td>\n",
              "    </tr>\n",
              "    <tr>\n",
              "      <th>13649</th>\n",
              "      <td>13649</td>\n",
              "      <td>16919 4088 5273 14536 14627 11038 10026 17748 ...</td>\n",
              "    </tr>\n",
              "  </tbody>\n",
              "</table>\n",
              "<p>13650 rows × 2 columns</p>\n",
              "</div>"
            ],
            "text/plain": [
              "       user_id                                          item_list\n",
              "0            0  3899 5433 16359 6061 640 8465 16365 2243 9130 ...\n",
              "1            1  3473 940 2118 9275 16365 14400 16012 10118 937...\n",
              "2            2  6177 1551 17330 15119 14229 17022 2846 14181 5...\n",
              "3            3  8194 15551 16359 15082 8371 960 5981 15507 164...\n",
              "4            4  8194 10586 6177 16494 2152 5299 11836 9130 109...\n",
              "...        ...                                                ...\n",
              "13645    13645  6177 11491 3200 1259 8898 11576 11303 6961 562...\n",
              "13646    13646  3473 7867 8635 16640 17266 17623 409 11504 532...\n",
              "13647    13647  1846 7716 11227 7606 8635 14868 11491 16846 11...\n",
              "13648    13648  6177 8635 14181 6214 1846 13295 7295 14358 248...\n",
              "13649    13649  16919 4088 5273 14536 14627 11038 10026 17748 ...\n",
              "\n",
              "[13650 rows x 2 columns]"
            ]
          },
          "metadata": {},
          "execution_count": 34
        }
      ]
    },
    {
      "cell_type": "code",
      "source": [
        "%cd MyDrive\n",
        "%ls"
      ],
      "metadata": {
        "colab": {
          "base_uri": "https://localhost:8080/"
        },
        "id": "QOEGJp68_P49",
        "outputId": "167af3fe-5b9c-4176-fbff-f83d40759c0c"
      },
      "execution_count": null,
      "outputs": [
        {
          "output_type": "stream",
          "name": "stdout",
          "text": [
            "[Errno 2] No such file or directory: 'MyDrive'\n",
            "/content/gdrive/MyDrive\n",
            "'Anthony super bello 2.zip'               'LISTA EPISODI COMPLETA 7.4.gdoc'\n",
            " Backup_Rubrica.vcf                       'Modulo senza titolo.gform'\n",
            " Cattura.JPG                              'PROGETTO DEF NON OTTIMIZZATO.txt'\n",
            "'CENSORED TRACKLIST.png'                  'PROGETTO DEF OTTIMIZZATO.txt'\n",
            "'CENSORED TRACKLIST STORIA.png'            \u001b[0m\u001b[01;34mRS_Challenge\u001b[0m/\n",
            "\u001b[01;34m'Colab Notebooks'\u001b[0m/                         SantoriniClient.zip\n",
            " \u001b[01;34mcontent\u001b[0m/                                 \u001b[01;34m'SONGS REVIEW'\u001b[0m/\n",
            "\u001b[01;34m'DRIVER EPSON'\u001b[0m/                           'TRACKLIST CLEAN.png'\n",
            "'FSM RESTAR MULTI START OTTIMIZZATA.txt'  'TRACKLIST CLEAN STORY.png'\n"
          ]
        }
      ]
    },
    {
      "cell_type": "code",
      "source": [
        "submission_df.to_csv('RS_Challenge/submission_Round_Robin_3SLIM1MF_Common.csv', index=False)"
      ],
      "metadata": {
        "id": "7GH0c-Hk_ZZJ"
      },
      "execution_count": null,
      "outputs": []
    },
    {
      "cell_type": "markdown",
      "source": [
        "Check how much my hybrid is different from SLIM"
      ],
      "metadata": {
        "id": "JRFGkQoVA-YD"
      }
    },
    {
      "cell_type": "code",
      "source": [
        "Hybrid = pd.read_csv('RS_Challenge/submission_Round_Robin_3SLIM1MF_Common.csv')\n",
        "Hybrid_ll = Hybrid.values.tolist() # Converting the DF in a List of Lists\n",
        "Hybrid_list = Hybrid_ll[0][1].split() # Taking the recommendations for user 0 and coverting them into a list\n",
        "print(Hybrid_list)\n",
        "print(len(Hybrid_list))"
      ],
      "metadata": {
        "colab": {
          "base_uri": "https://localhost:8080/"
        },
        "id": "hKNhSdCqA-Dr",
        "outputId": "a1d57db2-41db-4f1b-efb0-e20177987ed3"
      },
      "execution_count": null,
      "outputs": [
        {
          "output_type": "stream",
          "name": "stdout",
          "text": [
            "['3899', '5433', '16359', '6061', '640', '8465', '16365', '2243', '9130', '10586']\n",
            "10\n"
          ]
        }
      ]
    },
    {
      "cell_type": "code",
      "source": [
        "# Controlliamo che nell'hybrid ci siano 10 oggetti per utente\n",
        "\n",
        "len_ok = True\n",
        "\n",
        "for user in target_users['user_id']:\n",
        "  Hybrid_list = Hybrid_ll[user][1].split()\n",
        "  if len(Hybrid_list) != 10:\n",
        "    len_ok = False\n",
        "\n",
        "if(len_ok):\n",
        "  print(\"OK\")\n"
      ],
      "metadata": {
        "colab": {
          "base_uri": "https://localhost:8080/"
        },
        "id": "WcDJzQzbCzez",
        "outputId": "2b2e6aa9-4440-43c8-c36f-ed0eb9692616"
      },
      "execution_count": null,
      "outputs": [
        {
          "output_type": "stream",
          "name": "stdout",
          "text": [
            "OK\n"
          ]
        }
      ]
    },
    {
      "cell_type": "code",
      "source": [
        "# Controlliamo quanto l'hybrid appena creato è diverso da SLIM (Hybrid con 3SLIM 1MF)\n",
        "\n",
        "num10 = 0\n",
        "num9 = 0\n",
        "num8 = 0\n",
        "num7 = 0\n",
        "num6 = 0\n",
        "num5 = 0\n",
        "num4 = 0\n",
        "num3 = 0\n",
        "num2 = 0\n",
        "num1 = 0\n",
        "num0 = 0\n",
        "\n",
        "for user in target_users['user_id']:\n",
        "  count = 0\n",
        "  Hybrid_list = Hybrid_ll[user][1].split()\n",
        "  SLIM_list = SLIM_ll[user][1].split()\n",
        "  for k in range(10):\n",
        "    if(SLIM_list[k] in Hybrid_list):\n",
        "      count = count + 1\n",
        "  \n",
        "  if count == 10: num10=num10+1\n",
        "  if count == 9: num9=num9+1\n",
        "  if count == 8: num8=num8+1\n",
        "  if count == 7: num7=num7+1\n",
        "  if count == 6: num6=num6+1\n",
        "  if count == 5: num5=num5+1\n",
        "  if count == 4: num4=num4+1\n",
        "  if count == 3: num3=num3+1\n",
        "  if count == 2: num2=num2+1\n",
        "  if count == 1: num1=num1+1\n",
        "\n",
        "print(num10)\n",
        "print(num9)\n",
        "print(num8)\n",
        "print(num7)\n",
        "print(num6)\n",
        "print(num5)\n",
        "print(num4)\n",
        "print(num3)\n",
        "print(num2)\n",
        "print(num1)"
      ],
      "metadata": {
        "colab": {
          "base_uri": "https://localhost:8080/"
        },
        "id": "DGCmdqvlEFD1",
        "outputId": "4cd5fdac-8acc-4654-f5f5-d2b7fc3e4287"
      },
      "execution_count": null,
      "outputs": [
        {
          "output_type": "stream",
          "name": "stdout",
          "text": [
            "9078\n",
            "4143\n",
            "429\n",
            "0\n",
            "0\n",
            "0\n",
            "0\n",
            "0\n",
            "0\n",
            "0\n"
          ]
        }
      ]
    },
    {
      "cell_type": "code",
      "source": [
        "Hybrid = pd.read_csv('RS_Challenge/submission_Round_Robin_2SLIM1MF_Common.csv')\n",
        "Hybrid_ll = Hybrid.values.tolist() # Converting the DF in a List of Lists\n",
        "Hybrid_list = Hybrid_ll[0][1].split() # Taking the recommendations for user 0 and coverting them into a list\n",
        "print(Hybrid_list)\n",
        "print(len(Hybrid_list))"
      ],
      "metadata": {
        "colab": {
          "base_uri": "https://localhost:8080/"
        },
        "id": "m3QW_y1DNNPc",
        "outputId": "651976ca-b7c8-4f53-db42-5abdf691dd1d"
      },
      "execution_count": null,
      "outputs": [
        {
          "output_type": "stream",
          "name": "stdout",
          "text": [
            "['3899', '5433', '16359', '6061', '640', '8465', '16365', '2243', '12752', '9130']\n",
            "10\n"
          ]
        }
      ]
    },
    {
      "cell_type": "code",
      "source": [
        "# Controlliamo quanto l'hybrid appena creato è diverso da SLIM (Hybrid con 2SLIM 1MF)\n",
        "\n",
        "num10 = 0\n",
        "num9 = 0\n",
        "num8 = 0\n",
        "num7 = 0\n",
        "num6 = 0\n",
        "num5 = 0\n",
        "num4 = 0\n",
        "num3 = 0\n",
        "num2 = 0\n",
        "num1 = 0\n",
        "num0 = 0\n",
        "\n",
        "for user in target_users['user_id']:\n",
        "  count = 0\n",
        "  Hybrid_list = Hybrid_ll[user][1].split()\n",
        "  SLIM_list = SLIM_ll[user][1].split()\n",
        "  for k in range(10):\n",
        "    if(SLIM_list[k] in Hybrid_list):\n",
        "      count = count + 1\n",
        "  \n",
        "  if count == 10: num10=num10+1\n",
        "  if count == 9: num9=num9+1\n",
        "  if count == 8: num8=num8+1\n",
        "  if count == 7: num7=num7+1\n",
        "  if count == 6: num6=num6+1\n",
        "  if count == 5: num5=num5+1\n",
        "  if count == 4: num4=num4+1\n",
        "  if count == 3: num3=num3+1\n",
        "  if count == 2: num2=num2+1\n",
        "  if count == 1: num1=num1+1\n",
        "\n",
        "print(num10)\n",
        "print(num9)\n",
        "print(num8)\n",
        "print(num7)\n",
        "print(num6)\n",
        "print(num5)\n",
        "print(num4)\n",
        "print(num3)\n",
        "print(num2)\n",
        "print(num1)"
      ],
      "metadata": {
        "colab": {
          "base_uri": "https://localhost:8080/"
        },
        "id": "xgZc3rAkNGS5",
        "outputId": "af507c6c-6644-44a4-fa50-428f447ff5cb"
      },
      "execution_count": null,
      "outputs": [
        {
          "output_type": "stream",
          "name": "stdout",
          "text": [
            "6617\n",
            "5068\n",
            "1810\n",
            "155\n",
            "0\n",
            "0\n",
            "0\n",
            "0\n",
            "0\n",
            "0\n"
          ]
        }
      ]
    }
  ]
}