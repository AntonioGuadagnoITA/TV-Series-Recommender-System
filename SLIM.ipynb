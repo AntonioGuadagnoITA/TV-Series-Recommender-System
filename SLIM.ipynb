{
  "nbformat": 4,
  "nbformat_minor": 0,
  "metadata": {
    "colab": {
      "name": "RS_SLIM_47%.ipynb",
      "provenance": [],
      "collapsed_sections": []
    },
    "kernelspec": {
      "display_name": "Python 3",
      "name": "python3"
    },
    "language_info": {
      "name": "python"
    }
  },
  "cells": [
    {
      "cell_type": "code",
      "metadata": {
        "colab": {
          "base_uri": "https://localhost:8080/"
        },
        "id": "LFlT6nkAWskh",
        "outputId": "4d13e0e1-434a-42e1-b01f-62e9381c7ecd"
      },
      "source": [
        "#Connecting to google drive\n",
        "from google.colab import drive \n",
        "drive.mount('/content/gdrive',force_remount=True)"
      ],
      "execution_count": 1,
      "outputs": [
        {
          "output_type": "stream",
          "name": "stdout",
          "text": [
            "Mounted at /content/gdrive\n"
          ]
        }
      ]
    },
    {
      "cell_type": "code",
      "metadata": {
        "colab": {
          "base_uri": "https://localhost:8080/"
        },
        "id": "IOxo6wtFYcWJ",
        "outputId": "46569cb9-fd39-4a5d-cbf1-eb735076ee44"
      },
      "source": [
        "%cd gdrive/My Drive/RS_Challenge/RSLib\n",
        "%ls"
      ],
      "execution_count": 2,
      "outputs": [
        {
          "output_type": "stream",
          "name": "stdout",
          "text": [
            "/content/gdrive/My Drive/RS_Challenge/RSLib\n",
            "\u001b[0m\u001b[01;34mRecSys_Course_AT_PoliMi-master\u001b[0m/\n"
          ]
        }
      ]
    },
    {
      "cell_type": "code",
      "metadata": {
        "colab": {
          "base_uri": "https://localhost:8080/"
        },
        "id": "uyeCiqzqYq-b",
        "outputId": "ad6262dd-39bc-4fb5-aaf9-4dbf530801a7"
      },
      "source": [
        "!ls */*.py"
      ],
      "execution_count": 3,
      "outputs": [
        {
          "output_type": "stream",
          "name": "stdout",
          "text": [
            "RecSys_Course_AT_PoliMi-master/cython_example_FunkSVD.py\n",
            "RecSys_Course_AT_PoliMi-master/cython_example_SLIM_MSE.py\n",
            "RecSys_Course_AT_PoliMi-master/run_all_algorithms.py\n",
            "RecSys_Course_AT_PoliMi-master/run_compile_all_cython.py\n",
            "RecSys_Course_AT_PoliMi-master/run_hyperparameter_search.py\n",
            "RecSys_Course_AT_PoliMi-master/run_test_recommenders.py\n"
          ]
        }
      ]
    },
    {
      "cell_type": "code",
      "metadata": {
        "id": "2ueKvUiuYyX9"
      },
      "source": [
        "#Importing course's repositories\n",
        "import sys\n",
        "sys.path.append('/content/gdrive/My Drive/RS_Challenge/RSLib/RecSys_Course_AT_PoliMi-master')"
      ],
      "execution_count": 4,
      "outputs": []
    },
    {
      "cell_type": "code",
      "source": [
        "#To use skopt\n",
        "! pip install --quiet lightgbm==2.2.3 scikit-optimize==0.9.0 neptune-client==0.4.132 neptune-contrib[monitoring]==0.25.0"
      ],
      "metadata": {
        "colab": {
          "base_uri": "https://localhost:8080/"
        },
        "id": "UvS1s1l-1_wm",
        "outputId": "081dc960-d216-432c-8af2-55e513ced4cc"
      },
      "execution_count": 5,
      "outputs": [
        {
          "output_type": "stream",
          "name": "stdout",
          "text": [
            "\u001b[?25l\r\u001b[K     |███▎                            | 10 kB 14.1 MB/s eta 0:00:01\r\u001b[K     |██████▌                         | 20 kB 18.3 MB/s eta 0:00:01\r\u001b[K     |█████████▉                      | 30 kB 22.0 MB/s eta 0:00:01\r\u001b[K     |█████████████                   | 40 kB 25.0 MB/s eta 0:00:01\r\u001b[K     |████████████████▍               | 51 kB 26.8 MB/s eta 0:00:01\r\u001b[K     |███████████████████▋            | 61 kB 28.5 MB/s eta 0:00:01\r\u001b[K     |██████████████████████▉         | 71 kB 24.8 MB/s eta 0:00:01\r\u001b[K     |██████████████████████████▏     | 81 kB 26.1 MB/s eta 0:00:01\r\u001b[K     |█████████████████████████████▍  | 92 kB 27.3 MB/s eta 0:00:01\r\u001b[K     |████████████████████████████████| 100 kB 8.1 MB/s \n",
            "\u001b[K     |████████████████████████████████| 110 kB 55.9 MB/s \n",
            "\u001b[K     |████████████████████████████████| 67 kB 5.6 MB/s \n",
            "\u001b[K     |████████████████████████████████| 829 kB 34.0 MB/s \n",
            "\u001b[K     |████████████████████████████████| 53 kB 1.7 MB/s \n",
            "\u001b[K     |████████████████████████████████| 180 kB 53.6 MB/s \n",
            "\u001b[K     |████████████████████████████████| 106 kB 72.3 MB/s \n",
            "\u001b[K     |████████████████████████████████| 175 kB 70.1 MB/s \n",
            "\u001b[K     |████████████████████████████████| 63 kB 1.8 MB/s \n",
            "\u001b[K     |████████████████████████████████| 99 kB 10.4 MB/s \n",
            "\u001b[K     |████████████████████████████████| 67 kB 5.5 MB/s \n",
            "\u001b[K     |████████████████████████████████| 130 kB 57.7 MB/s \n",
            "\u001b[K     |████████████████████████████████| 564 kB 47.0 MB/s \n",
            "\u001b[?25h  Building wheel for neptune-client (setup.py) ... \u001b[?25l\u001b[?25hdone\n",
            "  Building wheel for neptune-contrib (setup.py) ... \u001b[?25l\u001b[?25hdone\n",
            "  Building wheel for future (setup.py) ... \u001b[?25l\u001b[?25hdone\n",
            "  Building wheel for py-cpuinfo (setup.py) ... \u001b[?25l\u001b[?25hdone\n",
            "  Building wheel for strict-rfc3339 (setup.py) ... \u001b[?25l\u001b[?25hdone\n",
            "  Building wheel for memory-profiler (setup.py) ... \u001b[?25l\u001b[?25hdone\n"
          ]
        }
      ]
    },
    {
      "cell_type": "code",
      "metadata": {
        "colab": {
          "base_uri": "https://localhost:8080/"
        },
        "id": "gc4Jcu0fZCZJ",
        "outputId": "fb0feb05-98c4-4228-fa3e-6a9878ddbb3f"
      },
      "source": [
        "#Importing libraries\n",
        "import pandas as pd \n",
        "import scipy.sparse as sps\n",
        "import numpy as np\n",
        "import time\n",
        "import matplotlib.pyplot as pyplot\n",
        "import os\n",
        "from Evaluation.Evaluator import EvaluatorHoldout\n",
        "from Data_manager.split_functions.split_train_validation_random_holdout import split_train_in_two_percentage_global_sample\n",
        "from Recommenders.Similarity.Compute_Similarity_Python import Compute_Similarity_Python\n",
        "from Recommenders.SLIM.SLIMElasticNetRecommender import SLIMElasticNetRecommender\n",
        "from HyperparameterTuning.SearchBayesianSkopt import SearchBayesianSkopt\n",
        "from HyperparameterTuning.SearchAbstractClass import SearchInputRecommenderArgs\n",
        "\n",
        "print(\"DEBUG\")"
      ],
      "execution_count": 6,
      "outputs": [
        {
          "output_type": "stream",
          "name": "stdout",
          "text": [
            "DEBUG\n"
          ]
        }
      ]
    },
    {
      "cell_type": "code",
      "metadata": {
        "colab": {
          "base_uri": "https://localhost:8080/"
        },
        "id": "oZixAobTZ39k",
        "outputId": "77b3a6bc-80f8-4ee3-b562-7444d1c15111"
      },
      "source": [
        "%cd ..\n",
        "%ls"
      ],
      "execution_count": 7,
      "outputs": [
        {
          "output_type": "stream",
          "name": "stdout",
          "text": [
            "/content/gdrive/My Drive/RS_Challenge\n",
            " \u001b[0m\u001b[01;34mRSDs\u001b[0m/                     submission_MFIALS_full_URM.csv\n",
            " \u001b[01;34mRSLib\u001b[0m/                    submission_Round_Robin_2SLIM1MF_Common.csv\n",
            "'RS_MF_IALS 41,8%.ipynb'   submission_Round_Robin_3SLIM1MF_Common.csv\n",
            " RS_PureSVD.ipynb          submission_Round_Robin.csv\n",
            " RS_SLIM_47%.ipynb         submission_SLIM_full_URM.csv\n"
          ]
        }
      ]
    },
    {
      "cell_type": "code",
      "metadata": {
        "id": "Y4jzSuLZZLjE"
      },
      "source": [
        "#Loading dataframes\n",
        "URM_dataframe = pd.read_csv('RSDs/data_train.csv')\n",
        "ICM_genre_dataframe=pd.read_csv('RSDs/data_ICM_genre.csv')\n",
        "ICM_subgenre_dataframe=pd.read_csv('RSDs/data_ICM_subgenre.csv')\n",
        "ICM_event_dataframe=pd.read_csv('RSDs/data_ICM_event.csv')\n",
        "ICM_channel_dataframe=pd.read_csv('RSDs/data_ICM_channel.csv')"
      ],
      "execution_count": 8,
      "outputs": []
    },
    {
      "cell_type": "code",
      "metadata": {
        "id": "Bs8W6l3IaK3z"
      },
      "source": [
        "#Column Renaming\n",
        "URM_dataframe.columns = ['User','Item','Interaction']\n",
        "ICM_genre_dataframe.columns = ['Item','Feature','Val']\n",
        "ICM_subgenre_dataframe.columns = ['Item','Feature','Val']\n",
        "ICM_event_dataframe.columns = ['Item','Feature','Val']\n",
        "ICM_channel_dataframe.columns = ['Item','Feature','Val']"
      ],
      "execution_count": 9,
      "outputs": []
    },
    {
      "cell_type": "code",
      "metadata": {
        "id": "aq7xFKS4aL1O"
      },
      "source": [
        "#Converting datatype\n",
        "URM_dataframe['Interaction'] = URM_dataframe['Interaction'].astype(int)\n",
        "ICM_genre_dataframe['Val'] = ICM_genre_dataframe['Val'].astype(int)\n",
        "ICM_subgenre_dataframe['Val'] = ICM_subgenre_dataframe['Val'].astype(int)\n",
        "ICM_event_dataframe['Val'] = ICM_event_dataframe['Val'].astype(int)\n",
        "ICM_channel_dataframe['Val'] = ICM_channel_dataframe['Val'].astype(int)"
      ],
      "execution_count": 10,
      "outputs": []
    },
    {
      "cell_type": "code",
      "metadata": {
        "colab": {
          "base_uri": "https://localhost:8080/"
        },
        "id": "aZAaTBClaVXp",
        "outputId": "81d4e420-9560-469e-eacf-0054aef83bf8"
      },
      "source": [
        "#Printing stats to see if everything went well\n",
        "userID_unique = URM_dataframe[\"User\"].unique()\n",
        "itemID_unique = URM_dataframe[\"Item\"].unique()\n",
        "n_users = len(userID_unique)\n",
        "n_items = len(itemID_unique)\n",
        "n_interactions = len(URM_dataframe)\n",
        "\n",
        "#Printing some stats\n",
        "print(\"Number of users: \" + str(n_users))\n",
        "print(\"Number of items: \" + str(n_items))\n",
        "print(\"Number of interactions: \" + str(n_interactions))"
      ],
      "execution_count": 11,
      "outputs": [
        {
          "output_type": "stream",
          "name": "stdout",
          "text": [
            "Number of users: 13650\n",
            "Number of items: 18059\n",
            "Number of interactions: 5285664\n"
          ]
        }
      ]
    },
    {
      "cell_type": "code",
      "metadata": {
        "colab": {
          "base_uri": "https://localhost:8080/"
        },
        "id": "yB4mwV2paWVD",
        "outputId": "9edd9d02-d411-405b-de12-813b96fb96e1"
      },
      "source": [
        "#Checking if re-assignment of ID's is needed\n",
        "print('The maxID for user {}, The maxID for item {}'.format(max(URM_dataframe.User),max(URM_dataframe.Item)))"
      ],
      "execution_count": 12,
      "outputs": [
        {
          "output_type": "stream",
          "name": "stdout",
          "text": [
            "The maxID for user 13649, The maxID for item 18058\n"
          ]
        }
      ]
    },
    {
      "cell_type": "markdown",
      "metadata": {
        "id": "x-6SNHkf6kKU"
      },
      "source": [
        "Re-assignment not needed"
      ]
    },
    {
      "cell_type": "code",
      "metadata": {
        "colab": {
          "base_uri": "https://localhost:8080/"
        },
        "id": "h_WVD6-9aaUZ",
        "outputId": "e402b00d-0e55-45fd-afb2-ae6086e6c7fb"
      },
      "source": [
        "#Converting the URM into a sparse matrix\n",
        "URM_sparse = sps.coo_matrix((URM_dataframe['Interaction'].values,(URM_dataframe['User'].values,URM_dataframe['Item'].values)))\n",
        "URM_csr = URM_sparse.tocsr()\n",
        "URM_csr"
      ],
      "execution_count": 22,
      "outputs": [
        {
          "output_type": "execute_result",
          "data": {
            "text/plain": [
              "<13650x18059 sparse matrix of type '<class 'numpy.longlong'>'\n",
              "\twith 5285664 stored elements in Compressed Sparse Row format>"
            ]
          },
          "metadata": {},
          "execution_count": 22
        }
      ]
    },
    {
      "cell_type": "code",
      "metadata": {
        "colab": {
          "base_uri": "https://localhost:8080/"
        },
        "id": "MqGmEtuKabZ_",
        "outputId": "62ffdafa-c55d-4b42-ba19-4e5577bd659c"
      },
      "source": [
        "#Splitting data into training and validation set (Test set is the one on Kaggle)\n",
        "URM_train, URM_validation = split_train_in_two_percentage_global_sample(URM_csr, train_percentage = 0.80)\n",
        "evaluator_validation = EvaluatorHoldout(URM_validation, cutoff_list=[10])"
      ],
      "execution_count": 23,
      "outputs": [
        {
          "output_type": "stream",
          "name": "stdout",
          "text": [
            "Warning: 7 (0.05 %) of 13650 users have no sampled items\n",
            "EvaluatorHoldout: Ignoring 13643 ( 0.1%) Users that have less than 1 test interactions\n"
          ]
        }
      ]
    },
    {
      "cell_type": "code",
      "metadata": {
        "id": "bg6cZbP3a0J2"
      },
      "source": [
        "#Using SLIM imported from course's libraries\n",
        "recommender = SLIMElasticNetRecommender(URM_sparse) # Previously I've worked with train+validation, now I use the entire URM to obtain better performances on the test set"
      ],
      "execution_count": 24,
      "outputs": []
    },
    {
      "cell_type": "markdown",
      "metadata": {
        "id": "oqJ5BZ98vA3X"
      },
      "source": [
        "Hyperparameters tuning (actually not used). This procedure takes a lot of time if we use SLIM. I've written the code for other methods such as MF techniques that I used fot the hybrid RS. Of course, different RS means different parameters to be tuned."
      ]
    },
    {
      "cell_type": "code",
      "metadata": {
        "id": "cI9AIX4acc8f"
      },
      "source": [
        "from skopt.space import Real, Integer, Categorical"
      ],
      "execution_count": 25,
      "outputs": []
    },
    {
      "cell_type": "code",
      "metadata": {
        "id": "N1LT5j_ice4f"
      },
      "source": [
        "hyperparameters_range_dictionary = {\n",
        "    \"topK\": Integer(2999,3100),\n",
        "    \"l1_ratio\": Real(0.00022,0.00023),\n",
        "    \"alpha\": Real(0.07,0.08)\n",
        "}"
      ],
      "execution_count": 26,
      "outputs": []
    },
    {
      "cell_type": "code",
      "metadata": {
        "id": "GQ8LnP-Ke6MF"
      },
      "source": [
        "recommender_class = SLIMElasticNetRecommender\n",
        "hyperparameterSearch = SearchBayesianSkopt(recommender_class, evaluator_validation=evaluator_validation)"
      ],
      "execution_count": 27,
      "outputs": []
    },
    {
      "cell_type": "code",
      "metadata": {
        "id": "6IYiK4SDfAza"
      },
      "source": [
        "recommender_input_args = SearchInputRecommenderArgs(\n",
        "    CONSTRUCTOR_POSITIONAL_ARGS = [URM_train],    \n",
        "    CONSTRUCTOR_KEYWORD_ARGS = {},\n",
        "    FIT_POSITIONAL_ARGS = [],\n",
        "    FIT_KEYWORD_ARGS = {}\n",
        ")\n",
        "recommender_input_args_last_test = SearchInputRecommenderArgs(\n",
        "    CONSTRUCTOR_POSITIONAL_ARGS = [URM_validation],     \n",
        "    CONSTRUCTOR_KEYWORD_ARGS = {},\n",
        "    FIT_POSITIONAL_ARGS = [],\n",
        "    FIT_KEYWORD_ARGS = {}\n",
        ")"
      ],
      "execution_count": 28,
      "outputs": []
    },
    {
      "cell_type": "code",
      "metadata": {
        "id": "76TuUbn6fUT8"
      },
      "source": [
        "output_folder_path = '/content/gdrive/MyDrive/Colab Notebooks/RSChallenge/Results/SLIM_res/'\n",
        "\n",
        "# If directory does not exist, create\n",
        "if not os.path.exists(output_folder_path):\n",
        "    os.makedirs(output_folder_path)\n",
        "    \n",
        "n_cases = 5 \n",
        "n_random_starts = int(n_cases*0.3)\n",
        "metric_to_optimize = \"MAP\"   \n",
        "cutoff_to_optimize = 10"
      ],
      "execution_count": 29,
      "outputs": []
    },
    {
      "cell_type": "code",
      "metadata": {
        "id": "oYygdf6MkeYI",
        "colab": {
          "base_uri": "https://localhost:8080/"
        },
        "outputId": "0c9a5d4b-4de7-47da-a783-30e12d5da381"
      },
      "source": [
        "hyperparameterSearch.search(recommender_input_args,\n",
        "                       recommender_input_args_last_test = recommender_input_args_last_test,\n",
        "                       hyperparameter_search_space = hyperparameters_range_dictionary,\n",
        "                       n_cases = n_cases,\n",
        "                       n_random_starts = n_random_starts,\n",
        "                       save_model = \"last\",\n",
        "                       output_folder_path = output_folder_path, \n",
        "                       output_file_name_root = recommender_class.RECOMMENDER_NAME, \n",
        "                       metric_to_optimize = metric_to_optimize,\n",
        "                       cutoff_to_optimize = cutoff_to_optimize,\n",
        "                      )"
      ],
      "execution_count": 30,
      "outputs": [
        {
          "output_type": "stream",
          "name": "stdout",
          "text": [
            "Iteration No: 1 started. Evaluating function at random point.\n",
            "SearchBayesianSkopt: Testing config: {'topK': 3077, 'l1_ratio': 0.00022375159155730377, 'alpha': 0.07452037602641845}\n",
            "SLIMElasticNetRecommender: Processed 1499 ( 8.3%) in 5.00 min. Items per second: 4.99\n",
            "SLIMElasticNetRecommender: Processed 3087 (17.1%) in 10.00 min. Items per second: 5.14\n",
            "SLIMElasticNetRecommender: Processed 4624 (25.6%) in 15.01 min. Items per second: 5.13\n",
            "SLIMElasticNetRecommender: Processed 6270 (34.7%) in 20.01 min. Items per second: 5.22\n",
            "SLIMElasticNetRecommender: Processed 7919 (43.9%) in 25.01 min. Items per second: 5.28\n",
            "SLIMElasticNetRecommender: Processed 9573 (53.0%) in 30.01 min. Items per second: 5.32\n",
            "SLIMElasticNetRecommender: Processed 11232 (62.2%) in 35.01 min. Items per second: 5.35\n",
            "SLIMElasticNetRecommender: Processed 12875 (71.3%) in 40.01 min. Items per second: 5.36\n",
            "SLIMElasticNetRecommender: Processed 14492 (80.2%) in 45.01 min. Items per second: 5.37\n",
            "SLIMElasticNetRecommender: Processed 16131 (89.3%) in 50.01 min. Items per second: 5.38\n",
            "SLIMElasticNetRecommender: Processed 17761 (98.3%) in 55.02 min. Items per second: 5.38\n",
            "SLIMElasticNetRecommender: Processed 18059 (100.0%) in 55.93 min. Items per second: 5.38\n",
            "EvaluatorHoldout: Processed 13643 (100.0%) in 27.54 sec. Users per second: 495\n",
            "SearchBayesianSkopt: New best config found. Config 0: {'topK': 3077, 'l1_ratio': 0.00022375159155730377, 'alpha': 0.07452037602641845} - results: PRECISION: 0.4019717, PRECISION_RECALL_MIN_DEN: 0.4039713, RECALL: 0.0723905, MAP: 0.2498267, MAP_MIN_DEN: 0.2507085, MRR: 0.6491680, NDCG: 0.4163655, F1: 0.1226866, HIT_RATE: 0.9748589, ARHR_ALL_HITS: 1.2515407, NOVELTY: 0.0055170, AVERAGE_POPULARITY: 0.5480786, DIVERSITY_MEAN_INTER_LIST: 0.9151118, DIVERSITY_HERFINDAHL: 0.9915045, COVERAGE_ITEM: 0.0741459, COVERAGE_ITEM_CORRECT: 0.0523839, COVERAGE_USER: 0.9994872, COVERAGE_USER_CORRECT: 0.9743590, DIVERSITY_GINI: 0.0106689, SHANNON_ENTROPY: 7.8564821, RATIO_DIVERSITY_HERFINDAHL: 0.9918872, RATIO_DIVERSITY_GINI: 0.0430296, RATIO_SHANNON_ENTROPY: 0.6340935, RATIO_AVERAGE_POPULARITY: 2.6834004, RATIO_NOVELTY: 0.0259579, \n",
            "\n",
            "Iteration No: 1 ended. Evaluation done at random point.\n",
            "Time taken: 3385.2459\n",
            "Function value obtained: -0.2498\n",
            "Current minimum: -0.2498\n",
            "Iteration No: 2 started. Searching for the next optimal point.\n",
            "SearchBayesianSkopt: Testing config: {'topK': 2999, 'l1_ratio': 0.00023, 'alpha': 0.08}\n",
            "SLIMElasticNetRecommender: Processed 1627 ( 9.0%) in 5.00 min. Items per second: 5.42\n",
            "SLIMElasticNetRecommender: Processed 3275 (18.1%) in 10.00 min. Items per second: 5.46\n",
            "SLIMElasticNetRecommender: Processed 4947 (27.4%) in 15.00 min. Items per second: 5.49\n",
            "SLIMElasticNetRecommender: Processed 6630 (36.7%) in 20.00 min. Items per second: 5.52\n",
            "SLIMElasticNetRecommender: Processed 8314 (46.0%) in 25.00 min. Items per second: 5.54\n",
            "SLIMElasticNetRecommender: Processed 9986 (55.3%) in 30.01 min. Items per second: 5.55\n",
            "SLIMElasticNetRecommender: Processed 11658 (64.6%) in 35.01 min. Items per second: 5.55\n",
            "SLIMElasticNetRecommender: Processed 13316 (73.7%) in 40.01 min. Items per second: 5.55\n",
            "SLIMElasticNetRecommender: Processed 14987 (83.0%) in 45.01 min. Items per second: 5.55\n",
            "SLIMElasticNetRecommender: Processed 16652 (92.2%) in 50.01 min. Items per second: 5.55\n",
            "SLIMElasticNetRecommender: Processed 18059 (100.0%) in 54.22 min. Items per second: 5.55\n",
            "EvaluatorHoldout: Processed 13643 (100.0%) in 27.51 sec. Users per second: 496\n",
            "SearchBayesianSkopt: Config 1 is suboptimal. Config: {'topK': 2999, 'l1_ratio': 0.00023, 'alpha': 0.08} - results: PRECISION: 0.4017152, PRECISION_RECALL_MIN_DEN: 0.4036488, RECALL: 0.0722593, MAP: 0.2497493, MAP_MIN_DEN: 0.2506231, MRR: 0.6495296, NDCG: 0.4162456, F1: 0.1224861, HIT_RATE: 0.9746390, ARHR_ALL_HITS: 1.2516645, NOVELTY: 0.0055123, AVERAGE_POPULARITY: 0.5502263, DIVERSITY_MEAN_INTER_LIST: 0.9139558, DIVERSITY_HERFINDAHL: 0.9913889, COVERAGE_ITEM: 0.0728723, COVERAGE_ITEM_CORRECT: 0.0516086, COVERAGE_USER: 0.9994872, COVERAGE_USER_CORRECT: 0.9741392, DIVERSITY_GINI: 0.0104816, SHANNON_ENTROPY: 7.8324765, RATIO_DIVERSITY_HERFINDAHL: 0.9917715, RATIO_DIVERSITY_GINI: 0.0422741, RATIO_SHANNON_ENTROPY: 0.6321560, RATIO_AVERAGE_POPULARITY: 2.6939157, RATIO_NOVELTY: 0.0259353, \n",
            "\n",
            "Iteration No: 2 ended. Search finished for the next optimal point.\n",
            "Time taken: 3282.3837\n",
            "Function value obtained: -0.2497\n",
            "Current minimum: -0.2498\n",
            "Iteration No: 3 started. Searching for the next optimal point.\n",
            "SearchBayesianSkopt: Testing config: {'topK': 3053, 'l1_ratio': 0.0002203429976448457, 'alpha': 0.07953159169470647}\n",
            "SLIMElasticNetRecommender: Processed 1675 ( 9.3%) in 5.00 min. Items per second: 5.58\n",
            "SLIMElasticNetRecommender: Processed 3346 (18.5%) in 10.00 min. Items per second: 5.57\n",
            "SLIMElasticNetRecommender: Processed 5024 (27.8%) in 15.00 min. Items per second: 5.58\n",
            "SLIMElasticNetRecommender: Processed 6683 (37.0%) in 20.01 min. Items per second: 5.57\n",
            "SLIMElasticNetRecommender: Processed 8366 (46.3%) in 25.01 min. Items per second: 5.58\n",
            "SLIMElasticNetRecommender: Processed 10046 (55.6%) in 30.01 min. Items per second: 5.58\n",
            "SLIMElasticNetRecommender: Processed 11733 (65.0%) in 35.01 min. Items per second: 5.59\n",
            "SLIMElasticNetRecommender: Processed 13410 (74.3%) in 40.01 min. Items per second: 5.59\n",
            "SLIMElasticNetRecommender: Processed 15086 (83.5%) in 45.01 min. Items per second: 5.59\n",
            "SLIMElasticNetRecommender: Processed 16753 (92.8%) in 50.01 min. Items per second: 5.58\n",
            "SLIMElasticNetRecommender: Processed 18059 (100.0%) in 53.93 min. Items per second: 5.58\n",
            "EvaluatorHoldout: Processed 13643 (100.0%) in 27.62 sec. Users per second: 494\n",
            "SearchBayesianSkopt: Config 2 is suboptimal. Config: {'topK': 3053, 'l1_ratio': 0.0002203429976448457, 'alpha': 0.07953159169470647} - results: PRECISION: 0.4018251, PRECISION_RECALL_MIN_DEN: 0.4037587, RECALL: 0.0722847, MAP: 0.2498146, MAP_MIN_DEN: 0.2506887, MRR: 0.6494483, NDCG: 0.4163110, F1: 0.1225277, HIT_RATE: 0.9746390, ARHR_ALL_HITS: 1.2517384, NOVELTY: 0.0055126, AVERAGE_POPULARITY: 0.5500893, DIVERSITY_MEAN_INTER_LIST: 0.9140400, DIVERSITY_HERFINDAHL: 0.9913973, COVERAGE_ITEM: 0.0730384, COVERAGE_ITEM_CORRECT: 0.0516640, COVERAGE_USER: 0.9994872, COVERAGE_USER_CORRECT: 0.9741392, DIVERSITY_GINI: 0.0104959, SHANNON_ENTROPY: 7.8342452, RATIO_DIVERSITY_HERFINDAHL: 0.9917799, RATIO_DIVERSITY_GINI: 0.0423319, RATIO_SHANNON_ENTROPY: 0.6322988, RATIO_AVERAGE_POPULARITY: 2.6932448, RATIO_NOVELTY: 0.0259368, \n",
            "\n",
            "Iteration No: 3 ended. Search finished for the next optimal point.\n",
            "Time taken: 3264.9101\n",
            "Function value obtained: -0.2498\n",
            "Current minimum: -0.2498\n",
            "Iteration No: 4 started. Searching for the next optimal point.\n",
            "SearchBayesianSkopt: Testing config: {'topK': 3100, 'l1_ratio': 0.0002204448537910578, 'alpha': 0.079724114437381}\n",
            "SLIMElasticNetRecommender: Processed 1675 ( 9.3%) in 5.00 min. Items per second: 5.58\n",
            "SLIMElasticNetRecommender: Processed 3365 (18.6%) in 10.00 min. Items per second: 5.60\n",
            "SLIMElasticNetRecommender: Processed 5057 (28.0%) in 15.00 min. Items per second: 5.62\n",
            "SLIMElasticNetRecommender: Processed 6727 (37.3%) in 20.01 min. Items per second: 5.60\n",
            "SLIMElasticNetRecommender: Processed 8418 (46.6%) in 25.01 min. Items per second: 5.61\n",
            "SLIMElasticNetRecommender: Processed 10113 (56.0%) in 30.01 min. Items per second: 5.62\n",
            "SLIMElasticNetRecommender: Processed 11788 (65.3%) in 35.01 min. Items per second: 5.61\n",
            "SLIMElasticNetRecommender: Processed 13440 (74.4%) in 40.01 min. Items per second: 5.60\n",
            "SLIMElasticNetRecommender: Processed 15129 (83.8%) in 45.02 min. Items per second: 5.60\n",
            "SLIMElasticNetRecommender: Processed 16830 (93.2%) in 50.02 min. Items per second: 5.61\n",
            "SLIMElasticNetRecommender: Processed 18059 (100.0%) in 53.66 min. Items per second: 5.61\n",
            "EvaluatorHoldout: Processed 13643 (100.0%) in 27.13 sec. Users per second: 503\n",
            "SearchBayesianSkopt: New best config found. Config 3: {'topK': 3100, 'l1_ratio': 0.0002204448537910578, 'alpha': 0.079724114437381} - results: PRECISION: 0.4018324, PRECISION_RECALL_MIN_DEN: 0.4037661, RECALL: 0.0722885, MAP: 0.2498444, MAP_MIN_DEN: 0.2507177, MRR: 0.6494250, NDCG: 0.4163225, F1: 0.1225336, HIT_RATE: 0.9746390, ARHR_ALL_HITS: 1.2517814, NOVELTY: 0.0055122, AVERAGE_POPULARITY: 0.5502463, DIVERSITY_MEAN_INTER_LIST: 0.9139648, DIVERSITY_HERFINDAHL: 0.9913898, COVERAGE_ITEM: 0.0729276, COVERAGE_ITEM_CORRECT: 0.0516640, COVERAGE_USER: 0.9994872, COVERAGE_USER_CORRECT: 0.9741392, DIVERSITY_GINI: 0.0104833, SHANNON_ENTROPY: 7.8326008, RATIO_DIVERSITY_HERFINDAHL: 0.9917724, RATIO_DIVERSITY_GINI: 0.0422813, RATIO_SHANNON_ENTROPY: 0.6321661, RATIO_AVERAGE_POPULARITY: 2.6940134, RATIO_NOVELTY: 0.0259351, \n",
            "\n",
            "Iteration No: 4 ended. Search finished for the next optimal point.\n",
            "Time taken: 3248.4802\n",
            "Function value obtained: -0.2498\n",
            "Current minimum: -0.2498\n",
            "Iteration No: 5 started. Searching for the next optimal point.\n",
            "SearchBayesianSkopt: Testing config: {'topK': 3088, 'l1_ratio': 0.0002276689262467277, 'alpha': 0.07258150452714825}\n",
            "SLIMElasticNetRecommender: Processed 1715 ( 9.5%) in 5.00 min. Items per second: 5.71\n",
            "SLIMElasticNetRecommender: Processed 3401 (18.8%) in 10.00 min. Items per second: 5.67\n",
            "SLIMElasticNetRecommender: Processed 5113 (28.3%) in 15.00 min. Items per second: 5.68\n",
            "SLIMElasticNetRecommender: Processed 6829 (37.8%) in 20.00 min. Items per second: 5.69\n",
            "SLIMElasticNetRecommender: Processed 8545 (47.3%) in 25.01 min. Items per second: 5.69\n",
            "SLIMElasticNetRecommender: Processed 10247 (56.7%) in 30.01 min. Items per second: 5.69\n",
            "SLIMElasticNetRecommender: Processed 11957 (66.2%) in 35.01 min. Items per second: 5.69\n",
            "SLIMElasticNetRecommender: Processed 13673 (75.7%) in 40.01 min. Items per second: 5.70\n",
            "SLIMElasticNetRecommender: Processed 15389 (85.2%) in 45.01 min. Items per second: 5.70\n",
            "SLIMElasticNetRecommender: Processed 17096 (94.7%) in 50.01 min. Items per second: 5.70\n",
            "SLIMElasticNetRecommender: Processed 18059 (100.0%) in 52.83 min. Items per second: 5.70\n",
            "EvaluatorHoldout: Processed 13643 (100.0%) in 27.65 sec. Users per second: 493\n",
            "SearchBayesianSkopt: Config 4 is suboptimal. Config: {'topK': 3088, 'l1_ratio': 0.0002276689262467277, 'alpha': 0.07258150452714825} - results: PRECISION: 0.4020010, PRECISION_RECALL_MIN_DEN: 0.4039957, RECALL: 0.0723797, MAP: 0.2497894, MAP_MIN_DEN: 0.2506728, MRR: 0.6489613, NDCG: 0.4163098, F1: 0.1226725, HIT_RATE: 0.9747856, ARHR_ALL_HITS: 1.2511434, NOVELTY: 0.0055188, AVERAGE_POPULARITY: 0.5472919, DIVERSITY_MEAN_INTER_LIST: 0.9155231, DIVERSITY_HERFINDAHL: 0.9915456, COVERAGE_ITEM: 0.0743120, COVERAGE_ITEM_CORRECT: 0.0526607, COVERAGE_USER: 0.9994872, COVERAGE_USER_CORRECT: 0.9742857, DIVERSITY_GINI: 0.0107334, SHANNON_ENTROPY: 7.8649296, RATIO_DIVERSITY_HERFINDAHL: 0.9919283, RATIO_DIVERSITY_GINI: 0.0432900, RATIO_SHANNON_ENTROPY: 0.6347753, RATIO_AVERAGE_POPULARITY: 2.6795485, RATIO_NOVELTY: 0.0259659, \n",
            "\n",
            "Iteration No: 5 ended. Search finished for the next optimal point.\n",
            "Time taken: 3199.1391\n",
            "Function value obtained: -0.2498\n",
            "Current minimum: -0.2498\n",
            "SearchBayesianSkopt: Search complete. Best config is 3: {'topK': 3100, 'l1_ratio': 0.0002204448537910578, 'alpha': 0.079724114437381}\n",
            "\n",
            "SLIMElasticNetRecommender: URM Detected 7 ( 0.1%) users with no interactions.\n",
            "SLIMElasticNetRecommender: URM Detected 310 ( 1.7%) items with no interactions.\n",
            "SearchBayesianSkopt: Evaluation with constructor data for final test. Using best config: {'topK': 3100, 'l1_ratio': 0.0002204448537910578, 'alpha': 0.079724114437381}\n",
            "SLIMElasticNetRecommender: Processed 5003 (27.7%) in 5.00 min. Items per second: 16.67\n",
            "SLIMElasticNetRecommender: Processed 10023 (55.5%) in 10.00 min. Items per second: 16.70\n",
            "SLIMElasticNetRecommender: Processed 15084 (83.5%) in 15.00 min. Items per second: 16.76\n",
            "SLIMElasticNetRecommender: Processed 18059 (100.0%) in 17.94 min. Items per second: 16.77\n",
            "SearchBayesianSkopt: Saving model in /content/gdrive/MyDrive/Colab Notebooks/RSChallenge/Results/SLIM_res/SLIMElasticNetRecommender\n",
            "\n",
            "SLIMElasticNetRecommender: Saving model in file '/content/gdrive/MyDrive/Colab Notebooks/RSChallenge/Results/SLIM_res/SLIMElasticNetRecommender_best_model_last'\n",
            "SLIMElasticNetRecommender: Saving complete\n"
          ]
        }
      ]
    },
    {
      "cell_type": "code",
      "metadata": {
        "colab": {
          "base_uri": "https://localhost:8080/"
        },
        "id": "3l9gqXDiF9Hb",
        "outputId": "2c99f4af-1d48-47f2-951c-bc32609047ac"
      },
      "source": [
        "recommender.fit(tt) # 47.33%"
      ],
      "execution_count": null,
      "outputs": [
        {
          "output_type": "stream",
          "name": "stdout",
          "text": [
            "SLIMElasticNetRecommender: Processed 1149 ( 6.4%) in 5.00 min. Items per second: 3.83\n",
            "SLIMElasticNetRecommender: Processed 2352 (13.0%) in 10.00 min. Items per second: 3.92\n",
            "SLIMElasticNetRecommender: Processed 3580 (19.8%) in 15.01 min. Items per second: 3.98\n",
            "SLIMElasticNetRecommender: Processed 4777 (26.5%) in 20.01 min. Items per second: 3.98\n",
            "SLIMElasticNetRecommender: Processed 5960 (33.0%) in 25.01 min. Items per second: 3.97\n",
            "SLIMElasticNetRecommender: Processed 7132 (39.5%) in 30.01 min. Items per second: 3.96\n",
            "SLIMElasticNetRecommender: Processed 8332 (46.1%) in 35.01 min. Items per second: 3.97\n",
            "SLIMElasticNetRecommender: Processed 9541 (52.8%) in 40.01 min. Items per second: 3.97\n",
            "SLIMElasticNetRecommender: Processed 10737 (59.5%) in 45.02 min. Items per second: 3.97\n",
            "SLIMElasticNetRecommender: Processed 11934 (66.1%) in 50.02 min. Items per second: 3.98\n",
            "SLIMElasticNetRecommender: Processed 13109 (72.6%) in 55.02 min. Items per second: 3.97\n",
            "SLIMElasticNetRecommender: Processed 14296 (79.2%) in 1.00 hour. Items per second: 3.97\n",
            "SLIMElasticNetRecommender: Processed 15509 (85.9%) in 1.08 hour. Items per second: 3.97\n",
            "SLIMElasticNetRecommender: Processed 16676 (92.3%) in 1.17 hour. Items per second: 3.97\n",
            "SLIMElasticNetRecommender: Processed 17831 (98.7%) in 1.25 hour. Items per second: 3.96\n",
            "SLIMElasticNetRecommender: Processed 18059 (100.0%) in 1.27 hour. Items per second: 3.96\n"
          ]
        }
      ]
    },
    {
      "cell_type": "code",
      "metadata": {
        "colab": {
          "base_uri": "https://localhost:8080/"
        },
        "id": "M4GCtxIF2Xx4",
        "outputId": "7286ffe3-62dd-4280-e4b9-9e274af228be"
      },
      "source": [
        "%cd RSChallenge/\n",
        "%ls"
      ],
      "execution_count": null,
      "outputs": [
        {
          "output_type": "stream",
          "name": "stdout",
          "text": [
            "/content/gdrive/MyDrive/Colab Notebooks/RSChallenge\n",
            "'Copia di RS_SLIM_43%.ipynb'      \u001b[0m\u001b[01;34mResults\u001b[0m/   \u001b[01;34mRSLib\u001b[0m/    RS_SLIM_47%.ipynb\n",
            "'HYBRID SLIM Item CF 33%.ipynb'   \u001b[01;34mRSData\u001b[0m/    \u001b[01;34mRSLib2\u001b[0m/   submission_full_URM.csv\n"
          ]
        }
      ]
    },
    {
      "cell_type": "code",
      "metadata": {
        "id": "QkLpWFEM2VMU"
      },
      "source": [
        "target_users = pd.read_csv('RSData/data_target_users_test.csv')"
      ],
      "execution_count": null,
      "outputs": []
    },
    {
      "cell_type": "code",
      "metadata": {
        "colab": {
          "base_uri": "https://localhost:8080/"
        },
        "id": "pzNvGLYjWYna",
        "outputId": "d83b34bf-264d-47ef-e448-426e4338db19"
      },
      "source": [
        "final_dict = {}\n",
        "start_time = time.time()\n",
        "\n",
        "for user in target_users['user_id']:\n",
        "  final_dict[user] = recommender.recommend(user,cutoff=10)\n",
        "end_time = time.time()\n",
        "print('Time needed is {}seconds'.format(end_time-start_time))"
      ],
      "execution_count": null,
      "outputs": [
        {
          "output_type": "stream",
          "name": "stdout",
          "text": [
            "Time needed is 17.962255239486694seconds\n"
          ]
        }
      ]
    },
    {
      "cell_type": "code",
      "metadata": {
        "id": "VT3Hf0jsWjWj"
      },
      "source": [
        "item_list = []\n",
        "for user in target_users['user_id']:\n",
        "  item_list.append(' '.join(str(e) for e in final_dict[user]))"
      ],
      "execution_count": null,
      "outputs": []
    },
    {
      "cell_type": "code",
      "metadata": {
        "colab": {
          "base_uri": "https://localhost:8080/",
          "height": 424
        },
        "id": "iSdj2hv5Wsqc",
        "outputId": "444040f1-4d9f-4005-a4d8-04ee3e69074d"
      },
      "source": [
        "submission_df = pd.DataFrame({'user_id' : target_users['user_id'],'item_list' : item_list })\n",
        "submission_df['item_list'] = submission_df['item_list'].astype(str).str.strip('[]')\n",
        "submission_df"
      ],
      "execution_count": null,
      "outputs": [
        {
          "output_type": "execute_result",
          "data": {
            "text/html": [
              "<div>\n",
              "<style scoped>\n",
              "    .dataframe tbody tr th:only-of-type {\n",
              "        vertical-align: middle;\n",
              "    }\n",
              "\n",
              "    .dataframe tbody tr th {\n",
              "        vertical-align: top;\n",
              "    }\n",
              "\n",
              "    .dataframe thead th {\n",
              "        text-align: right;\n",
              "    }\n",
              "</style>\n",
              "<table border=\"1\" class=\"dataframe\">\n",
              "  <thead>\n",
              "    <tr style=\"text-align: right;\">\n",
              "      <th></th>\n",
              "      <th>user_id</th>\n",
              "      <th>item_list</th>\n",
              "    </tr>\n",
              "  </thead>\n",
              "  <tbody>\n",
              "    <tr>\n",
              "      <th>0</th>\n",
              "      <td>0</td>\n",
              "      <td>3899 5433 8465 16365 16359 2243 9130 6061 1058...</td>\n",
              "    </tr>\n",
              "    <tr>\n",
              "      <th>1</th>\n",
              "      <td>1</td>\n",
              "      <td>3473 940 14400 16012 2118 10118 9275 9373 640 ...</td>\n",
              "    </tr>\n",
              "    <tr>\n",
              "      <th>2</th>\n",
              "      <td>2</td>\n",
              "      <td>6177 1551 17330 17022 2846 15119 14229 5925 16...</td>\n",
              "    </tr>\n",
              "    <tr>\n",
              "      <th>3</th>\n",
              "      <td>3</td>\n",
              "      <td>8194 15551 16359 15082 8371 960 15507 16444 16...</td>\n",
              "    </tr>\n",
              "    <tr>\n",
              "      <th>4</th>\n",
              "      <td>4</td>\n",
              "      <td>8194 10586 6177 16494 2152 5299 9130 10954 347...</td>\n",
              "    </tr>\n",
              "    <tr>\n",
              "      <th>...</th>\n",
              "      <td>...</td>\n",
              "      <td>...</td>\n",
              "    </tr>\n",
              "    <tr>\n",
              "      <th>13645</th>\n",
              "      <td>13645</td>\n",
              "      <td>6177 11491 3200 8898 11576 11303 1259 562 7762...</td>\n",
              "    </tr>\n",
              "    <tr>\n",
              "      <th>13646</th>\n",
              "      <td>13646</td>\n",
              "      <td>3473 7867 8635 16640 409 11504 17266 17622 176...</td>\n",
              "    </tr>\n",
              "    <tr>\n",
              "      <th>13647</th>\n",
              "      <td>13647</td>\n",
              "      <td>1846 7716 11227 7606 1186 8635 14868 11491 168...</td>\n",
              "    </tr>\n",
              "    <tr>\n",
              "      <th>13648</th>\n",
              "      <td>13648</td>\n",
              "      <td>6177 8635 13295 7295 14358 14181 6214 2482 179...</td>\n",
              "    </tr>\n",
              "    <tr>\n",
              "      <th>13649</th>\n",
              "      <td>13649</td>\n",
              "      <td>16919 4088 5273 14536 17330 14627 11038 10026 ...</td>\n",
              "    </tr>\n",
              "  </tbody>\n",
              "</table>\n",
              "<p>13650 rows × 2 columns</p>\n",
              "</div>"
            ],
            "text/plain": [
              "       user_id                                          item_list\n",
              "0            0  3899 5433 8465 16365 16359 2243 9130 6061 1058...\n",
              "1            1  3473 940 14400 16012 2118 10118 9275 9373 640 ...\n",
              "2            2  6177 1551 17330 17022 2846 15119 14229 5925 16...\n",
              "3            3  8194 15551 16359 15082 8371 960 15507 16444 16...\n",
              "4            4  8194 10586 6177 16494 2152 5299 9130 10954 347...\n",
              "...        ...                                                ...\n",
              "13645    13645  6177 11491 3200 8898 11576 11303 1259 562 7762...\n",
              "13646    13646  3473 7867 8635 16640 409 11504 17266 17622 176...\n",
              "13647    13647  1846 7716 11227 7606 1186 8635 14868 11491 168...\n",
              "13648    13648  6177 8635 13295 7295 14358 14181 6214 2482 179...\n",
              "13649    13649  16919 4088 5273 14536 17330 14627 11038 10026 ...\n",
              "\n",
              "[13650 rows x 2 columns]"
            ]
          },
          "metadata": {},
          "execution_count": 39
        }
      ]
    },
    {
      "cell_type": "code",
      "metadata": {
        "colab": {
          "base_uri": "https://localhost:8080/"
        },
        "id": "qhQPgu05WxeR",
        "outputId": "6f6ba10a-d442-46d1-912f-bc615801467b"
      },
      "source": [
        "%ls\n",
        "%cd .."
      ],
      "execution_count": null,
      "outputs": [
        {
          "output_type": "stream",
          "name": "stdout",
          "text": [
            "'Copia di RS_SLIM_43%.ipynb'      \u001b[0m\u001b[01;34mResults\u001b[0m/   \u001b[01;34mRSLib\u001b[0m/    RS_SLIM_47%.ipynb\n",
            "'HYBRID SLIM Item CF 33%.ipynb'   \u001b[01;34mRSData\u001b[0m/    \u001b[01;34mRSLib2\u001b[0m/   submission_full_URM.csv\n",
            "/content/gdrive/MyDrive/Colab Notebooks\n"
          ]
        }
      ]
    },
    {
      "cell_type": "code",
      "metadata": {
        "id": "j55GRF3YWzoc"
      },
      "source": [
        "submission_df.to_csv('RSChallenge/submission_SLIM_tuned.csv', index=False)"
      ],
      "execution_count": null,
      "outputs": []
    }
  ]
}