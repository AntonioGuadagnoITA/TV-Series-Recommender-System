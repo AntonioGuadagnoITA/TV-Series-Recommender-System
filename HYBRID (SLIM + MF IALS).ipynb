{
  "nbformat": 4,
  "nbformat_minor": 0,
  "metadata": {
    "colab": {
      "name": "HYBRID.ipynb",
      "provenance": [],
      "collapsed_sections": []
    },
    "kernelspec": {
      "display_name": "Python 3",
      "name": "python3"
    },
    "language_info": {
      "name": "python"
    }
  },
  "cells": [
    {
      "cell_type": "code",
      "metadata": {
        "colab": {
          "base_uri": "https://localhost:8080/"
        },
        "id": "LFlT6nkAWskh",
        "outputId": "fc808d6c-4d87-4396-e945-007ae706e1d1"
      },
      "source": [
        "#Connecting to google drive\n",
        "from google.colab import drive \n",
        "drive.mount('/content/gdrive',force_remount=True)"
      ],
      "execution_count": 1,
      "outputs": [
        {
          "output_type": "stream",
          "name": "stdout",
          "text": [
            "Mounted at /content/gdrive\n"
          ]
        }
      ]
    },
    {
      "cell_type": "code",
      "metadata": {
        "colab": {
          "base_uri": "https://localhost:8080/"
        },
        "id": "IOxo6wtFYcWJ",
        "outputId": "9f1ff88d-a64b-4e62-f147-a5b27cf3466c"
      },
      "source": [
        "%cd gdrive/MyDrive/Colab\\ Notebooks/RSChallenge/RSLib\n",
        "%ls"
      ],
      "execution_count": 2,
      "outputs": [
        {
          "output_type": "stream",
          "name": "stdout",
          "text": [
            "/content/gdrive/MyDrive/Colab Notebooks/RSChallenge/RSLib\n",
            "\u001b[0m\u001b[01;34mRecSys_Course_AT_PoliMi-master\u001b[0m/\n"
          ]
        }
      ]
    },
    {
      "cell_type": "code",
      "metadata": {
        "colab": {
          "base_uri": "https://localhost:8080/"
        },
        "id": "uyeCiqzqYq-b",
        "outputId": "c7f1fe6b-3b69-45e6-aba0-561e16e49a72"
      },
      "source": [
        "!ls */*.py"
      ],
      "execution_count": 3,
      "outputs": [
        {
          "output_type": "stream",
          "name": "stdout",
          "text": [
            "RecSys_Course_AT_PoliMi-master/cython_example_FunkSVD.py\n",
            "RecSys_Course_AT_PoliMi-master/cython_example_SLIM_MSE.py\n",
            "RecSys_Course_AT_PoliMi-master/run_all_algorithms.py\n",
            "RecSys_Course_AT_PoliMi-master/run_compile_all_cython.py\n",
            "RecSys_Course_AT_PoliMi-master/run_hyperparameter_search.py\n",
            "RecSys_Course_AT_PoliMi-master/run_test_recommenders.py\n"
          ]
        }
      ]
    },
    {
      "cell_type": "code",
      "metadata": {
        "id": "2ueKvUiuYyX9"
      },
      "source": [
        "#Importing course's repositories\n",
        "import sys\n",
        "sys.path.append('/content/gdrive/MyDrive/Colab Notebooks/RSChallenge/RSLib/RecSys_Course_AT_PoliMi-master')"
      ],
      "execution_count": 4,
      "outputs": []
    },
    {
      "cell_type": "code",
      "source": [
        "#To use skopt\n",
        "! pip install --quiet lightgbm==2.2.3 scikit-optimize==0.9.0 neptune-client==0.4.132 neptune-contrib[monitoring]==0.25.0"
      ],
      "metadata": {
        "colab": {
          "base_uri": "https://localhost:8080/"
        },
        "id": "UvS1s1l-1_wm",
        "outputId": "7b7bcc5c-5600-40b1-ffae-e5315aff9d4e"
      },
      "execution_count": 5,
      "outputs": [
        {
          "output_type": "stream",
          "name": "stdout",
          "text": [
            "\u001b[?25l\r\u001b[K     |███▎                            | 10 kB 27.0 MB/s eta 0:00:01\r\u001b[K     |██████▌                         | 20 kB 31.4 MB/s eta 0:00:01\r\u001b[K     |█████████▉                      | 30 kB 22.1 MB/s eta 0:00:01\r\u001b[K     |█████████████                   | 40 kB 18.3 MB/s eta 0:00:01\r\u001b[K     |████████████████▍               | 51 kB 8.7 MB/s eta 0:00:01\r\u001b[K     |███████████████████▋            | 61 kB 10.2 MB/s eta 0:00:01\r\u001b[K     |██████████████████████▉         | 71 kB 9.2 MB/s eta 0:00:01\r\u001b[K     |██████████████████████████▏     | 81 kB 10.2 MB/s eta 0:00:01\r\u001b[K     |█████████████████████████████▍  | 92 kB 8.0 MB/s eta 0:00:01\r\u001b[K     |████████████████████████████████| 100 kB 4.9 MB/s \n",
            "\u001b[K     |████████████████████████████████| 110 kB 43.0 MB/s \n",
            "\u001b[K     |████████████████████████████████| 67 kB 5.2 MB/s \n",
            "\u001b[K     |████████████████████████████████| 829 kB 31.7 MB/s \n",
            "\u001b[K     |████████████████████████████████| 53 kB 2.1 MB/s \n",
            "\u001b[K     |████████████████████████████████| 180 kB 56.5 MB/s \n",
            "\u001b[K     |████████████████████████████████| 106 kB 49.7 MB/s \n",
            "\u001b[K     |████████████████████████████████| 175 kB 58.0 MB/s \n",
            "\u001b[K     |████████████████████████████████| 63 kB 1.7 MB/s \n",
            "\u001b[K     |████████████████████████████████| 99 kB 9.3 MB/s \n",
            "\u001b[K     |████████████████████████████████| 130 kB 48.1 MB/s \n",
            "\u001b[K     |████████████████████████████████| 67 kB 5.8 MB/s \n",
            "\u001b[K     |████████████████████████████████| 564 kB 33.4 MB/s \n",
            "\u001b[?25h  Building wheel for neptune-client (setup.py) ... \u001b[?25l\u001b[?25hdone\n",
            "  Building wheel for neptune-contrib (setup.py) ... \u001b[?25l\u001b[?25hdone\n",
            "  Building wheel for future (setup.py) ... \u001b[?25l\u001b[?25hdone\n",
            "  Building wheel for py-cpuinfo (setup.py) ... \u001b[?25l\u001b[?25hdone\n",
            "  Building wheel for strict-rfc3339 (setup.py) ... \u001b[?25l\u001b[?25hdone\n",
            "  Building wheel for memory-profiler (setup.py) ... \u001b[?25l\u001b[?25hdone\n"
          ]
        }
      ]
    },
    {
      "cell_type": "code",
      "metadata": {
        "colab": {
          "base_uri": "https://localhost:8080/"
        },
        "id": "gc4Jcu0fZCZJ",
        "outputId": "ffb2ec1d-9360-4a59-fd7c-158dc3af61b5"
      },
      "source": [
        "#Importing libraries\n",
        "import pandas as pd \n",
        "import scipy.sparse as sps\n",
        "import numpy as np\n",
        "import time\n",
        "import matplotlib.pyplot as pyplot\n",
        "import os\n",
        "from Evaluation.Evaluator import EvaluatorHoldout\n",
        "from Data_manager.split_functions.split_train_validation_random_holdout import split_train_in_two_percentage_global_sample\n",
        "from Recommenders.Similarity.Compute_Similarity_Python import Compute_Similarity_Python\n",
        "from Recommenders.SLIM.SLIMElasticNetRecommender import SLIMElasticNetRecommender\n",
        "from Recommenders.MatrixFactorization.IALSRecommender import IALSRecommender\n",
        "from HyperparameterTuning.SearchBayesianSkopt import SearchBayesianSkopt\n",
        "from HyperparameterTuning.SearchAbstractClass import SearchInputRecommenderArgs\n",
        "\n",
        "print(\"DEBUG\")"
      ],
      "execution_count": 6,
      "outputs": [
        {
          "output_type": "stream",
          "name": "stdout",
          "text": [
            "DEBUG\n"
          ]
        }
      ]
    },
    {
      "cell_type": "code",
      "metadata": {
        "colab": {
          "base_uri": "https://localhost:8080/"
        },
        "id": "oZixAobTZ39k",
        "outputId": "f576efe0-250f-4f5e-f4d4-dc017dec4cee"
      },
      "source": [
        "%cd ..\n",
        "%ls"
      ],
      "execution_count": 7,
      "outputs": [
        {
          "output_type": "stream",
          "name": "stdout",
          "text": [
            "/content/gdrive/MyDrive/Colab Notebooks/RSChallenge\n",
            "HYBRID.ipynb  \u001b[0m\u001b[01;34mResults\u001b[0m/  \u001b[01;34mRSData\u001b[0m/  \u001b[01;34mRSLib\u001b[0m/  \u001b[01;34mRSLib2\u001b[0m/\n"
          ]
        }
      ]
    },
    {
      "cell_type": "code",
      "metadata": {
        "id": "Y4jzSuLZZLjE"
      },
      "source": [
        "#Loading dataframes\n",
        "URM_dataframe = pd.read_csv('RSData/data_train.csv')\n",
        "ICM_genre_dataframe=pd.read_csv('RSData/data_ICM_genre.csv')\n",
        "ICM_subgenre_dataframe=pd.read_csv('RSData/data_ICM_subgenre.csv')\n",
        "ICM_event_dataframe=pd.read_csv('RSData/data_ICM_event.csv')\n",
        "ICM_channel_dataframe=pd.read_csv('RSData/data_ICM_channel.csv')"
      ],
      "execution_count": 8,
      "outputs": []
    },
    {
      "cell_type": "code",
      "metadata": {
        "id": "Bs8W6l3IaK3z"
      },
      "source": [
        "#Column Renaming\n",
        "URM_dataframe.columns = ['User','Item','Interaction']\n",
        "ICM_genre_dataframe.columns = ['Item','Feature','Val']\n",
        "ICM_subgenre_dataframe.columns = ['Item','Feature','Val']\n",
        "ICM_event_dataframe.columns = ['Item','Feature','Val']\n",
        "ICM_channel_dataframe.columns = ['Item','Feature','Val']"
      ],
      "execution_count": 9,
      "outputs": []
    },
    {
      "cell_type": "code",
      "metadata": {
        "id": "aq7xFKS4aL1O"
      },
      "source": [
        "#Converting datatype\n",
        "URM_dataframe['Interaction'] = URM_dataframe['Interaction'].astype(int)\n",
        "ICM_genre_dataframe['Val'] = ICM_genre_dataframe['Val'].astype(int)\n",
        "ICM_subgenre_dataframe['Val'] = ICM_subgenre_dataframe['Val'].astype(int)\n",
        "ICM_event_dataframe['Val'] = ICM_event_dataframe['Val'].astype(int)\n",
        "ICM_channel_dataframe['Val'] = ICM_channel_dataframe['Val'].astype(int)"
      ],
      "execution_count": 10,
      "outputs": []
    },
    {
      "cell_type": "code",
      "metadata": {
        "colab": {
          "base_uri": "https://localhost:8080/"
        },
        "id": "aZAaTBClaVXp",
        "outputId": "08421cf4-34c4-46ee-e59c-b80bb4a581f6"
      },
      "source": [
        "#Printing stats to see if everything went well\n",
        "userID_unique = URM_dataframe[\"User\"].unique()\n",
        "itemID_unique = URM_dataframe[\"Item\"].unique()\n",
        "n_users = len(userID_unique)\n",
        "n_items = len(itemID_unique)\n",
        "n_interactions = len(URM_dataframe)\n",
        "\n",
        "#Printing some stats\n",
        "print(\"Number of users: \" + str(n_users))\n",
        "print(\"Number of items: \" + str(n_items))\n",
        "print(\"Number of interactions: \" + str(n_interactions))"
      ],
      "execution_count": 11,
      "outputs": [
        {
          "output_type": "stream",
          "name": "stdout",
          "text": [
            "Number of users: 13650\n",
            "Number of items: 18059\n",
            "Number of interactions: 5285664\n"
          ]
        }
      ]
    },
    {
      "cell_type": "code",
      "metadata": {
        "colab": {
          "base_uri": "https://localhost:8080/"
        },
        "id": "yB4mwV2paWVD",
        "outputId": "51010604-9c2a-4a1c-e12f-53cccb58d178"
      },
      "source": [
        "#Checking if re-assignment of ID's is needed\n",
        "print('The maxID for user {}, The maxID for item {}'.format(max(URM_dataframe.User),max(URM_dataframe.Item)))"
      ],
      "execution_count": 12,
      "outputs": [
        {
          "output_type": "stream",
          "name": "stdout",
          "text": [
            "The maxID for user 13649, The maxID for item 18058\n"
          ]
        }
      ]
    },
    {
      "cell_type": "markdown",
      "metadata": {
        "id": "x-6SNHkf6kKU"
      },
      "source": [
        "Re-assignment not needed"
      ]
    },
    {
      "cell_type": "code",
      "metadata": {
        "colab": {
          "base_uri": "https://localhost:8080/"
        },
        "id": "h_WVD6-9aaUZ",
        "outputId": "9ce0c422-8aea-49ce-a153-f8c16a5a1028"
      },
      "source": [
        "#Converting the URM into a sparse matrix\n",
        "URM_sparse = sps.coo_matrix((URM_dataframe['Interaction'].values,(URM_dataframe['User'].values,URM_dataframe['Item'].values)))\n",
        "URM_csr = URM_sparse.tocsr()\n",
        "URM_csr"
      ],
      "execution_count": 13,
      "outputs": [
        {
          "output_type": "execute_result",
          "data": {
            "text/plain": [
              "<13650x18059 sparse matrix of type '<class 'numpy.longlong'>'\n",
              "\twith 5285664 stored elements in Compressed Sparse Row format>"
            ]
          },
          "metadata": {},
          "execution_count": 13
        }
      ]
    },
    {
      "cell_type": "code",
      "metadata": {
        "colab": {
          "base_uri": "https://localhost:8080/"
        },
        "id": "MqGmEtuKabZ_",
        "outputId": "354cce9f-d984-4595-c447-86ea08563791"
      },
      "source": [
        "#Splitting data into training and validation set (Test set is the one on Kaggle)\n",
        "URM_train, URM_validation = split_train_in_two_percentage_global_sample(URM_csr, train_percentage = 0.80)\n",
        "evaluator_validation = EvaluatorHoldout(URM_validation, cutoff_list=[10])"
      ],
      "execution_count": 14,
      "outputs": [
        {
          "output_type": "stream",
          "name": "stdout",
          "text": [
            "Warning: 4 (0.03 %) of 13650 users have no sampled items\n",
            "EvaluatorHoldout: Ignoring 13646 ( 0.0%) Users that have less than 1 test interactions\n"
          ]
        }
      ]
    },
    {
      "cell_type": "markdown",
      "metadata": {
        "id": "ILLD234rIJPL"
      },
      "source": [
        "This requires a lot of time, let's first try with some random values ..."
      ]
    },
    {
      "cell_type": "code",
      "source": [
        "recommender = SLIMElasticNetRecommender(URM_train)"
      ],
      "metadata": {
        "id": "R9c0EKCZzj6_"
      },
      "execution_count": 15,
      "outputs": []
    },
    {
      "cell_type": "code",
      "metadata": {
        "colab": {
          "base_uri": "https://localhost:8080/"
        },
        "id": "3l9gqXDiF9Hb",
        "outputId": "43877df8-0b49-4e34-d93d-6ea1622eb244"
      },
      "source": [
        "recommender.fit(l1_ratio = 0.0002204448537910578, alpha = 0.079724114437381, topK = 3100) # 47.33%"
      ],
      "execution_count": 16,
      "outputs": [
        {
          "output_type": "stream",
          "name": "stdout",
          "text": [
            "SLIMElasticNetRecommender: Processed 1478 ( 8.2%) in 5.00 min. Items per second: 4.92\n",
            "SLIMElasticNetRecommender: Processed 3027 (16.8%) in 10.01 min. Items per second: 5.04\n",
            "SLIMElasticNetRecommender: Processed 4583 (25.4%) in 15.01 min. Items per second: 5.09\n",
            "SLIMElasticNetRecommender: Processed 6151 (34.1%) in 20.01 min. Items per second: 5.12\n",
            "SLIMElasticNetRecommender: Processed 7733 (42.8%) in 25.01 min. Items per second: 5.15\n",
            "SLIMElasticNetRecommender: Processed 9307 (51.5%) in 30.02 min. Items per second: 5.17\n",
            "SLIMElasticNetRecommender: Processed 10902 (60.4%) in 35.02 min. Items per second: 5.19\n",
            "SLIMElasticNetRecommender: Processed 12485 (69.1%) in 40.02 min. Items per second: 5.20\n",
            "SLIMElasticNetRecommender: Processed 14070 (77.9%) in 45.02 min. Items per second: 5.21\n",
            "SLIMElasticNetRecommender: Processed 15656 (86.7%) in 50.02 min. Items per second: 5.22\n",
            "SLIMElasticNetRecommender: Processed 17226 (95.4%) in 55.02 min. Items per second: 5.22\n",
            "SLIMElasticNetRecommender: Processed 18059 (100.0%) in 57.69 min. Items per second: 5.22\n"
          ]
        }
      ]
    },
    {
      "cell_type": "code",
      "source": [
        "recommender3 = SLIMElasticNetRecommender(URM_train)"
      ],
      "metadata": {
        "id": "JT0-x-Tjg9yl"
      },
      "execution_count": 36,
      "outputs": []
    },
    {
      "cell_type": "code",
      "source": [
        "recommender3.fit(l1_ratio=0.00025, alpha = 0.08, topK = 300) # 47.33%"
      ],
      "metadata": {
        "colab": {
          "base_uri": "https://localhost:8080/"
        },
        "id": "7jOasFOYg-iB",
        "outputId": "3d62e320-464b-41e5-dc8b-2fabd31e2849"
      },
      "execution_count": 37,
      "outputs": [
        {
          "output_type": "stream",
          "name": "stdout",
          "text": [
            "SLIMElasticNetRecommender: Processed 1551 ( 8.6%) in 5.00 min. Items per second: 5.16\n",
            "SLIMElasticNetRecommender: Processed 3142 (17.4%) in 10.00 min. Items per second: 5.23\n",
            "SLIMElasticNetRecommender: Processed 4709 (26.1%) in 15.00 min. Items per second: 5.23\n",
            "SLIMElasticNetRecommender: Processed 6255 (34.6%) in 20.01 min. Items per second: 5.21\n",
            "SLIMElasticNetRecommender: Processed 7773 (43.0%) in 25.01 min. Items per second: 5.18\n",
            "SLIMElasticNetRecommender: Processed 9321 (51.6%) in 30.01 min. Items per second: 5.18\n",
            "SLIMElasticNetRecommender: Processed 10858 (60.1%) in 35.01 min. Items per second: 5.17\n",
            "SLIMElasticNetRecommender: Processed 12357 (68.4%) in 40.01 min. Items per second: 5.15\n",
            "SLIMElasticNetRecommender: Processed 13796 (76.4%) in 45.01 min. Items per second: 5.11\n",
            "SLIMElasticNetRecommender: Processed 15340 (84.9%) in 50.02 min. Items per second: 5.11\n",
            "SLIMElasticNetRecommender: Processed 16904 (93.6%) in 55.02 min. Items per second: 5.12\n",
            "SLIMElasticNetRecommender: Processed 18059 (100.0%) in 58.75 min. Items per second: 5.12\n"
          ]
        }
      ]
    },
    {
      "cell_type": "code",
      "source": [
        "recommender2 = IALSRecommender(URM_train)"
      ],
      "metadata": {
        "id": "zL2ssZIzz6eJ"
      },
      "execution_count": 17,
      "outputs": []
    },
    {
      "cell_type": "code",
      "source": [
        "recommender2.fit(epochs = 32, num_factors = 50, alpha = 1.011955985422186, reg = 0.0006510527003718695, init_mean = 0.4902658701038708, init_std = 0.0542837791767091) # Così ottengo: 0.418 MAP: 0.2335376"
      ],
      "metadata": {
        "colab": {
          "base_uri": "https://localhost:8080/"
        },
        "id": "yGFwVqKQz6_0",
        "outputId": "4a18b216-8173-4acc-a9d6-98f9380e3dbb"
      },
      "execution_count": 18,
      "outputs": [
        {
          "output_type": "stream",
          "name": "stdout",
          "text": [
            "IALSRecommender: Epoch 1 of 32. Elapsed time 13.59 sec\n",
            "IALSRecommender: Epoch 2 of 32. Elapsed time 27.10 sec\n",
            "IALSRecommender: Epoch 3 of 32. Elapsed time 40.78 sec\n",
            "IALSRecommender: Epoch 4 of 32. Elapsed time 54.48 sec\n",
            "IALSRecommender: Epoch 5 of 32. Elapsed time 1.14 min\n",
            "IALSRecommender: Epoch 6 of 32. Elapsed time 1.36 min\n",
            "IALSRecommender: Epoch 7 of 32. Elapsed time 1.59 min\n",
            "IALSRecommender: Epoch 8 of 32. Elapsed time 1.82 min\n",
            "IALSRecommender: Epoch 9 of 32. Elapsed time 2.05 min\n",
            "IALSRecommender: Epoch 10 of 32. Elapsed time 2.28 min\n",
            "IALSRecommender: Epoch 11 of 32. Elapsed time 2.50 min\n",
            "IALSRecommender: Epoch 12 of 32. Elapsed time 2.73 min\n",
            "IALSRecommender: Epoch 13 of 32. Elapsed time 2.96 min\n",
            "IALSRecommender: Epoch 14 of 32. Elapsed time 3.18 min\n",
            "IALSRecommender: Epoch 15 of 32. Elapsed time 3.41 min\n",
            "IALSRecommender: Epoch 16 of 32. Elapsed time 3.64 min\n",
            "IALSRecommender: Epoch 17 of 32. Elapsed time 3.86 min\n",
            "IALSRecommender: Epoch 18 of 32. Elapsed time 4.09 min\n",
            "IALSRecommender: Epoch 19 of 32. Elapsed time 4.31 min\n",
            "IALSRecommender: Epoch 20 of 32. Elapsed time 4.54 min\n",
            "IALSRecommender: Epoch 21 of 32. Elapsed time 4.77 min\n",
            "IALSRecommender: Epoch 22 of 32. Elapsed time 4.99 min\n",
            "IALSRecommender: Epoch 23 of 32. Elapsed time 5.22 min\n",
            "IALSRecommender: Epoch 24 of 32. Elapsed time 5.44 min\n",
            "IALSRecommender: Epoch 25 of 32. Elapsed time 5.67 min\n",
            "IALSRecommender: Epoch 26 of 32. Elapsed time 5.90 min\n",
            "IALSRecommender: Epoch 27 of 32. Elapsed time 6.12 min\n",
            "IALSRecommender: Epoch 28 of 32. Elapsed time 6.35 min\n",
            "IALSRecommender: Epoch 29 of 32. Elapsed time 6.58 min\n",
            "IALSRecommender: Epoch 30 of 32. Elapsed time 6.80 min\n",
            "IALSRecommender: Epoch 31 of 32. Elapsed time 7.03 min\n",
            "IALSRecommender: Epoch 32 of 32. Elapsed time 7.26 min\n",
            "IALSRecommender: Terminating at epoch 32. Elapsed time 7.26 min\n"
          ]
        }
      ]
    },
    {
      "cell_type": "code",
      "source": [
        "from Recommenders.BaseRecommender import BaseRecommender\n",
        "\n",
        "class DifferentLossScoresHybridRecommender(BaseRecommender):\n",
        "    \"\"\" ScoresHybridRecommender\n",
        "    Hybrid of two prediction scores R = R1/norm*alpha + R2/norm*(1-alpha) where R1 and R2 come from\n",
        "    algorithms trained on different loss functions.\n",
        "\n",
        "    \"\"\"\n",
        "\n",
        "    RECOMMENDER_NAME = \"DifferentLossScoresHybridRecommender\"\n",
        "\n",
        "\n",
        "    def __init__(self, URM_train, recommender_1, recommender_2):\n",
        "        super(DifferentLossScoresHybridRecommender, self).__init__(URM_train)\n",
        "\n",
        "        self.URM_train = sps.csr_matrix(URM_train)\n",
        "        self.recommender_1 = recommender_1\n",
        "        self.recommender_2 = recommender_2\n",
        "        \n",
        "        \n",
        "        \n",
        "    def fit(self, norm, alpha = 0.5):\n",
        "\n",
        "        self.alpha = alpha\n",
        "        self.norm = norm\n",
        "\n",
        "\n",
        "    def _compute_item_score(self, user_id_array, items_to_compute):\n",
        "        \n",
        "        item_weights_1 = self.recommender_1._compute_item_score(user_id_array)\n",
        "        item_weights_2 = self.recommender_2._compute_item_score(user_id_array)\n",
        "\n",
        "        norm_item_weights_1 = LA.norm(item_weights_1, self.norm)\n",
        "        norm_item_weights_2 = LA.norm(item_weights_2, self.norm)\n",
        "        \n",
        "        \n",
        "        if norm_item_weights_1 == 0:\n",
        "            raise ValueError(\"Norm {} of item weights for recommender 1 is zero. Avoiding division by zero\".format(self.norm))\n",
        "        \n",
        "        if norm_item_weights_2 == 0:\n",
        "            raise ValueError(\"Norm {} of item weights for recommender 2 is zero. Avoiding division by zero\".format(self.norm))\n",
        "        \n",
        "        item_weights = item_weights_1 / norm_item_weights_1 * self.alpha + item_weights_2 / norm_item_weights_2 * (1-self.alpha)\n",
        "\n",
        "        return item_weights"
      ],
      "metadata": {
        "id": "Vh2hjxJw0WMO"
      },
      "execution_count": 19,
      "outputs": []
    },
    {
      "cell_type": "markdown",
      "source": [
        "#SLIM TOK K 3000 NORM 2"
      ],
      "metadata": {
        "id": "qKD-5nrGo6_d"
      }
    },
    {
      "cell_type": "code",
      "source": [
        "# 0.0\n",
        "hybrid = DifferentLossScoresHybridRecommender(URM_train, recommender, recommender2)\n",
        "hybrid.fit(norm = -np.inf, alpha = 0)\n",
        "result_df, _ = evaluator_validation.evaluateRecommender(hybrid)\n",
        "result_df"
      ],
      "metadata": {
        "colab": {
          "base_uri": "https://localhost:8080/",
          "height": 149
        },
        "id": "WcCY86w-TuI4",
        "outputId": "42970ea0-4a12-4a32-cbf7-4adc5ff27bfc"
      },
      "execution_count": 49,
      "outputs": [
        {
          "output_type": "stream",
          "name": "stdout",
          "text": [
            "EvaluatorHoldout: Processed 13646 (100.0%) in 33.13 sec. Users per second: 412\n"
          ]
        },
        {
          "output_type": "execute_result",
          "data": {
            "text/html": [
              "<div>\n",
              "<style scoped>\n",
              "    .dataframe tbody tr th:only-of-type {\n",
              "        vertical-align: middle;\n",
              "    }\n",
              "\n",
              "    .dataframe tbody tr th {\n",
              "        vertical-align: top;\n",
              "    }\n",
              "\n",
              "    .dataframe thead th {\n",
              "        text-align: right;\n",
              "    }\n",
              "</style>\n",
              "<table border=\"1\" class=\"dataframe\">\n",
              "  <thead>\n",
              "    <tr style=\"text-align: right;\">\n",
              "      <th></th>\n",
              "      <th>PRECISION</th>\n",
              "      <th>PRECISION_RECALL_MIN_DEN</th>\n",
              "      <th>RECALL</th>\n",
              "      <th>MAP</th>\n",
              "      <th>MAP_MIN_DEN</th>\n",
              "      <th>MRR</th>\n",
              "      <th>NDCG</th>\n",
              "      <th>F1</th>\n",
              "      <th>HIT_RATE</th>\n",
              "      <th>ARHR_ALL_HITS</th>\n",
              "      <th>NOVELTY</th>\n",
              "      <th>AVERAGE_POPULARITY</th>\n",
              "      <th>DIVERSITY_MEAN_INTER_LIST</th>\n",
              "      <th>DIVERSITY_HERFINDAHL</th>\n",
              "      <th>COVERAGE_ITEM</th>\n",
              "      <th>COVERAGE_ITEM_CORRECT</th>\n",
              "      <th>COVERAGE_USER</th>\n",
              "      <th>COVERAGE_USER_CORRECT</th>\n",
              "      <th>DIVERSITY_GINI</th>\n",
              "      <th>SHANNON_ENTROPY</th>\n",
              "      <th>RATIO_DIVERSITY_HERFINDAHL</th>\n",
              "      <th>RATIO_DIVERSITY_GINI</th>\n",
              "      <th>RATIO_SHANNON_ENTROPY</th>\n",
              "      <th>RATIO_AVERAGE_POPULARITY</th>\n",
              "      <th>RATIO_NOVELTY</th>\n",
              "    </tr>\n",
              "    <tr>\n",
              "      <th>cutoff</th>\n",
              "      <th></th>\n",
              "      <th></th>\n",
              "      <th></th>\n",
              "      <th></th>\n",
              "      <th></th>\n",
              "      <th></th>\n",
              "      <th></th>\n",
              "      <th></th>\n",
              "      <th></th>\n",
              "      <th></th>\n",
              "      <th></th>\n",
              "      <th></th>\n",
              "      <th></th>\n",
              "      <th></th>\n",
              "      <th></th>\n",
              "      <th></th>\n",
              "      <th></th>\n",
              "      <th></th>\n",
              "      <th></th>\n",
              "      <th></th>\n",
              "      <th></th>\n",
              "      <th></th>\n",
              "      <th></th>\n",
              "      <th></th>\n",
              "      <th></th>\n",
              "    </tr>\n",
              "  </thead>\n",
              "  <tbody>\n",
              "    <tr>\n",
              "      <th>10</th>\n",
              "      <td>0.382112</td>\n",
              "      <td>0.383652</td>\n",
              "      <td>0.067836</td>\n",
              "      <td>0.233438</td>\n",
              "      <td>0.234225</td>\n",
              "      <td>0.636032</td>\n",
              "      <td>0.397326</td>\n",
              "      <td>0.115218</td>\n",
              "      <td>0.96629</td>\n",
              "      <td>1.19917</td>\n",
              "      <td>0.00561429</td>\n",
              "      <td>0.490684</td>\n",
              "      <td>0.949267</td>\n",
              "      <td>0.99492</td>\n",
              "      <td>0.0672241</td>\n",
              "      <td>0.0569799</td>\n",
              "      <td>0.999707</td>\n",
              "      <td>0.966007</td>\n",
              "      <td>0.015267</td>\n",
              "      <td>8.45674</td>\n",
              "      <td>0.995304</td>\n",
              "      <td>0.0615781</td>\n",
              "      <td>0.682547</td>\n",
              "      <td>2.39514</td>\n",
              "      <td>0.0264156</td>\n",
              "    </tr>\n",
              "  </tbody>\n",
              "</table>\n",
              "</div>"
            ],
            "text/plain": [
              "       PRECISION  ... RATIO_NOVELTY\n",
              "cutoff            ...              \n",
              "10      0.382112  ...     0.0264156\n",
              "\n",
              "[1 rows x 25 columns]"
            ]
          },
          "metadata": {},
          "execution_count": 49
        }
      ]
    },
    {
      "cell_type": "code",
      "source": [
        "# 0.1\n",
        "hybrid = DifferentLossScoresHybridRecommender(URM_train, recommender, recommender2)\n",
        "hybrid.fit(norm = -np.inf, alpha = 0.1)\n",
        "result_df, _ = evaluator_validation.evaluateRecommender(hybrid)\n",
        "result_df"
      ],
      "metadata": {
        "colab": {
          "base_uri": "https://localhost:8080/",
          "height": 149
        },
        "id": "PFiRyMC6Y0Gg",
        "outputId": "b84c8786-1164-4a7c-fa90-3a7b8757892a"
      },
      "execution_count": 50,
      "outputs": [
        {
          "output_type": "stream",
          "name": "stdout",
          "text": [
            "EvaluatorHoldout: Processed 13646 (100.0%) in 32.29 sec. Users per second: 423\n"
          ]
        },
        {
          "output_type": "execute_result",
          "data": {
            "text/html": [
              "<div>\n",
              "<style scoped>\n",
              "    .dataframe tbody tr th:only-of-type {\n",
              "        vertical-align: middle;\n",
              "    }\n",
              "\n",
              "    .dataframe tbody tr th {\n",
              "        vertical-align: top;\n",
              "    }\n",
              "\n",
              "    .dataframe thead th {\n",
              "        text-align: right;\n",
              "    }\n",
              "</style>\n",
              "<table border=\"1\" class=\"dataframe\">\n",
              "  <thead>\n",
              "    <tr style=\"text-align: right;\">\n",
              "      <th></th>\n",
              "      <th>PRECISION</th>\n",
              "      <th>PRECISION_RECALL_MIN_DEN</th>\n",
              "      <th>RECALL</th>\n",
              "      <th>MAP</th>\n",
              "      <th>MAP_MIN_DEN</th>\n",
              "      <th>MRR</th>\n",
              "      <th>NDCG</th>\n",
              "      <th>F1</th>\n",
              "      <th>HIT_RATE</th>\n",
              "      <th>ARHR_ALL_HITS</th>\n",
              "      <th>NOVELTY</th>\n",
              "      <th>AVERAGE_POPULARITY</th>\n",
              "      <th>DIVERSITY_MEAN_INTER_LIST</th>\n",
              "      <th>DIVERSITY_HERFINDAHL</th>\n",
              "      <th>COVERAGE_ITEM</th>\n",
              "      <th>COVERAGE_ITEM_CORRECT</th>\n",
              "      <th>COVERAGE_USER</th>\n",
              "      <th>COVERAGE_USER_CORRECT</th>\n",
              "      <th>DIVERSITY_GINI</th>\n",
              "      <th>SHANNON_ENTROPY</th>\n",
              "      <th>RATIO_DIVERSITY_HERFINDAHL</th>\n",
              "      <th>RATIO_DIVERSITY_GINI</th>\n",
              "      <th>RATIO_SHANNON_ENTROPY</th>\n",
              "      <th>RATIO_AVERAGE_POPULARITY</th>\n",
              "      <th>RATIO_NOVELTY</th>\n",
              "    </tr>\n",
              "    <tr>\n",
              "      <th>cutoff</th>\n",
              "      <th></th>\n",
              "      <th></th>\n",
              "      <th></th>\n",
              "      <th></th>\n",
              "      <th></th>\n",
              "      <th></th>\n",
              "      <th></th>\n",
              "      <th></th>\n",
              "      <th></th>\n",
              "      <th></th>\n",
              "      <th></th>\n",
              "      <th></th>\n",
              "      <th></th>\n",
              "      <th></th>\n",
              "      <th></th>\n",
              "      <th></th>\n",
              "      <th></th>\n",
              "      <th></th>\n",
              "      <th></th>\n",
              "      <th></th>\n",
              "      <th></th>\n",
              "      <th></th>\n",
              "      <th></th>\n",
              "      <th></th>\n",
              "      <th></th>\n",
              "    </tr>\n",
              "  </thead>\n",
              "  <tbody>\n",
              "    <tr>\n",
              "      <th>10</th>\n",
              "      <td>0.389968</td>\n",
              "      <td>0.391562</td>\n",
              "      <td>0.0691796</td>\n",
              "      <td>0.239937</td>\n",
              "      <td>0.240739</td>\n",
              "      <td>0.640768</td>\n",
              "      <td>0.40473</td>\n",
              "      <td>0.117513</td>\n",
              "      <td>0.967243</td>\n",
              "      <td>1.21945</td>\n",
              "      <td>0.00559074</td>\n",
              "      <td>0.503826</td>\n",
              "      <td>0.943292</td>\n",
              "      <td>0.994322</td>\n",
              "      <td>0.064843</td>\n",
              "      <td>0.0550972</td>\n",
              "      <td>0.999707</td>\n",
              "      <td>0.96696</td>\n",
              "      <td>0.0140603</td>\n",
              "      <td>8.3257</td>\n",
              "      <td>0.994706</td>\n",
              "      <td>0.0567107</td>\n",
              "      <td>0.671971</td>\n",
              "      <td>2.45929</td>\n",
              "      <td>0.0263048</td>\n",
              "    </tr>\n",
              "  </tbody>\n",
              "</table>\n",
              "</div>"
            ],
            "text/plain": [
              "       PRECISION  ... RATIO_NOVELTY\n",
              "cutoff            ...              \n",
              "10      0.389968  ...     0.0263048\n",
              "\n",
              "[1 rows x 25 columns]"
            ]
          },
          "metadata": {},
          "execution_count": 50
        }
      ]
    },
    {
      "cell_type": "code",
      "source": [
        "# 0.2\n",
        "hybrid = DifferentLossScoresHybridRecommender(URM_train, recommender, recommender2)\n",
        "hybrid.fit(norm = -np.inf, alpha = 0.2)\n",
        "result_df, _ = evaluator_validation.evaluateRecommender(hybrid)\n",
        "result_df"
      ],
      "metadata": {
        "colab": {
          "base_uri": "https://localhost:8080/",
          "height": 149
        },
        "id": "BD8fcZEXY3Xg",
        "outputId": "9515d637-e19b-454d-d282-70959304bc2f"
      },
      "execution_count": 51,
      "outputs": [
        {
          "output_type": "stream",
          "name": "stdout",
          "text": [
            "EvaluatorHoldout: Processed 13646 (100.0%) in 32.34 sec. Users per second: 422\n"
          ]
        },
        {
          "output_type": "execute_result",
          "data": {
            "text/html": [
              "<div>\n",
              "<style scoped>\n",
              "    .dataframe tbody tr th:only-of-type {\n",
              "        vertical-align: middle;\n",
              "    }\n",
              "\n",
              "    .dataframe tbody tr th {\n",
              "        vertical-align: top;\n",
              "    }\n",
              "\n",
              "    .dataframe thead th {\n",
              "        text-align: right;\n",
              "    }\n",
              "</style>\n",
              "<table border=\"1\" class=\"dataframe\">\n",
              "  <thead>\n",
              "    <tr style=\"text-align: right;\">\n",
              "      <th></th>\n",
              "      <th>PRECISION</th>\n",
              "      <th>PRECISION_RECALL_MIN_DEN</th>\n",
              "      <th>RECALL</th>\n",
              "      <th>MAP</th>\n",
              "      <th>MAP_MIN_DEN</th>\n",
              "      <th>MRR</th>\n",
              "      <th>NDCG</th>\n",
              "      <th>F1</th>\n",
              "      <th>HIT_RATE</th>\n",
              "      <th>ARHR_ALL_HITS</th>\n",
              "      <th>NOVELTY</th>\n",
              "      <th>AVERAGE_POPULARITY</th>\n",
              "      <th>DIVERSITY_MEAN_INTER_LIST</th>\n",
              "      <th>DIVERSITY_HERFINDAHL</th>\n",
              "      <th>COVERAGE_ITEM</th>\n",
              "      <th>COVERAGE_ITEM_CORRECT</th>\n",
              "      <th>COVERAGE_USER</th>\n",
              "      <th>COVERAGE_USER_CORRECT</th>\n",
              "      <th>DIVERSITY_GINI</th>\n",
              "      <th>SHANNON_ENTROPY</th>\n",
              "      <th>RATIO_DIVERSITY_HERFINDAHL</th>\n",
              "      <th>RATIO_DIVERSITY_GINI</th>\n",
              "      <th>RATIO_SHANNON_ENTROPY</th>\n",
              "      <th>RATIO_AVERAGE_POPULARITY</th>\n",
              "      <th>RATIO_NOVELTY</th>\n",
              "    </tr>\n",
              "    <tr>\n",
              "      <th>cutoff</th>\n",
              "      <th></th>\n",
              "      <th></th>\n",
              "      <th></th>\n",
              "      <th></th>\n",
              "      <th></th>\n",
              "      <th></th>\n",
              "      <th></th>\n",
              "      <th></th>\n",
              "      <th></th>\n",
              "      <th></th>\n",
              "      <th></th>\n",
              "      <th></th>\n",
              "      <th></th>\n",
              "      <th></th>\n",
              "      <th></th>\n",
              "      <th></th>\n",
              "      <th></th>\n",
              "      <th></th>\n",
              "      <th></th>\n",
              "      <th></th>\n",
              "      <th></th>\n",
              "      <th></th>\n",
              "      <th></th>\n",
              "      <th></th>\n",
              "      <th></th>\n",
              "    </tr>\n",
              "  </thead>\n",
              "  <tbody>\n",
              "    <tr>\n",
              "      <th>10</th>\n",
              "      <td>0.394848</td>\n",
              "      <td>0.396487</td>\n",
              "      <td>0.070086</td>\n",
              "      <td>0.244199</td>\n",
              "      <td>0.245019</td>\n",
              "      <td>0.646013</td>\n",
              "      <td>0.409801</td>\n",
              "      <td>0.119042</td>\n",
              "      <td>0.968709</td>\n",
              "      <td>1.23474</td>\n",
              "      <td>0.0055726</td>\n",
              "      <td>0.514317</td>\n",
              "      <td>0.937977</td>\n",
              "      <td>0.993791</td>\n",
              "      <td>0.0636248</td>\n",
              "      <td>0.0531591</td>\n",
              "      <td>0.999707</td>\n",
              "      <td>0.968425</td>\n",
              "      <td>0.0131636</td>\n",
              "      <td>8.2199</td>\n",
              "      <td>0.994174</td>\n",
              "      <td>0.0530942</td>\n",
              "      <td>0.663431</td>\n",
              "      <td>2.51049</td>\n",
              "      <td>0.0262195</td>\n",
              "    </tr>\n",
              "  </tbody>\n",
              "</table>\n",
              "</div>"
            ],
            "text/plain": [
              "       PRECISION  ... RATIO_NOVELTY\n",
              "cutoff            ...              \n",
              "10      0.394848  ...     0.0262195\n",
              "\n",
              "[1 rows x 25 columns]"
            ]
          },
          "metadata": {},
          "execution_count": 51
        }
      ]
    },
    {
      "cell_type": "code",
      "source": [
        "# 0.3\n",
        "hybrid = DifferentLossScoresHybridRecommender(URM_train, recommender, recommender2)\n",
        "hybrid.fit(norm = -np.inf, alpha = 0.3)\n",
        "result_df, _ = evaluator_validation.evaluateRecommender(hybrid)\n",
        "result_df"
      ],
      "metadata": {
        "colab": {
          "base_uri": "https://localhost:8080/",
          "height": 149
        },
        "id": "p8F9aLd-Zq3Z",
        "outputId": "2c08bca7-9ee1-4210-92f3-b1fd2bafe4fc"
      },
      "execution_count": 52,
      "outputs": [
        {
          "output_type": "stream",
          "name": "stdout",
          "text": [
            "EvaluatorHoldout: Processed 13646 (100.0%) in 32.44 sec. Users per second: 421\n"
          ]
        },
        {
          "output_type": "execute_result",
          "data": {
            "text/html": [
              "<div>\n",
              "<style scoped>\n",
              "    .dataframe tbody tr th:only-of-type {\n",
              "        vertical-align: middle;\n",
              "    }\n",
              "\n",
              "    .dataframe tbody tr th {\n",
              "        vertical-align: top;\n",
              "    }\n",
              "\n",
              "    .dataframe thead th {\n",
              "        text-align: right;\n",
              "    }\n",
              "</style>\n",
              "<table border=\"1\" class=\"dataframe\">\n",
              "  <thead>\n",
              "    <tr style=\"text-align: right;\">\n",
              "      <th></th>\n",
              "      <th>PRECISION</th>\n",
              "      <th>PRECISION_RECALL_MIN_DEN</th>\n",
              "      <th>RECALL</th>\n",
              "      <th>MAP</th>\n",
              "      <th>MAP_MIN_DEN</th>\n",
              "      <th>MRR</th>\n",
              "      <th>NDCG</th>\n",
              "      <th>F1</th>\n",
              "      <th>HIT_RATE</th>\n",
              "      <th>ARHR_ALL_HITS</th>\n",
              "      <th>NOVELTY</th>\n",
              "      <th>AVERAGE_POPULARITY</th>\n",
              "      <th>DIVERSITY_MEAN_INTER_LIST</th>\n",
              "      <th>DIVERSITY_HERFINDAHL</th>\n",
              "      <th>COVERAGE_ITEM</th>\n",
              "      <th>COVERAGE_ITEM_CORRECT</th>\n",
              "      <th>COVERAGE_USER</th>\n",
              "      <th>COVERAGE_USER_CORRECT</th>\n",
              "      <th>DIVERSITY_GINI</th>\n",
              "      <th>SHANNON_ENTROPY</th>\n",
              "      <th>RATIO_DIVERSITY_HERFINDAHL</th>\n",
              "      <th>RATIO_DIVERSITY_GINI</th>\n",
              "      <th>RATIO_SHANNON_ENTROPY</th>\n",
              "      <th>RATIO_AVERAGE_POPULARITY</th>\n",
              "      <th>RATIO_NOVELTY</th>\n",
              "    </tr>\n",
              "    <tr>\n",
              "      <th>cutoff</th>\n",
              "      <th></th>\n",
              "      <th></th>\n",
              "      <th></th>\n",
              "      <th></th>\n",
              "      <th></th>\n",
              "      <th></th>\n",
              "      <th></th>\n",
              "      <th></th>\n",
              "      <th></th>\n",
              "      <th></th>\n",
              "      <th></th>\n",
              "      <th></th>\n",
              "      <th></th>\n",
              "      <th></th>\n",
              "      <th></th>\n",
              "      <th></th>\n",
              "      <th></th>\n",
              "      <th></th>\n",
              "      <th></th>\n",
              "      <th></th>\n",
              "      <th></th>\n",
              "      <th></th>\n",
              "      <th></th>\n",
              "      <th></th>\n",
              "      <th></th>\n",
              "    </tr>\n",
              "  </thead>\n",
              "  <tbody>\n",
              "    <tr>\n",
              "      <th>10</th>\n",
              "      <td>0.397911</td>\n",
              "      <td>0.39959</td>\n",
              "      <td>0.0707472</td>\n",
              "      <td>0.246712</td>\n",
              "      <td>0.247529</td>\n",
              "      <td>0.648754</td>\n",
              "      <td>0.412711</td>\n",
              "      <td>0.120135</td>\n",
              "      <td>0.970614</td>\n",
              "      <td>1.2428</td>\n",
              "      <td>0.00555757</td>\n",
              "      <td>0.523134</td>\n",
              "      <td>0.933085</td>\n",
              "      <td>0.993302</td>\n",
              "      <td>0.0641232</td>\n",
              "      <td>0.0522177</td>\n",
              "      <td>0.999707</td>\n",
              "      <td>0.97033</td>\n",
              "      <td>0.0124576</td>\n",
              "      <td>8.1302</td>\n",
              "      <td>0.993685</td>\n",
              "      <td>0.0502467</td>\n",
              "      <td>0.656192</td>\n",
              "      <td>2.55353</td>\n",
              "      <td>0.0261488</td>\n",
              "    </tr>\n",
              "  </tbody>\n",
              "</table>\n",
              "</div>"
            ],
            "text/plain": [
              "       PRECISION  ... RATIO_NOVELTY\n",
              "cutoff            ...              \n",
              "10      0.397911  ...     0.0261488\n",
              "\n",
              "[1 rows x 25 columns]"
            ]
          },
          "metadata": {},
          "execution_count": 52
        }
      ]
    },
    {
      "cell_type": "code",
      "source": [
        "# 0.4\n",
        "hybrid = DifferentLossScoresHybridRecommender(URM_train, recommender, recommender2)\n",
        "hybrid.fit(norm = -np.inf, alpha = 0.4)\n",
        "result_df, _ = evaluator_validation.evaluateRecommender(hybrid)\n",
        "result_df"
      ],
      "metadata": {
        "colab": {
          "base_uri": "https://localhost:8080/",
          "height": 149
        },
        "id": "LfyMcsGraEPi",
        "outputId": "82bcc47e-c747-42a1-bd82-e33a590db54e"
      },
      "execution_count": 53,
      "outputs": [
        {
          "output_type": "stream",
          "name": "stdout",
          "text": [
            "EvaluatorHoldout: Processed 13646 (100.0%) in 32.47 sec. Users per second: 420\n"
          ]
        },
        {
          "output_type": "execute_result",
          "data": {
            "text/html": [
              "<div>\n",
              "<style scoped>\n",
              "    .dataframe tbody tr th:only-of-type {\n",
              "        vertical-align: middle;\n",
              "    }\n",
              "\n",
              "    .dataframe tbody tr th {\n",
              "        vertical-align: top;\n",
              "    }\n",
              "\n",
              "    .dataframe thead th {\n",
              "        text-align: right;\n",
              "    }\n",
              "</style>\n",
              "<table border=\"1\" class=\"dataframe\">\n",
              "  <thead>\n",
              "    <tr style=\"text-align: right;\">\n",
              "      <th></th>\n",
              "      <th>PRECISION</th>\n",
              "      <th>PRECISION_RECALL_MIN_DEN</th>\n",
              "      <th>RECALL</th>\n",
              "      <th>MAP</th>\n",
              "      <th>MAP_MIN_DEN</th>\n",
              "      <th>MRR</th>\n",
              "      <th>NDCG</th>\n",
              "      <th>F1</th>\n",
              "      <th>HIT_RATE</th>\n",
              "      <th>ARHR_ALL_HITS</th>\n",
              "      <th>NOVELTY</th>\n",
              "      <th>AVERAGE_POPULARITY</th>\n",
              "      <th>DIVERSITY_MEAN_INTER_LIST</th>\n",
              "      <th>DIVERSITY_HERFINDAHL</th>\n",
              "      <th>COVERAGE_ITEM</th>\n",
              "      <th>COVERAGE_ITEM_CORRECT</th>\n",
              "      <th>COVERAGE_USER</th>\n",
              "      <th>COVERAGE_USER_CORRECT</th>\n",
              "      <th>DIVERSITY_GINI</th>\n",
              "      <th>SHANNON_ENTROPY</th>\n",
              "      <th>RATIO_DIVERSITY_HERFINDAHL</th>\n",
              "      <th>RATIO_DIVERSITY_GINI</th>\n",
              "      <th>RATIO_SHANNON_ENTROPY</th>\n",
              "      <th>RATIO_AVERAGE_POPULARITY</th>\n",
              "      <th>RATIO_NOVELTY</th>\n",
              "    </tr>\n",
              "    <tr>\n",
              "      <th>cutoff</th>\n",
              "      <th></th>\n",
              "      <th></th>\n",
              "      <th></th>\n",
              "      <th></th>\n",
              "      <th></th>\n",
              "      <th></th>\n",
              "      <th></th>\n",
              "      <th></th>\n",
              "      <th></th>\n",
              "      <th></th>\n",
              "      <th></th>\n",
              "      <th></th>\n",
              "      <th></th>\n",
              "      <th></th>\n",
              "      <th></th>\n",
              "      <th></th>\n",
              "      <th></th>\n",
              "      <th></th>\n",
              "      <th></th>\n",
              "      <th></th>\n",
              "      <th></th>\n",
              "      <th></th>\n",
              "      <th></th>\n",
              "      <th></th>\n",
              "      <th></th>\n",
              "    </tr>\n",
              "  </thead>\n",
              "  <tbody>\n",
              "    <tr>\n",
              "      <th>10</th>\n",
              "      <td>0.400491</td>\n",
              "      <td>0.402232</td>\n",
              "      <td>0.0713586</td>\n",
              "      <td>0.248327</td>\n",
              "      <td>0.249158</td>\n",
              "      <td>0.649318</td>\n",
              "      <td>0.414765</td>\n",
              "      <td>0.121134</td>\n",
              "      <td>0.971054</td>\n",
              "      <td>1.24732</td>\n",
              "      <td>0.00554596</td>\n",
              "      <td>0.530195</td>\n",
              "      <td>0.928866</td>\n",
              "      <td>0.99288</td>\n",
              "      <td>0.0636802</td>\n",
              "      <td>0.051664</td>\n",
              "      <td>0.999707</td>\n",
              "      <td>0.970769</td>\n",
              "      <td>0.011926</td>\n",
              "      <td>8.05802</td>\n",
              "      <td>0.993263</td>\n",
              "      <td>0.0481024</td>\n",
              "      <td>0.650366</td>\n",
              "      <td>2.588</td>\n",
              "      <td>0.0260941</td>\n",
              "    </tr>\n",
              "  </tbody>\n",
              "</table>\n",
              "</div>"
            ],
            "text/plain": [
              "       PRECISION  ... RATIO_NOVELTY\n",
              "cutoff            ...              \n",
              "10      0.400491  ...     0.0260941\n",
              "\n",
              "[1 rows x 25 columns]"
            ]
          },
          "metadata": {},
          "execution_count": 53
        }
      ]
    },
    {
      "cell_type": "code",
      "source": [
        "# 0.5\n",
        "hybrid = DifferentLossScoresHybridRecommender(URM_train, recommender, recommender2)\n",
        "hybrid.fit(norm = -np.inf, alpha = 0.5)\n",
        "result_df, _ = evaluator_validation.evaluateRecommender(hybrid)\n",
        "result_df"
      ],
      "metadata": {
        "colab": {
          "base_uri": "https://localhost:8080/",
          "height": 149
        },
        "id": "z8DonVcLaZFh",
        "outputId": "16ae1bf2-1fbb-4e42-c5bc-54c3cf3ba869"
      },
      "execution_count": 54,
      "outputs": [
        {
          "output_type": "stream",
          "name": "stdout",
          "text": [
            "EvaluatorHoldout: Processed 13646 (100.0%) in 32.32 sec. Users per second: 422\n"
          ]
        },
        {
          "output_type": "execute_result",
          "data": {
            "text/html": [
              "<div>\n",
              "<style scoped>\n",
              "    .dataframe tbody tr th:only-of-type {\n",
              "        vertical-align: middle;\n",
              "    }\n",
              "\n",
              "    .dataframe tbody tr th {\n",
              "        vertical-align: top;\n",
              "    }\n",
              "\n",
              "    .dataframe thead th {\n",
              "        text-align: right;\n",
              "    }\n",
              "</style>\n",
              "<table border=\"1\" class=\"dataframe\">\n",
              "  <thead>\n",
              "    <tr style=\"text-align: right;\">\n",
              "      <th></th>\n",
              "      <th>PRECISION</th>\n",
              "      <th>PRECISION_RECALL_MIN_DEN</th>\n",
              "      <th>RECALL</th>\n",
              "      <th>MAP</th>\n",
              "      <th>MAP_MIN_DEN</th>\n",
              "      <th>MRR</th>\n",
              "      <th>NDCG</th>\n",
              "      <th>F1</th>\n",
              "      <th>HIT_RATE</th>\n",
              "      <th>ARHR_ALL_HITS</th>\n",
              "      <th>NOVELTY</th>\n",
              "      <th>AVERAGE_POPULARITY</th>\n",
              "      <th>DIVERSITY_MEAN_INTER_LIST</th>\n",
              "      <th>DIVERSITY_HERFINDAHL</th>\n",
              "      <th>COVERAGE_ITEM</th>\n",
              "      <th>COVERAGE_ITEM_CORRECT</th>\n",
              "      <th>COVERAGE_USER</th>\n",
              "      <th>COVERAGE_USER_CORRECT</th>\n",
              "      <th>DIVERSITY_GINI</th>\n",
              "      <th>SHANNON_ENTROPY</th>\n",
              "      <th>RATIO_DIVERSITY_HERFINDAHL</th>\n",
              "      <th>RATIO_DIVERSITY_GINI</th>\n",
              "      <th>RATIO_SHANNON_ENTROPY</th>\n",
              "      <th>RATIO_AVERAGE_POPULARITY</th>\n",
              "      <th>RATIO_NOVELTY</th>\n",
              "    </tr>\n",
              "    <tr>\n",
              "      <th>cutoff</th>\n",
              "      <th></th>\n",
              "      <th></th>\n",
              "      <th></th>\n",
              "      <th></th>\n",
              "      <th></th>\n",
              "      <th></th>\n",
              "      <th></th>\n",
              "      <th></th>\n",
              "      <th></th>\n",
              "      <th></th>\n",
              "      <th></th>\n",
              "      <th></th>\n",
              "      <th></th>\n",
              "      <th></th>\n",
              "      <th></th>\n",
              "      <th></th>\n",
              "      <th></th>\n",
              "      <th></th>\n",
              "      <th></th>\n",
              "      <th></th>\n",
              "      <th></th>\n",
              "      <th></th>\n",
              "      <th></th>\n",
              "      <th></th>\n",
              "      <th></th>\n",
              "    </tr>\n",
              "  </thead>\n",
              "  <tbody>\n",
              "    <tr>\n",
              "      <th>10</th>\n",
              "      <td>0.401935</td>\n",
              "      <td>0.403686</td>\n",
              "      <td>0.0716291</td>\n",
              "      <td>0.249622</td>\n",
              "      <td>0.250492</td>\n",
              "      <td>0.65026</td>\n",
              "      <td>0.416177</td>\n",
              "      <td>0.12159</td>\n",
              "      <td>0.971933</td>\n",
              "      <td>1.25113</td>\n",
              "      <td>0.0055361</td>\n",
              "      <td>0.536244</td>\n",
              "      <td>0.925054</td>\n",
              "      <td>0.992499</td>\n",
              "      <td>0.0650645</td>\n",
              "      <td>0.0508888</td>\n",
              "      <td>0.999707</td>\n",
              "      <td>0.971648</td>\n",
              "      <td>0.0114965</td>\n",
              "      <td>7.99661</td>\n",
              "      <td>0.992882</td>\n",
              "      <td>0.0463701</td>\n",
              "      <td>0.645409</td>\n",
              "      <td>2.61752</td>\n",
              "      <td>0.0260478</td>\n",
              "    </tr>\n",
              "  </tbody>\n",
              "</table>\n",
              "</div>"
            ],
            "text/plain": [
              "       PRECISION  ... RATIO_NOVELTY\n",
              "cutoff            ...              \n",
              "10      0.401935  ...     0.0260478\n",
              "\n",
              "[1 rows x 25 columns]"
            ]
          },
          "metadata": {},
          "execution_count": 54
        }
      ]
    },
    {
      "cell_type": "code",
      "source": [
        "# 0.6\n",
        "hybrid = DifferentLossScoresHybridRecommender(URM_train, recommender, recommender2)\n",
        "hybrid.fit(norm = -np.inf, alpha = 0.6)\n",
        "result_df, _ = evaluator_validation.evaluateRecommender(hybrid)\n",
        "result_df"
      ],
      "metadata": {
        "colab": {
          "base_uri": "https://localhost:8080/",
          "height": 149
        },
        "id": "z7IVDEobbVt-",
        "outputId": "cf677900-0ea7-4494-ce6a-4524261ba3b4"
      },
      "execution_count": 55,
      "outputs": [
        {
          "output_type": "stream",
          "name": "stdout",
          "text": [
            "EvaluatorHoldout: Processed 13646 (100.0%) in 32.46 sec. Users per second: 420\n"
          ]
        },
        {
          "output_type": "execute_result",
          "data": {
            "text/html": [
              "<div>\n",
              "<style scoped>\n",
              "    .dataframe tbody tr th:only-of-type {\n",
              "        vertical-align: middle;\n",
              "    }\n",
              "\n",
              "    .dataframe tbody tr th {\n",
              "        vertical-align: top;\n",
              "    }\n",
              "\n",
              "    .dataframe thead th {\n",
              "        text-align: right;\n",
              "    }\n",
              "</style>\n",
              "<table border=\"1\" class=\"dataframe\">\n",
              "  <thead>\n",
              "    <tr style=\"text-align: right;\">\n",
              "      <th></th>\n",
              "      <th>PRECISION</th>\n",
              "      <th>PRECISION_RECALL_MIN_DEN</th>\n",
              "      <th>RECALL</th>\n",
              "      <th>MAP</th>\n",
              "      <th>MAP_MIN_DEN</th>\n",
              "      <th>MRR</th>\n",
              "      <th>NDCG</th>\n",
              "      <th>F1</th>\n",
              "      <th>HIT_RATE</th>\n",
              "      <th>ARHR_ALL_HITS</th>\n",
              "      <th>NOVELTY</th>\n",
              "      <th>AVERAGE_POPULARITY</th>\n",
              "      <th>DIVERSITY_MEAN_INTER_LIST</th>\n",
              "      <th>DIVERSITY_HERFINDAHL</th>\n",
              "      <th>COVERAGE_ITEM</th>\n",
              "      <th>COVERAGE_ITEM_CORRECT</th>\n",
              "      <th>COVERAGE_USER</th>\n",
              "      <th>COVERAGE_USER_CORRECT</th>\n",
              "      <th>DIVERSITY_GINI</th>\n",
              "      <th>SHANNON_ENTROPY</th>\n",
              "      <th>RATIO_DIVERSITY_HERFINDAHL</th>\n",
              "      <th>RATIO_DIVERSITY_GINI</th>\n",
              "      <th>RATIO_SHANNON_ENTROPY</th>\n",
              "      <th>RATIO_AVERAGE_POPULARITY</th>\n",
              "      <th>RATIO_NOVELTY</th>\n",
              "    </tr>\n",
              "    <tr>\n",
              "      <th>cutoff</th>\n",
              "      <th></th>\n",
              "      <th></th>\n",
              "      <th></th>\n",
              "      <th></th>\n",
              "      <th></th>\n",
              "      <th></th>\n",
              "      <th></th>\n",
              "      <th></th>\n",
              "      <th></th>\n",
              "      <th></th>\n",
              "      <th></th>\n",
              "      <th></th>\n",
              "      <th></th>\n",
              "      <th></th>\n",
              "      <th></th>\n",
              "      <th></th>\n",
              "      <th></th>\n",
              "      <th></th>\n",
              "      <th></th>\n",
              "      <th></th>\n",
              "      <th></th>\n",
              "      <th></th>\n",
              "      <th></th>\n",
              "      <th></th>\n",
              "      <th></th>\n",
              "    </tr>\n",
              "  </thead>\n",
              "  <tbody>\n",
              "    <tr>\n",
              "      <th>10</th>\n",
              "      <td>0.402946</td>\n",
              "      <td>0.404736</td>\n",
              "      <td>0.0718927</td>\n",
              "      <td>0.250141</td>\n",
              "      <td>0.251015</td>\n",
              "      <td>0.649328</td>\n",
              "      <td>0.41684</td>\n",
              "      <td>0.122016</td>\n",
              "      <td>0.97208</td>\n",
              "      <td>1.25204</td>\n",
              "      <td>0.00552827</td>\n",
              "      <td>0.541189</td>\n",
              "      <td>0.921815</td>\n",
              "      <td>0.992175</td>\n",
              "      <td>0.0663381</td>\n",
              "      <td>0.0505565</td>\n",
              "      <td>0.999707</td>\n",
              "      <td>0.971795</td>\n",
              "      <td>0.0111694</td>\n",
              "      <td>7.94685</td>\n",
              "      <td>0.992558</td>\n",
              "      <td>0.0450508</td>\n",
              "      <td>0.641394</td>\n",
              "      <td>2.64166</td>\n",
              "      <td>0.0260109</td>\n",
              "    </tr>\n",
              "  </tbody>\n",
              "</table>\n",
              "</div>"
            ],
            "text/plain": [
              "       PRECISION  ... RATIO_NOVELTY\n",
              "cutoff            ...              \n",
              "10      0.402946  ...     0.0260109\n",
              "\n",
              "[1 rows x 25 columns]"
            ]
          },
          "metadata": {},
          "execution_count": 55
        }
      ]
    },
    {
      "cell_type": "code",
      "source": [
        "# 0.7\n",
        "hybrid = DifferentLossScoresHybridRecommender(URM_train, recommender, recommender2)\n",
        "hybrid.fit(norm = -np.inf, alpha = 0.7)\n",
        "result_df, _ = evaluator_validation.evaluateRecommender(hybrid)\n",
        "result_df"
      ],
      "metadata": {
        "colab": {
          "base_uri": "https://localhost:8080/",
          "height": 149
        },
        "id": "H3RF4Yvjb6H-",
        "outputId": "180b2723-85fc-4539-a47b-48a5d7f08cb4"
      },
      "execution_count": 56,
      "outputs": [
        {
          "output_type": "stream",
          "name": "stdout",
          "text": [
            "EvaluatorHoldout: Processed 13646 (100.0%) in 32.40 sec. Users per second: 421\n"
          ]
        },
        {
          "output_type": "execute_result",
          "data": {
            "text/html": [
              "<div>\n",
              "<style scoped>\n",
              "    .dataframe tbody tr th:only-of-type {\n",
              "        vertical-align: middle;\n",
              "    }\n",
              "\n",
              "    .dataframe tbody tr th {\n",
              "        vertical-align: top;\n",
              "    }\n",
              "\n",
              "    .dataframe thead th {\n",
              "        text-align: right;\n",
              "    }\n",
              "</style>\n",
              "<table border=\"1\" class=\"dataframe\">\n",
              "  <thead>\n",
              "    <tr style=\"text-align: right;\">\n",
              "      <th></th>\n",
              "      <th>PRECISION</th>\n",
              "      <th>PRECISION_RECALL_MIN_DEN</th>\n",
              "      <th>RECALL</th>\n",
              "      <th>MAP</th>\n",
              "      <th>MAP_MIN_DEN</th>\n",
              "      <th>MRR</th>\n",
              "      <th>NDCG</th>\n",
              "      <th>F1</th>\n",
              "      <th>HIT_RATE</th>\n",
              "      <th>ARHR_ALL_HITS</th>\n",
              "      <th>NOVELTY</th>\n",
              "      <th>AVERAGE_POPULARITY</th>\n",
              "      <th>DIVERSITY_MEAN_INTER_LIST</th>\n",
              "      <th>DIVERSITY_HERFINDAHL</th>\n",
              "      <th>COVERAGE_ITEM</th>\n",
              "      <th>COVERAGE_ITEM_CORRECT</th>\n",
              "      <th>COVERAGE_USER</th>\n",
              "      <th>COVERAGE_USER_CORRECT</th>\n",
              "      <th>DIVERSITY_GINI</th>\n",
              "      <th>SHANNON_ENTROPY</th>\n",
              "      <th>RATIO_DIVERSITY_HERFINDAHL</th>\n",
              "      <th>RATIO_DIVERSITY_GINI</th>\n",
              "      <th>RATIO_SHANNON_ENTROPY</th>\n",
              "      <th>RATIO_AVERAGE_POPULARITY</th>\n",
              "      <th>RATIO_NOVELTY</th>\n",
              "    </tr>\n",
              "    <tr>\n",
              "      <th>cutoff</th>\n",
              "      <th></th>\n",
              "      <th></th>\n",
              "      <th></th>\n",
              "      <th></th>\n",
              "      <th></th>\n",
              "      <th></th>\n",
              "      <th></th>\n",
              "      <th></th>\n",
              "      <th></th>\n",
              "      <th></th>\n",
              "      <th></th>\n",
              "      <th></th>\n",
              "      <th></th>\n",
              "      <th></th>\n",
              "      <th></th>\n",
              "      <th></th>\n",
              "      <th></th>\n",
              "      <th></th>\n",
              "      <th></th>\n",
              "      <th></th>\n",
              "      <th></th>\n",
              "      <th></th>\n",
              "      <th></th>\n",
              "      <th></th>\n",
              "      <th></th>\n",
              "    </tr>\n",
              "  </thead>\n",
              "  <tbody>\n",
              "    <tr>\n",
              "      <th>10</th>\n",
              "      <td>0.403298</td>\n",
              "      <td>0.405137</td>\n",
              "      <td>0.0720926</td>\n",
              "      <td>0.250358</td>\n",
              "      <td>0.251239</td>\n",
              "      <td>0.649596</td>\n",
              "      <td>0.417129</td>\n",
              "      <td>0.12232</td>\n",
              "      <td>0.9723</td>\n",
              "      <td>1.25272</td>\n",
              "      <td>0.00552297</td>\n",
              "      <td>0.544703</td>\n",
              "      <td>0.919408</td>\n",
              "      <td>0.991934</td>\n",
              "      <td>0.0679993</td>\n",
              "      <td>0.0502243</td>\n",
              "      <td>0.999707</td>\n",
              "      <td>0.972015</td>\n",
              "      <td>0.0109371</td>\n",
              "      <td>7.91046</td>\n",
              "      <td>0.992317</td>\n",
              "      <td>0.0441139</td>\n",
              "      <td>0.638456</td>\n",
              "      <td>2.65881</td>\n",
              "      <td>0.025986</td>\n",
              "    </tr>\n",
              "  </tbody>\n",
              "</table>\n",
              "</div>"
            ],
            "text/plain": [
              "       PRECISION  ... RATIO_NOVELTY\n",
              "cutoff            ...              \n",
              "10      0.403298  ...      0.025986\n",
              "\n",
              "[1 rows x 25 columns]"
            ]
          },
          "metadata": {},
          "execution_count": 56
        }
      ]
    },
    {
      "cell_type": "code",
      "source": [
        "# 0.75\n",
        "hybrid = DifferentLossScoresHybridRecommender(URM_train, recommender, recommender2)\n",
        "hybrid.fit(norm = -np.inf, alpha = 0.75)\n",
        "result_df, _ = evaluator_validation.evaluateRecommender(hybrid)\n",
        "result_df"
      ],
      "metadata": {
        "colab": {
          "base_uri": "https://localhost:8080/",
          "height": 149
        },
        "id": "RXX0p3Ca5jan",
        "outputId": "8dfcf4de-2b8a-4e53-fcde-cd47583c6914"
      },
      "execution_count": 60,
      "outputs": [
        {
          "output_type": "stream",
          "name": "stdout",
          "text": [
            "EvaluatorHoldout: Processed 13646 (100.0%) in 36.35 sec. Users per second: 375\n"
          ]
        },
        {
          "output_type": "execute_result",
          "data": {
            "text/html": [
              "<div>\n",
              "<style scoped>\n",
              "    .dataframe tbody tr th:only-of-type {\n",
              "        vertical-align: middle;\n",
              "    }\n",
              "\n",
              "    .dataframe tbody tr th {\n",
              "        vertical-align: top;\n",
              "    }\n",
              "\n",
              "    .dataframe thead th {\n",
              "        text-align: right;\n",
              "    }\n",
              "</style>\n",
              "<table border=\"1\" class=\"dataframe\">\n",
              "  <thead>\n",
              "    <tr style=\"text-align: right;\">\n",
              "      <th></th>\n",
              "      <th>PRECISION</th>\n",
              "      <th>PRECISION_RECALL_MIN_DEN</th>\n",
              "      <th>RECALL</th>\n",
              "      <th>MAP</th>\n",
              "      <th>MAP_MIN_DEN</th>\n",
              "      <th>MRR</th>\n",
              "      <th>NDCG</th>\n",
              "      <th>F1</th>\n",
              "      <th>HIT_RATE</th>\n",
              "      <th>ARHR_ALL_HITS</th>\n",
              "      <th>NOVELTY</th>\n",
              "      <th>AVERAGE_POPULARITY</th>\n",
              "      <th>DIVERSITY_MEAN_INTER_LIST</th>\n",
              "      <th>DIVERSITY_HERFINDAHL</th>\n",
              "      <th>COVERAGE_ITEM</th>\n",
              "      <th>COVERAGE_ITEM_CORRECT</th>\n",
              "      <th>COVERAGE_USER</th>\n",
              "      <th>COVERAGE_USER_CORRECT</th>\n",
              "      <th>DIVERSITY_GINI</th>\n",
              "      <th>SHANNON_ENTROPY</th>\n",
              "      <th>RATIO_DIVERSITY_HERFINDAHL</th>\n",
              "      <th>RATIO_DIVERSITY_GINI</th>\n",
              "      <th>RATIO_SHANNON_ENTROPY</th>\n",
              "      <th>RATIO_AVERAGE_POPULARITY</th>\n",
              "      <th>RATIO_NOVELTY</th>\n",
              "    </tr>\n",
              "    <tr>\n",
              "      <th>cutoff</th>\n",
              "      <th></th>\n",
              "      <th></th>\n",
              "      <th></th>\n",
              "      <th></th>\n",
              "      <th></th>\n",
              "      <th></th>\n",
              "      <th></th>\n",
              "      <th></th>\n",
              "      <th></th>\n",
              "      <th></th>\n",
              "      <th></th>\n",
              "      <th></th>\n",
              "      <th></th>\n",
              "      <th></th>\n",
              "      <th></th>\n",
              "      <th></th>\n",
              "      <th></th>\n",
              "      <th></th>\n",
              "      <th></th>\n",
              "      <th></th>\n",
              "      <th></th>\n",
              "      <th></th>\n",
              "      <th></th>\n",
              "      <th></th>\n",
              "      <th></th>\n",
              "    </tr>\n",
              "  </thead>\n",
              "  <tbody>\n",
              "    <tr>\n",
              "      <th>10</th>\n",
              "      <td>0.403444</td>\n",
              "      <td>0.405272</td>\n",
              "      <td>0.0720107</td>\n",
              "      <td>0.250325</td>\n",
              "      <td>0.25119</td>\n",
              "      <td>0.649035</td>\n",
              "      <td>0.417026</td>\n",
              "      <td>0.122208</td>\n",
              "      <td>0.972006</td>\n",
              "      <td>1.25172</td>\n",
              "      <td>0.00552046</td>\n",
              "      <td>0.54632</td>\n",
              "      <td>0.918299</td>\n",
              "      <td>0.991823</td>\n",
              "      <td>0.0686085</td>\n",
              "      <td>0.050335</td>\n",
              "      <td>0.999707</td>\n",
              "      <td>0.971722</td>\n",
              "      <td>0.0108458</td>\n",
              "      <td>7.89497</td>\n",
              "      <td>0.992206</td>\n",
              "      <td>0.0437454</td>\n",
              "      <td>0.637206</td>\n",
              "      <td>2.66671</td>\n",
              "      <td>0.0259742</td>\n",
              "    </tr>\n",
              "  </tbody>\n",
              "</table>\n",
              "</div>"
            ],
            "text/plain": [
              "       PRECISION  ... RATIO_NOVELTY\n",
              "cutoff            ...              \n",
              "10      0.403444  ...     0.0259742\n",
              "\n",
              "[1 rows x 25 columns]"
            ]
          },
          "metadata": {},
          "execution_count": 60
        }
      ]
    },
    {
      "cell_type": "code",
      "source": [
        "# 0.8\n",
        "hybrid = DifferentLossScoresHybridRecommender(URM_train, recommender, recommender2)\n",
        "hybrid.fit(norm = -np.inf, alpha = 0.8)\n",
        "result_df, _ = evaluator_validation.evaluateRecommender(hybrid)\n",
        "result_df"
      ],
      "metadata": {
        "colab": {
          "base_uri": "https://localhost:8080/",
          "height": 149
        },
        "id": "qjDzvAiPb6hC",
        "outputId": "f7db6c83-9d90-4fbe-8ab2-d771166ca7c9"
      },
      "execution_count": 57,
      "outputs": [
        {
          "output_type": "stream",
          "name": "stdout",
          "text": [
            "EvaluatorHoldout: Processed 13646 (100.0%) in 32.34 sec. Users per second: 422\n"
          ]
        },
        {
          "output_type": "execute_result",
          "data": {
            "text/html": [
              "<div>\n",
              "<style scoped>\n",
              "    .dataframe tbody tr th:only-of-type {\n",
              "        vertical-align: middle;\n",
              "    }\n",
              "\n",
              "    .dataframe tbody tr th {\n",
              "        vertical-align: top;\n",
              "    }\n",
              "\n",
              "    .dataframe thead th {\n",
              "        text-align: right;\n",
              "    }\n",
              "</style>\n",
              "<table border=\"1\" class=\"dataframe\">\n",
              "  <thead>\n",
              "    <tr style=\"text-align: right;\">\n",
              "      <th></th>\n",
              "      <th>PRECISION</th>\n",
              "      <th>PRECISION_RECALL_MIN_DEN</th>\n",
              "      <th>RECALL</th>\n",
              "      <th>MAP</th>\n",
              "      <th>MAP_MIN_DEN</th>\n",
              "      <th>MRR</th>\n",
              "      <th>NDCG</th>\n",
              "      <th>F1</th>\n",
              "      <th>HIT_RATE</th>\n",
              "      <th>ARHR_ALL_HITS</th>\n",
              "      <th>NOVELTY</th>\n",
              "      <th>AVERAGE_POPULARITY</th>\n",
              "      <th>DIVERSITY_MEAN_INTER_LIST</th>\n",
              "      <th>DIVERSITY_HERFINDAHL</th>\n",
              "      <th>COVERAGE_ITEM</th>\n",
              "      <th>COVERAGE_ITEM_CORRECT</th>\n",
              "      <th>COVERAGE_USER</th>\n",
              "      <th>COVERAGE_USER_CORRECT</th>\n",
              "      <th>DIVERSITY_GINI</th>\n",
              "      <th>SHANNON_ENTROPY</th>\n",
              "      <th>RATIO_DIVERSITY_HERFINDAHL</th>\n",
              "      <th>RATIO_DIVERSITY_GINI</th>\n",
              "      <th>RATIO_SHANNON_ENTROPY</th>\n",
              "      <th>RATIO_AVERAGE_POPULARITY</th>\n",
              "      <th>RATIO_NOVELTY</th>\n",
              "    </tr>\n",
              "    <tr>\n",
              "      <th>cutoff</th>\n",
              "      <th></th>\n",
              "      <th></th>\n",
              "      <th></th>\n",
              "      <th></th>\n",
              "      <th></th>\n",
              "      <th></th>\n",
              "      <th></th>\n",
              "      <th></th>\n",
              "      <th></th>\n",
              "      <th></th>\n",
              "      <th></th>\n",
              "      <th></th>\n",
              "      <th></th>\n",
              "      <th></th>\n",
              "      <th></th>\n",
              "      <th></th>\n",
              "      <th></th>\n",
              "      <th></th>\n",
              "      <th></th>\n",
              "      <th></th>\n",
              "      <th></th>\n",
              "      <th></th>\n",
              "      <th></th>\n",
              "      <th></th>\n",
              "      <th></th>\n",
              "    </tr>\n",
              "  </thead>\n",
              "  <tbody>\n",
              "    <tr>\n",
              "      <th>10</th>\n",
              "      <td>0.403474</td>\n",
              "      <td>0.405291</td>\n",
              "      <td>0.0720331</td>\n",
              "      <td>0.250378</td>\n",
              "      <td>0.251231</td>\n",
              "      <td>0.649071</td>\n",
              "      <td>0.417058</td>\n",
              "      <td>0.122242</td>\n",
              "      <td>0.97208</td>\n",
              "      <td>1.25188</td>\n",
              "      <td>0.0055184</td>\n",
              "      <td>0.547716</td>\n",
              "      <td>0.917274</td>\n",
              "      <td>0.991721</td>\n",
              "      <td>0.0692729</td>\n",
              "      <td>0.0505565</td>\n",
              "      <td>0.999707</td>\n",
              "      <td>0.971795</td>\n",
              "      <td>0.01076</td>\n",
              "      <td>7.88064</td>\n",
              "      <td>0.992104</td>\n",
              "      <td>0.0433994</td>\n",
              "      <td>0.636049</td>\n",
              "      <td>2.67352</td>\n",
              "      <td>0.0259645</td>\n",
              "    </tr>\n",
              "  </tbody>\n",
              "</table>\n",
              "</div>"
            ],
            "text/plain": [
              "       PRECISION  ... RATIO_NOVELTY\n",
              "cutoff            ...              \n",
              "10      0.403474  ...     0.0259645\n",
              "\n",
              "[1 rows x 25 columns]"
            ]
          },
          "metadata": {},
          "execution_count": 57
        }
      ]
    },
    {
      "cell_type": "code",
      "source": [
        "# 0.85\n",
        "hybrid = DifferentLossScoresHybridRecommender(URM_train, recommender, recommender2)\n",
        "hybrid.fit(norm = -np.inf, alpha = 0.85)\n",
        "result_df, _ = evaluator_validation.evaluateRecommender(hybrid)\n",
        "result_df"
      ],
      "metadata": {
        "colab": {
          "base_uri": "https://localhost:8080/",
          "height": 149
        },
        "id": "_Rto5JpU5yZS",
        "outputId": "ed0cf5f2-41dc-452f-a6f0-26d96b561186"
      },
      "execution_count": 61,
      "outputs": [
        {
          "output_type": "stream",
          "name": "stdout",
          "text": [
            "EvaluatorHoldout: Processed 13646 (100.0%) in 33.60 sec. Users per second: 406\n"
          ]
        },
        {
          "output_type": "execute_result",
          "data": {
            "text/html": [
              "<div>\n",
              "<style scoped>\n",
              "    .dataframe tbody tr th:only-of-type {\n",
              "        vertical-align: middle;\n",
              "    }\n",
              "\n",
              "    .dataframe tbody tr th {\n",
              "        vertical-align: top;\n",
              "    }\n",
              "\n",
              "    .dataframe thead th {\n",
              "        text-align: right;\n",
              "    }\n",
              "</style>\n",
              "<table border=\"1\" class=\"dataframe\">\n",
              "  <thead>\n",
              "    <tr style=\"text-align: right;\">\n",
              "      <th></th>\n",
              "      <th>PRECISION</th>\n",
              "      <th>PRECISION_RECALL_MIN_DEN</th>\n",
              "      <th>RECALL</th>\n",
              "      <th>MAP</th>\n",
              "      <th>MAP_MIN_DEN</th>\n",
              "      <th>MRR</th>\n",
              "      <th>NDCG</th>\n",
              "      <th>F1</th>\n",
              "      <th>HIT_RATE</th>\n",
              "      <th>ARHR_ALL_HITS</th>\n",
              "      <th>NOVELTY</th>\n",
              "      <th>AVERAGE_POPULARITY</th>\n",
              "      <th>DIVERSITY_MEAN_INTER_LIST</th>\n",
              "      <th>DIVERSITY_HERFINDAHL</th>\n",
              "      <th>COVERAGE_ITEM</th>\n",
              "      <th>COVERAGE_ITEM_CORRECT</th>\n",
              "      <th>COVERAGE_USER</th>\n",
              "      <th>COVERAGE_USER_CORRECT</th>\n",
              "      <th>DIVERSITY_GINI</th>\n",
              "      <th>SHANNON_ENTROPY</th>\n",
              "      <th>RATIO_DIVERSITY_HERFINDAHL</th>\n",
              "      <th>RATIO_DIVERSITY_GINI</th>\n",
              "      <th>RATIO_SHANNON_ENTROPY</th>\n",
              "      <th>RATIO_AVERAGE_POPULARITY</th>\n",
              "      <th>RATIO_NOVELTY</th>\n",
              "    </tr>\n",
              "    <tr>\n",
              "      <th>cutoff</th>\n",
              "      <th></th>\n",
              "      <th></th>\n",
              "      <th></th>\n",
              "      <th></th>\n",
              "      <th></th>\n",
              "      <th></th>\n",
              "      <th></th>\n",
              "      <th></th>\n",
              "      <th></th>\n",
              "      <th></th>\n",
              "      <th></th>\n",
              "      <th></th>\n",
              "      <th></th>\n",
              "      <th></th>\n",
              "      <th></th>\n",
              "      <th></th>\n",
              "      <th></th>\n",
              "      <th></th>\n",
              "      <th></th>\n",
              "      <th></th>\n",
              "      <th></th>\n",
              "      <th></th>\n",
              "      <th></th>\n",
              "      <th></th>\n",
              "      <th></th>\n",
              "    </tr>\n",
              "  </thead>\n",
              "  <tbody>\n",
              "    <tr>\n",
              "      <th>10</th>\n",
              "      <td>0.402975</td>\n",
              "      <td>0.40478</td>\n",
              "      <td>0.071949</td>\n",
              "      <td>0.250116</td>\n",
              "      <td>0.250967</td>\n",
              "      <td>0.649743</td>\n",
              "      <td>0.416762</td>\n",
              "      <td>0.122098</td>\n",
              "      <td>0.972006</td>\n",
              "      <td>1.25163</td>\n",
              "      <td>0.00551661</td>\n",
              "      <td>0.54896</td>\n",
              "      <td>0.916395</td>\n",
              "      <td>0.991633</td>\n",
              "      <td>0.0700482</td>\n",
              "      <td>0.0501689</td>\n",
              "      <td>0.999707</td>\n",
              "      <td>0.971722</td>\n",
              "      <td>0.0106816</td>\n",
              "      <td>7.86778</td>\n",
              "      <td>0.992016</td>\n",
              "      <td>0.0430832</td>\n",
              "      <td>0.635012</td>\n",
              "      <td>2.67959</td>\n",
              "      <td>0.025956</td>\n",
              "    </tr>\n",
              "  </tbody>\n",
              "</table>\n",
              "</div>"
            ],
            "text/plain": [
              "       PRECISION  ... RATIO_NOVELTY\n",
              "cutoff            ...              \n",
              "10      0.402975  ...      0.025956\n",
              "\n",
              "[1 rows x 25 columns]"
            ]
          },
          "metadata": {},
          "execution_count": 61
        }
      ]
    },
    {
      "cell_type": "code",
      "source": [
        "# 0.9\n",
        "hybrid = DifferentLossScoresHybridRecommender(URM_train, recommender, recommender2)\n",
        "hybrid.fit(norm = -np.inf, alpha = 0.9)\n",
        "result_df, _ = evaluator_validation.evaluateRecommender(hybrid)\n",
        "result_df"
      ],
      "metadata": {
        "colab": {
          "base_uri": "https://localhost:8080/",
          "height": 149
        },
        "id": "X6p_5pTldMEY",
        "outputId": "1bb03cb7-a722-476d-8bcc-15001841b6b9"
      },
      "execution_count": 58,
      "outputs": [
        {
          "output_type": "stream",
          "name": "stdout",
          "text": [
            "EvaluatorHoldout: Processed 13646 (100.0%) in 32.56 sec. Users per second: 419\n"
          ]
        },
        {
          "output_type": "execute_result",
          "data": {
            "text/html": [
              "<div>\n",
              "<style scoped>\n",
              "    .dataframe tbody tr th:only-of-type {\n",
              "        vertical-align: middle;\n",
              "    }\n",
              "\n",
              "    .dataframe tbody tr th {\n",
              "        vertical-align: top;\n",
              "    }\n",
              "\n",
              "    .dataframe thead th {\n",
              "        text-align: right;\n",
              "    }\n",
              "</style>\n",
              "<table border=\"1\" class=\"dataframe\">\n",
              "  <thead>\n",
              "    <tr style=\"text-align: right;\">\n",
              "      <th></th>\n",
              "      <th>PRECISION</th>\n",
              "      <th>PRECISION_RECALL_MIN_DEN</th>\n",
              "      <th>RECALL</th>\n",
              "      <th>MAP</th>\n",
              "      <th>MAP_MIN_DEN</th>\n",
              "      <th>MRR</th>\n",
              "      <th>NDCG</th>\n",
              "      <th>F1</th>\n",
              "      <th>HIT_RATE</th>\n",
              "      <th>ARHR_ALL_HITS</th>\n",
              "      <th>NOVELTY</th>\n",
              "      <th>AVERAGE_POPULARITY</th>\n",
              "      <th>DIVERSITY_MEAN_INTER_LIST</th>\n",
              "      <th>DIVERSITY_HERFINDAHL</th>\n",
              "      <th>COVERAGE_ITEM</th>\n",
              "      <th>COVERAGE_ITEM_CORRECT</th>\n",
              "      <th>COVERAGE_USER</th>\n",
              "      <th>COVERAGE_USER_CORRECT</th>\n",
              "      <th>DIVERSITY_GINI</th>\n",
              "      <th>SHANNON_ENTROPY</th>\n",
              "      <th>RATIO_DIVERSITY_HERFINDAHL</th>\n",
              "      <th>RATIO_DIVERSITY_GINI</th>\n",
              "      <th>RATIO_SHANNON_ENTROPY</th>\n",
              "      <th>RATIO_AVERAGE_POPULARITY</th>\n",
              "      <th>RATIO_NOVELTY</th>\n",
              "    </tr>\n",
              "    <tr>\n",
              "      <th>cutoff</th>\n",
              "      <th></th>\n",
              "      <th></th>\n",
              "      <th></th>\n",
              "      <th></th>\n",
              "      <th></th>\n",
              "      <th></th>\n",
              "      <th></th>\n",
              "      <th></th>\n",
              "      <th></th>\n",
              "      <th></th>\n",
              "      <th></th>\n",
              "      <th></th>\n",
              "      <th></th>\n",
              "      <th></th>\n",
              "      <th></th>\n",
              "      <th></th>\n",
              "      <th></th>\n",
              "      <th></th>\n",
              "      <th></th>\n",
              "      <th></th>\n",
              "      <th></th>\n",
              "      <th></th>\n",
              "      <th></th>\n",
              "      <th></th>\n",
              "      <th></th>\n",
              "    </tr>\n",
              "  </thead>\n",
              "  <tbody>\n",
              "    <tr>\n",
              "      <th>10</th>\n",
              "      <td>0.402565</td>\n",
              "      <td>0.404376</td>\n",
              "      <td>0.0719356</td>\n",
              "      <td>0.249714</td>\n",
              "      <td>0.250565</td>\n",
              "      <td>0.649609</td>\n",
              "      <td>0.41639</td>\n",
              "      <td>0.12206</td>\n",
              "      <td>0.972373</td>\n",
              "      <td>1.25059</td>\n",
              "      <td>0.00551541</td>\n",
              "      <td>0.549899</td>\n",
              "      <td>0.915656</td>\n",
              "      <td>0.991559</td>\n",
              "      <td>0.0707127</td>\n",
              "      <td>0.0501135</td>\n",
              "      <td>0.999707</td>\n",
              "      <td>0.972088</td>\n",
              "      <td>0.0106297</td>\n",
              "      <td>7.85817</td>\n",
              "      <td>0.991942</td>\n",
              "      <td>0.0428739</td>\n",
              "      <td>0.634236</td>\n",
              "      <td>2.68418</td>\n",
              "      <td>0.0259504</td>\n",
              "    </tr>\n",
              "  </tbody>\n",
              "</table>\n",
              "</div>"
            ],
            "text/plain": [
              "       PRECISION  ... RATIO_NOVELTY\n",
              "cutoff            ...              \n",
              "10      0.402565  ...     0.0259504\n",
              "\n",
              "[1 rows x 25 columns]"
            ]
          },
          "metadata": {},
          "execution_count": 58
        }
      ]
    },
    {
      "cell_type": "code",
      "source": [
        "# 1\n",
        "hybrid = DifferentLossScoresHybridRecommender(URM_train, recommender, recommender2)\n",
        "hybrid.fit(norm = -np.inf, alpha = 1)\n",
        "result_df, _ = evaluator_validation.evaluateRecommender(hybrid)\n",
        "result_df"
      ],
      "metadata": {
        "colab": {
          "base_uri": "https://localhost:8080/",
          "height": 149
        },
        "id": "KuPv8GYIg2N9",
        "outputId": "3a35c5fb-fbc1-4a11-e9de-a15d60479a4c"
      },
      "execution_count": 59,
      "outputs": [
        {
          "output_type": "stream",
          "name": "stdout",
          "text": [
            "EvaluatorHoldout: Processed 13646 (100.0%) in 32.67 sec. Users per second: 418\n"
          ]
        },
        {
          "output_type": "execute_result",
          "data": {
            "text/html": [
              "<div>\n",
              "<style scoped>\n",
              "    .dataframe tbody tr th:only-of-type {\n",
              "        vertical-align: middle;\n",
              "    }\n",
              "\n",
              "    .dataframe tbody tr th {\n",
              "        vertical-align: top;\n",
              "    }\n",
              "\n",
              "    .dataframe thead th {\n",
              "        text-align: right;\n",
              "    }\n",
              "</style>\n",
              "<table border=\"1\" class=\"dataframe\">\n",
              "  <thead>\n",
              "    <tr style=\"text-align: right;\">\n",
              "      <th></th>\n",
              "      <th>PRECISION</th>\n",
              "      <th>PRECISION_RECALL_MIN_DEN</th>\n",
              "      <th>RECALL</th>\n",
              "      <th>MAP</th>\n",
              "      <th>MAP_MIN_DEN</th>\n",
              "      <th>MRR</th>\n",
              "      <th>NDCG</th>\n",
              "      <th>F1</th>\n",
              "      <th>HIT_RATE</th>\n",
              "      <th>ARHR_ALL_HITS</th>\n",
              "      <th>NOVELTY</th>\n",
              "      <th>AVERAGE_POPULARITY</th>\n",
              "      <th>DIVERSITY_MEAN_INTER_LIST</th>\n",
              "      <th>DIVERSITY_HERFINDAHL</th>\n",
              "      <th>COVERAGE_ITEM</th>\n",
              "      <th>COVERAGE_ITEM_CORRECT</th>\n",
              "      <th>COVERAGE_USER</th>\n",
              "      <th>COVERAGE_USER_CORRECT</th>\n",
              "      <th>DIVERSITY_GINI</th>\n",
              "      <th>SHANNON_ENTROPY</th>\n",
              "      <th>RATIO_DIVERSITY_HERFINDAHL</th>\n",
              "      <th>RATIO_DIVERSITY_GINI</th>\n",
              "      <th>RATIO_SHANNON_ENTROPY</th>\n",
              "      <th>RATIO_AVERAGE_POPULARITY</th>\n",
              "      <th>RATIO_NOVELTY</th>\n",
              "    </tr>\n",
              "    <tr>\n",
              "      <th>cutoff</th>\n",
              "      <th></th>\n",
              "      <th></th>\n",
              "      <th></th>\n",
              "      <th></th>\n",
              "      <th></th>\n",
              "      <th></th>\n",
              "      <th></th>\n",
              "      <th></th>\n",
              "      <th></th>\n",
              "      <th></th>\n",
              "      <th></th>\n",
              "      <th></th>\n",
              "      <th></th>\n",
              "      <th></th>\n",
              "      <th></th>\n",
              "      <th></th>\n",
              "      <th></th>\n",
              "      <th></th>\n",
              "      <th></th>\n",
              "      <th></th>\n",
              "      <th></th>\n",
              "      <th></th>\n",
              "      <th></th>\n",
              "      <th></th>\n",
              "      <th></th>\n",
              "    </tr>\n",
              "  </thead>\n",
              "  <tbody>\n",
              "    <tr>\n",
              "      <th>10</th>\n",
              "      <td>0.401671</td>\n",
              "      <td>0.403454</td>\n",
              "      <td>0.0718521</td>\n",
              "      <td>0.248808</td>\n",
              "      <td>0.249654</td>\n",
              "      <td>0.648586</td>\n",
              "      <td>0.415448</td>\n",
              "      <td>0.121899</td>\n",
              "      <td>0.972519</td>\n",
              "      <td>1.2477</td>\n",
              "      <td>0.00551275</td>\n",
              "      <td>0.551821</td>\n",
              "      <td>0.914229</td>\n",
              "      <td>0.991416</td>\n",
              "      <td>0.0720416</td>\n",
              "      <td>0.0506673</td>\n",
              "      <td>0.999707</td>\n",
              "      <td>0.972234</td>\n",
              "      <td>0.0105253</td>\n",
              "      <td>7.83906</td>\n",
              "      <td>0.991799</td>\n",
              "      <td>0.0424527</td>\n",
              "      <td>0.632694</td>\n",
              "      <td>2.69356</td>\n",
              "      <td>0.0259379</td>\n",
              "    </tr>\n",
              "  </tbody>\n",
              "</table>\n",
              "</div>"
            ],
            "text/plain": [
              "       PRECISION  ... RATIO_NOVELTY\n",
              "cutoff            ...              \n",
              "10      0.401671  ...     0.0259379\n",
              "\n",
              "[1 rows x 25 columns]"
            ]
          },
          "metadata": {},
          "execution_count": 59
        }
      ]
    },
    {
      "cell_type": "markdown",
      "source": [
        "#SLIM TOP K 300 NORM 2"
      ],
      "metadata": {
        "id": "GX5DXLO7t8RB"
      }
    },
    {
      "cell_type": "code",
      "source": [
        "# 0.0\n",
        "hybrid = DifferentLossScoresHybridRecommender(URM_train, recommender3, recommender2)\n",
        "hybrid.fit(norm = 2, alpha = 0)\n",
        "result_df, _ = evaluator_validation.evaluateRecommender(hybrid)\n",
        "result_df"
      ],
      "metadata": {
        "colab": {
          "base_uri": "https://localhost:8080/",
          "height": 149
        },
        "id": "0qFKwO9st7xQ",
        "outputId": "9f745534-5935-48d8-c00c-8bb894f23937"
      },
      "execution_count": 38,
      "outputs": [
        {
          "output_type": "stream",
          "name": "stdout",
          "text": [
            "EvaluatorHoldout: Processed 13646 (100.0%) in 2.18 min. Users per second: 104\n"
          ]
        },
        {
          "output_type": "execute_result",
          "data": {
            "text/html": [
              "<div>\n",
              "<style scoped>\n",
              "    .dataframe tbody tr th:only-of-type {\n",
              "        vertical-align: middle;\n",
              "    }\n",
              "\n",
              "    .dataframe tbody tr th {\n",
              "        vertical-align: top;\n",
              "    }\n",
              "\n",
              "    .dataframe thead th {\n",
              "        text-align: right;\n",
              "    }\n",
              "</style>\n",
              "<table border=\"1\" class=\"dataframe\">\n",
              "  <thead>\n",
              "    <tr style=\"text-align: right;\">\n",
              "      <th></th>\n",
              "      <th>PRECISION</th>\n",
              "      <th>PRECISION_RECALL_MIN_DEN</th>\n",
              "      <th>RECALL</th>\n",
              "      <th>MAP</th>\n",
              "      <th>MAP_MIN_DEN</th>\n",
              "      <th>MRR</th>\n",
              "      <th>NDCG</th>\n",
              "      <th>F1</th>\n",
              "      <th>HIT_RATE</th>\n",
              "      <th>ARHR_ALL_HITS</th>\n",
              "      <th>NOVELTY</th>\n",
              "      <th>AVERAGE_POPULARITY</th>\n",
              "      <th>DIVERSITY_MEAN_INTER_LIST</th>\n",
              "      <th>DIVERSITY_HERFINDAHL</th>\n",
              "      <th>COVERAGE_ITEM</th>\n",
              "      <th>COVERAGE_ITEM_CORRECT</th>\n",
              "      <th>COVERAGE_USER</th>\n",
              "      <th>COVERAGE_USER_CORRECT</th>\n",
              "      <th>DIVERSITY_GINI</th>\n",
              "      <th>SHANNON_ENTROPY</th>\n",
              "      <th>RATIO_DIVERSITY_HERFINDAHL</th>\n",
              "      <th>RATIO_DIVERSITY_GINI</th>\n",
              "      <th>RATIO_SHANNON_ENTROPY</th>\n",
              "      <th>RATIO_AVERAGE_POPULARITY</th>\n",
              "      <th>RATIO_NOVELTY</th>\n",
              "    </tr>\n",
              "    <tr>\n",
              "      <th>cutoff</th>\n",
              "      <th></th>\n",
              "      <th></th>\n",
              "      <th></th>\n",
              "      <th></th>\n",
              "      <th></th>\n",
              "      <th></th>\n",
              "      <th></th>\n",
              "      <th></th>\n",
              "      <th></th>\n",
              "      <th></th>\n",
              "      <th></th>\n",
              "      <th></th>\n",
              "      <th></th>\n",
              "      <th></th>\n",
              "      <th></th>\n",
              "      <th></th>\n",
              "      <th></th>\n",
              "      <th></th>\n",
              "      <th></th>\n",
              "      <th></th>\n",
              "      <th></th>\n",
              "      <th></th>\n",
              "      <th></th>\n",
              "      <th></th>\n",
              "      <th></th>\n",
              "    </tr>\n",
              "  </thead>\n",
              "  <tbody>\n",
              "    <tr>\n",
              "      <th>10</th>\n",
              "      <td>0.382112</td>\n",
              "      <td>0.383652</td>\n",
              "      <td>0.067836</td>\n",
              "      <td>0.233438</td>\n",
              "      <td>0.234225</td>\n",
              "      <td>0.636032</td>\n",
              "      <td>0.397326</td>\n",
              "      <td>0.115218</td>\n",
              "      <td>0.96629</td>\n",
              "      <td>1.19917</td>\n",
              "      <td>0.00561429</td>\n",
              "      <td>0.490684</td>\n",
              "      <td>0.949267</td>\n",
              "      <td>0.99492</td>\n",
              "      <td>0.0672241</td>\n",
              "      <td>0.0569799</td>\n",
              "      <td>0.999707</td>\n",
              "      <td>0.966007</td>\n",
              "      <td>0.015267</td>\n",
              "      <td>8.45674</td>\n",
              "      <td>0.995304</td>\n",
              "      <td>0.0615781</td>\n",
              "      <td>0.682547</td>\n",
              "      <td>2.39514</td>\n",
              "      <td>0.0264156</td>\n",
              "    </tr>\n",
              "  </tbody>\n",
              "</table>\n",
              "</div>"
            ],
            "text/plain": [
              "       PRECISION  ... RATIO_NOVELTY\n",
              "cutoff            ...              \n",
              "10      0.382112  ...     0.0264156\n",
              "\n",
              "[1 rows x 25 columns]"
            ]
          },
          "metadata": {},
          "execution_count": 38
        }
      ]
    },
    {
      "cell_type": "code",
      "source": [
        "# 0.1\n",
        "hybrid = DifferentLossScoresHybridRecommender(URM_train, recommender3, recommender2)\n",
        "hybrid.fit(norm = 2, alpha = 0.1)\n",
        "result_df, _ = evaluator_validation.evaluateRecommender(hybrid)\n",
        "result_df"
      ],
      "metadata": {
        "colab": {
          "base_uri": "https://localhost:8080/",
          "height": 149
        },
        "id": "x7kQl5KFuNAc",
        "outputId": "60d98c50-cf07-425a-a09a-71c59d25647b"
      },
      "execution_count": 39,
      "outputs": [
        {
          "output_type": "stream",
          "name": "stdout",
          "text": [
            "EvaluatorHoldout: Processed 13646 (100.0%) in 2.13 min. Users per second: 107\n"
          ]
        },
        {
          "output_type": "execute_result",
          "data": {
            "text/html": [
              "<div>\n",
              "<style scoped>\n",
              "    .dataframe tbody tr th:only-of-type {\n",
              "        vertical-align: middle;\n",
              "    }\n",
              "\n",
              "    .dataframe tbody tr th {\n",
              "        vertical-align: top;\n",
              "    }\n",
              "\n",
              "    .dataframe thead th {\n",
              "        text-align: right;\n",
              "    }\n",
              "</style>\n",
              "<table border=\"1\" class=\"dataframe\">\n",
              "  <thead>\n",
              "    <tr style=\"text-align: right;\">\n",
              "      <th></th>\n",
              "      <th>PRECISION</th>\n",
              "      <th>PRECISION_RECALL_MIN_DEN</th>\n",
              "      <th>RECALL</th>\n",
              "      <th>MAP</th>\n",
              "      <th>MAP_MIN_DEN</th>\n",
              "      <th>MRR</th>\n",
              "      <th>NDCG</th>\n",
              "      <th>F1</th>\n",
              "      <th>HIT_RATE</th>\n",
              "      <th>ARHR_ALL_HITS</th>\n",
              "      <th>NOVELTY</th>\n",
              "      <th>AVERAGE_POPULARITY</th>\n",
              "      <th>DIVERSITY_MEAN_INTER_LIST</th>\n",
              "      <th>DIVERSITY_HERFINDAHL</th>\n",
              "      <th>COVERAGE_ITEM</th>\n",
              "      <th>COVERAGE_ITEM_CORRECT</th>\n",
              "      <th>COVERAGE_USER</th>\n",
              "      <th>COVERAGE_USER_CORRECT</th>\n",
              "      <th>DIVERSITY_GINI</th>\n",
              "      <th>SHANNON_ENTROPY</th>\n",
              "      <th>RATIO_DIVERSITY_HERFINDAHL</th>\n",
              "      <th>RATIO_DIVERSITY_GINI</th>\n",
              "      <th>RATIO_SHANNON_ENTROPY</th>\n",
              "      <th>RATIO_AVERAGE_POPULARITY</th>\n",
              "      <th>RATIO_NOVELTY</th>\n",
              "    </tr>\n",
              "    <tr>\n",
              "      <th>cutoff</th>\n",
              "      <th></th>\n",
              "      <th></th>\n",
              "      <th></th>\n",
              "      <th></th>\n",
              "      <th></th>\n",
              "      <th></th>\n",
              "      <th></th>\n",
              "      <th></th>\n",
              "      <th></th>\n",
              "      <th></th>\n",
              "      <th></th>\n",
              "      <th></th>\n",
              "      <th></th>\n",
              "      <th></th>\n",
              "      <th></th>\n",
              "      <th></th>\n",
              "      <th></th>\n",
              "      <th></th>\n",
              "      <th></th>\n",
              "      <th></th>\n",
              "      <th></th>\n",
              "      <th></th>\n",
              "      <th></th>\n",
              "      <th></th>\n",
              "      <th></th>\n",
              "    </tr>\n",
              "  </thead>\n",
              "  <tbody>\n",
              "    <tr>\n",
              "      <th>10</th>\n",
              "      <td>0.388165</td>\n",
              "      <td>0.389739</td>\n",
              "      <td>0.0688422</td>\n",
              "      <td>0.238637</td>\n",
              "      <td>0.239429</td>\n",
              "      <td>0.640984</td>\n",
              "      <td>0.40324</td>\n",
              "      <td>0.116944</td>\n",
              "      <td>0.96739</td>\n",
              "      <td>1.21611</td>\n",
              "      <td>0.00560098</td>\n",
              "      <td>0.498686</td>\n",
              "      <td>0.945258</td>\n",
              "      <td>0.994519</td>\n",
              "      <td>0.0658397</td>\n",
              "      <td>0.0559832</td>\n",
              "      <td>0.999707</td>\n",
              "      <td>0.967106</td>\n",
              "      <td>0.0145091</td>\n",
              "      <td>8.37338</td>\n",
              "      <td>0.994903</td>\n",
              "      <td>0.0585211</td>\n",
              "      <td>0.675819</td>\n",
              "      <td>2.43419</td>\n",
              "      <td>0.026353</td>\n",
              "    </tr>\n",
              "  </tbody>\n",
              "</table>\n",
              "</div>"
            ],
            "text/plain": [
              "       PRECISION  ... RATIO_NOVELTY\n",
              "cutoff            ...              \n",
              "10      0.388165  ...      0.026353\n",
              "\n",
              "[1 rows x 25 columns]"
            ]
          },
          "metadata": {},
          "execution_count": 39
        }
      ]
    },
    {
      "cell_type": "code",
      "source": [
        "# 0.2\n",
        "hybrid = DifferentLossScoresHybridRecommender(URM_train, recommender3, recommender2)\n",
        "hybrid.fit(norm = 2, alpha = 0.2)\n",
        "result_df, _ = evaluator_validation.evaluateRecommender(hybrid)\n",
        "result_df"
      ],
      "metadata": {
        "colab": {
          "base_uri": "https://localhost:8080/",
          "height": 149
        },
        "id": "uC8x8PhFuSgk",
        "outputId": "777e1c90-a3f5-4d05-c312-449914bc5fcd"
      },
      "execution_count": 40,
      "outputs": [
        {
          "output_type": "stream",
          "name": "stdout",
          "text": [
            "EvaluatorHoldout: Processed 13646 (100.0%) in 2.05 min. Users per second: 111\n"
          ]
        },
        {
          "output_type": "execute_result",
          "data": {
            "text/html": [
              "<div>\n",
              "<style scoped>\n",
              "    .dataframe tbody tr th:only-of-type {\n",
              "        vertical-align: middle;\n",
              "    }\n",
              "\n",
              "    .dataframe tbody tr th {\n",
              "        vertical-align: top;\n",
              "    }\n",
              "\n",
              "    .dataframe thead th {\n",
              "        text-align: right;\n",
              "    }\n",
              "</style>\n",
              "<table border=\"1\" class=\"dataframe\">\n",
              "  <thead>\n",
              "    <tr style=\"text-align: right;\">\n",
              "      <th></th>\n",
              "      <th>PRECISION</th>\n",
              "      <th>PRECISION_RECALL_MIN_DEN</th>\n",
              "      <th>RECALL</th>\n",
              "      <th>MAP</th>\n",
              "      <th>MAP_MIN_DEN</th>\n",
              "      <th>MRR</th>\n",
              "      <th>NDCG</th>\n",
              "      <th>F1</th>\n",
              "      <th>HIT_RATE</th>\n",
              "      <th>ARHR_ALL_HITS</th>\n",
              "      <th>NOVELTY</th>\n",
              "      <th>AVERAGE_POPULARITY</th>\n",
              "      <th>DIVERSITY_MEAN_INTER_LIST</th>\n",
              "      <th>DIVERSITY_HERFINDAHL</th>\n",
              "      <th>COVERAGE_ITEM</th>\n",
              "      <th>COVERAGE_ITEM_CORRECT</th>\n",
              "      <th>COVERAGE_USER</th>\n",
              "      <th>COVERAGE_USER_CORRECT</th>\n",
              "      <th>DIVERSITY_GINI</th>\n",
              "      <th>SHANNON_ENTROPY</th>\n",
              "      <th>RATIO_DIVERSITY_HERFINDAHL</th>\n",
              "      <th>RATIO_DIVERSITY_GINI</th>\n",
              "      <th>RATIO_SHANNON_ENTROPY</th>\n",
              "      <th>RATIO_AVERAGE_POPULARITY</th>\n",
              "      <th>RATIO_NOVELTY</th>\n",
              "    </tr>\n",
              "    <tr>\n",
              "      <th>cutoff</th>\n",
              "      <th></th>\n",
              "      <th></th>\n",
              "      <th></th>\n",
              "      <th></th>\n",
              "      <th></th>\n",
              "      <th></th>\n",
              "      <th></th>\n",
              "      <th></th>\n",
              "      <th></th>\n",
              "      <th></th>\n",
              "      <th></th>\n",
              "      <th></th>\n",
              "      <th></th>\n",
              "      <th></th>\n",
              "      <th></th>\n",
              "      <th></th>\n",
              "      <th></th>\n",
              "      <th></th>\n",
              "      <th></th>\n",
              "      <th></th>\n",
              "      <th></th>\n",
              "      <th></th>\n",
              "      <th></th>\n",
              "      <th></th>\n",
              "      <th></th>\n",
              "    </tr>\n",
              "  </thead>\n",
              "  <tbody>\n",
              "    <tr>\n",
              "      <th>10</th>\n",
              "      <td>0.392254</td>\n",
              "      <td>0.393896</td>\n",
              "      <td>0.0696448</td>\n",
              "      <td>0.242166</td>\n",
              "      <td>0.242977</td>\n",
              "      <td>0.643761</td>\n",
              "      <td>0.40732</td>\n",
              "      <td>0.118288</td>\n",
              "      <td>0.968269</td>\n",
              "      <td>1.22777</td>\n",
              "      <td>0.00558966</td>\n",
              "      <td>0.505895</td>\n",
              "      <td>0.941258</td>\n",
              "      <td>0.994119</td>\n",
              "      <td>0.0649538</td>\n",
              "      <td>0.0543219</td>\n",
              "      <td>0.999707</td>\n",
              "      <td>0.967985</td>\n",
              "      <td>0.0138443</td>\n",
              "      <td>8.29585</td>\n",
              "      <td>0.994503</td>\n",
              "      <td>0.0558396</td>\n",
              "      <td>0.669561</td>\n",
              "      <td>2.46939</td>\n",
              "      <td>0.0262997</td>\n",
              "    </tr>\n",
              "  </tbody>\n",
              "</table>\n",
              "</div>"
            ],
            "text/plain": [
              "       PRECISION  ... RATIO_NOVELTY\n",
              "cutoff            ...              \n",
              "10      0.392254  ...     0.0262997\n",
              "\n",
              "[1 rows x 25 columns]"
            ]
          },
          "metadata": {},
          "execution_count": 40
        }
      ]
    },
    {
      "cell_type": "code",
      "source": [
        "# 0.3\n",
        "hybrid = DifferentLossScoresHybridRecommender(URM_train, recommender3, recommender2)\n",
        "hybrid.fit(norm = 2, alpha = 0.3)\n",
        "result_df, _ = evaluator_validation.evaluateRecommender(hybrid)\n",
        "result_df"
      ],
      "metadata": {
        "colab": {
          "base_uri": "https://localhost:8080/",
          "height": 149
        },
        "id": "IWOIUoomui2S",
        "outputId": "266dd576-fbed-42df-dacc-3b785be35141"
      },
      "execution_count": 41,
      "outputs": [
        {
          "output_type": "stream",
          "name": "stdout",
          "text": [
            "EvaluatorHoldout: Processed 13646 (100.0%) in 2.02 min. Users per second: 112\n"
          ]
        },
        {
          "output_type": "execute_result",
          "data": {
            "text/html": [
              "<div>\n",
              "<style scoped>\n",
              "    .dataframe tbody tr th:only-of-type {\n",
              "        vertical-align: middle;\n",
              "    }\n",
              "\n",
              "    .dataframe tbody tr th {\n",
              "        vertical-align: top;\n",
              "    }\n",
              "\n",
              "    .dataframe thead th {\n",
              "        text-align: right;\n",
              "    }\n",
              "</style>\n",
              "<table border=\"1\" class=\"dataframe\">\n",
              "  <thead>\n",
              "    <tr style=\"text-align: right;\">\n",
              "      <th></th>\n",
              "      <th>PRECISION</th>\n",
              "      <th>PRECISION_RECALL_MIN_DEN</th>\n",
              "      <th>RECALL</th>\n",
              "      <th>MAP</th>\n",
              "      <th>MAP_MIN_DEN</th>\n",
              "      <th>MRR</th>\n",
              "      <th>NDCG</th>\n",
              "      <th>F1</th>\n",
              "      <th>HIT_RATE</th>\n",
              "      <th>ARHR_ALL_HITS</th>\n",
              "      <th>NOVELTY</th>\n",
              "      <th>AVERAGE_POPULARITY</th>\n",
              "      <th>DIVERSITY_MEAN_INTER_LIST</th>\n",
              "      <th>DIVERSITY_HERFINDAHL</th>\n",
              "      <th>COVERAGE_ITEM</th>\n",
              "      <th>COVERAGE_ITEM_CORRECT</th>\n",
              "      <th>COVERAGE_USER</th>\n",
              "      <th>COVERAGE_USER_CORRECT</th>\n",
              "      <th>DIVERSITY_GINI</th>\n",
              "      <th>SHANNON_ENTROPY</th>\n",
              "      <th>RATIO_DIVERSITY_HERFINDAHL</th>\n",
              "      <th>RATIO_DIVERSITY_GINI</th>\n",
              "      <th>RATIO_SHANNON_ENTROPY</th>\n",
              "      <th>RATIO_AVERAGE_POPULARITY</th>\n",
              "      <th>RATIO_NOVELTY</th>\n",
              "    </tr>\n",
              "    <tr>\n",
              "      <th>cutoff</th>\n",
              "      <th></th>\n",
              "      <th></th>\n",
              "      <th></th>\n",
              "      <th></th>\n",
              "      <th></th>\n",
              "      <th></th>\n",
              "      <th></th>\n",
              "      <th></th>\n",
              "      <th></th>\n",
              "      <th></th>\n",
              "      <th></th>\n",
              "      <th></th>\n",
              "      <th></th>\n",
              "      <th></th>\n",
              "      <th></th>\n",
              "      <th></th>\n",
              "      <th></th>\n",
              "      <th></th>\n",
              "      <th></th>\n",
              "      <th></th>\n",
              "      <th></th>\n",
              "      <th></th>\n",
              "      <th></th>\n",
              "      <th></th>\n",
              "      <th></th>\n",
              "    </tr>\n",
              "  </thead>\n",
              "  <tbody>\n",
              "    <tr>\n",
              "      <th>10</th>\n",
              "      <td>0.395735</td>\n",
              "      <td>0.397401</td>\n",
              "      <td>0.070332</td>\n",
              "      <td>0.244893</td>\n",
              "      <td>0.245714</td>\n",
              "      <td>0.645995</td>\n",
              "      <td>0.410466</td>\n",
              "      <td>0.119437</td>\n",
              "      <td>0.969222</td>\n",
              "      <td>1.23598</td>\n",
              "      <td>0.00557926</td>\n",
              "      <td>0.512629</td>\n",
              "      <td>0.937185</td>\n",
              "      <td>0.993712</td>\n",
              "      <td>0.0650645</td>\n",
              "      <td>0.0537128</td>\n",
              "      <td>0.999707</td>\n",
              "      <td>0.968938</td>\n",
              "      <td>0.0132454</td>\n",
              "      <td>8.2222</td>\n",
              "      <td>0.994095</td>\n",
              "      <td>0.0534242</td>\n",
              "      <td>0.663617</td>\n",
              "      <td>2.50226</td>\n",
              "      <td>0.0262508</td>\n",
              "    </tr>\n",
              "  </tbody>\n",
              "</table>\n",
              "</div>"
            ],
            "text/plain": [
              "       PRECISION  ... RATIO_NOVELTY\n",
              "cutoff            ...              \n",
              "10      0.395735  ...     0.0262508\n",
              "\n",
              "[1 rows x 25 columns]"
            ]
          },
          "metadata": {},
          "execution_count": 41
        }
      ]
    },
    {
      "cell_type": "code",
      "source": [
        "# 0.4\n",
        "hybrid = DifferentLossScoresHybridRecommender(URM_train, recommender3, recommender2)\n",
        "hybrid.fit(norm = 2, alpha = 0.4)\n",
        "result_df, _ = evaluator_validation.evaluateRecommender(hybrid)\n",
        "result_df"
      ],
      "metadata": {
        "colab": {
          "base_uri": "https://localhost:8080/",
          "height": 149
        },
        "id": "v6KRaOx_uobC",
        "outputId": "85bc2c1b-f8cc-4a25-f88f-74a82d0eade9"
      },
      "execution_count": 42,
      "outputs": [
        {
          "output_type": "stream",
          "name": "stdout",
          "text": [
            "EvaluatorHoldout: Processed 13646 (100.0%) in 2.02 min. Users per second: 113\n"
          ]
        },
        {
          "output_type": "execute_result",
          "data": {
            "text/html": [
              "<div>\n",
              "<style scoped>\n",
              "    .dataframe tbody tr th:only-of-type {\n",
              "        vertical-align: middle;\n",
              "    }\n",
              "\n",
              "    .dataframe tbody tr th {\n",
              "        vertical-align: top;\n",
              "    }\n",
              "\n",
              "    .dataframe thead th {\n",
              "        text-align: right;\n",
              "    }\n",
              "</style>\n",
              "<table border=\"1\" class=\"dataframe\">\n",
              "  <thead>\n",
              "    <tr style=\"text-align: right;\">\n",
              "      <th></th>\n",
              "      <th>PRECISION</th>\n",
              "      <th>PRECISION_RECALL_MIN_DEN</th>\n",
              "      <th>RECALL</th>\n",
              "      <th>MAP</th>\n",
              "      <th>MAP_MIN_DEN</th>\n",
              "      <th>MRR</th>\n",
              "      <th>NDCG</th>\n",
              "      <th>F1</th>\n",
              "      <th>HIT_RATE</th>\n",
              "      <th>ARHR_ALL_HITS</th>\n",
              "      <th>NOVELTY</th>\n",
              "      <th>AVERAGE_POPULARITY</th>\n",
              "      <th>DIVERSITY_MEAN_INTER_LIST</th>\n",
              "      <th>DIVERSITY_HERFINDAHL</th>\n",
              "      <th>COVERAGE_ITEM</th>\n",
              "      <th>COVERAGE_ITEM_CORRECT</th>\n",
              "      <th>COVERAGE_USER</th>\n",
              "      <th>COVERAGE_USER_CORRECT</th>\n",
              "      <th>DIVERSITY_GINI</th>\n",
              "      <th>SHANNON_ENTROPY</th>\n",
              "      <th>RATIO_DIVERSITY_HERFINDAHL</th>\n",
              "      <th>RATIO_DIVERSITY_GINI</th>\n",
              "      <th>RATIO_SHANNON_ENTROPY</th>\n",
              "      <th>RATIO_AVERAGE_POPULARITY</th>\n",
              "      <th>RATIO_NOVELTY</th>\n",
              "    </tr>\n",
              "    <tr>\n",
              "      <th>cutoff</th>\n",
              "      <th></th>\n",
              "      <th></th>\n",
              "      <th></th>\n",
              "      <th></th>\n",
              "      <th></th>\n",
              "      <th></th>\n",
              "      <th></th>\n",
              "      <th></th>\n",
              "      <th></th>\n",
              "      <th></th>\n",
              "      <th></th>\n",
              "      <th></th>\n",
              "      <th></th>\n",
              "      <th></th>\n",
              "      <th></th>\n",
              "      <th></th>\n",
              "      <th></th>\n",
              "      <th></th>\n",
              "      <th></th>\n",
              "      <th></th>\n",
              "      <th></th>\n",
              "      <th></th>\n",
              "      <th></th>\n",
              "      <th></th>\n",
              "      <th></th>\n",
              "    </tr>\n",
              "  </thead>\n",
              "  <tbody>\n",
              "    <tr>\n",
              "      <th>10</th>\n",
              "      <td>0.397977</td>\n",
              "      <td>0.399658</td>\n",
              "      <td>0.0708136</td>\n",
              "      <td>0.246633</td>\n",
              "      <td>0.247454</td>\n",
              "      <td>0.646728</td>\n",
              "      <td>0.412464</td>\n",
              "      <td>0.120234</td>\n",
              "      <td>0.970541</td>\n",
              "      <td>1.24104</td>\n",
              "      <td>0.00557081</td>\n",
              "      <td>0.518383</td>\n",
              "      <td>0.933396</td>\n",
              "      <td>0.993333</td>\n",
              "      <td>0.0657844</td>\n",
              "      <td>0.0535467</td>\n",
              "      <td>0.999707</td>\n",
              "      <td>0.970256</td>\n",
              "      <td>0.0127534</td>\n",
              "      <td>8.15805</td>\n",
              "      <td>0.993716</td>\n",
              "      <td>0.0514398</td>\n",
              "      <td>0.658439</td>\n",
              "      <td>2.53034</td>\n",
              "      <td>0.0262111</td>\n",
              "    </tr>\n",
              "  </tbody>\n",
              "</table>\n",
              "</div>"
            ],
            "text/plain": [
              "       PRECISION  ... RATIO_NOVELTY\n",
              "cutoff            ...              \n",
              "10      0.397977  ...     0.0262111\n",
              "\n",
              "[1 rows x 25 columns]"
            ]
          },
          "metadata": {},
          "execution_count": 42
        }
      ]
    },
    {
      "cell_type": "code",
      "source": [
        "# 0.5\n",
        "hybrid = DifferentLossScoresHybridRecommender(URM_train, recommender3, recommender2)\n",
        "hybrid.fit(norm = 2, alpha = 0.5)\n",
        "result_df, _ = evaluator_validation.evaluateRecommender(hybrid)\n",
        "result_df"
      ],
      "metadata": {
        "colab": {
          "base_uri": "https://localhost:8080/",
          "height": 149
        },
        "id": "qz9lv0E_uo-J",
        "outputId": "fa736ccd-8b76-4e0f-f67e-f17f19c7841b"
      },
      "execution_count": 43,
      "outputs": [
        {
          "output_type": "stream",
          "name": "stdout",
          "text": [
            "EvaluatorHoldout: Processed 13646 (100.0%) in 2.02 min. Users per second: 112\n"
          ]
        },
        {
          "output_type": "execute_result",
          "data": {
            "text/html": [
              "<div>\n",
              "<style scoped>\n",
              "    .dataframe tbody tr th:only-of-type {\n",
              "        vertical-align: middle;\n",
              "    }\n",
              "\n",
              "    .dataframe tbody tr th {\n",
              "        vertical-align: top;\n",
              "    }\n",
              "\n",
              "    .dataframe thead th {\n",
              "        text-align: right;\n",
              "    }\n",
              "</style>\n",
              "<table border=\"1\" class=\"dataframe\">\n",
              "  <thead>\n",
              "    <tr style=\"text-align: right;\">\n",
              "      <th></th>\n",
              "      <th>PRECISION</th>\n",
              "      <th>PRECISION_RECALL_MIN_DEN</th>\n",
              "      <th>RECALL</th>\n",
              "      <th>MAP</th>\n",
              "      <th>MAP_MIN_DEN</th>\n",
              "      <th>MRR</th>\n",
              "      <th>NDCG</th>\n",
              "      <th>F1</th>\n",
              "      <th>HIT_RATE</th>\n",
              "      <th>ARHR_ALL_HITS</th>\n",
              "      <th>NOVELTY</th>\n",
              "      <th>AVERAGE_POPULARITY</th>\n",
              "      <th>DIVERSITY_MEAN_INTER_LIST</th>\n",
              "      <th>DIVERSITY_HERFINDAHL</th>\n",
              "      <th>COVERAGE_ITEM</th>\n",
              "      <th>COVERAGE_ITEM_CORRECT</th>\n",
              "      <th>COVERAGE_USER</th>\n",
              "      <th>COVERAGE_USER_CORRECT</th>\n",
              "      <th>DIVERSITY_GINI</th>\n",
              "      <th>SHANNON_ENTROPY</th>\n",
              "      <th>RATIO_DIVERSITY_HERFINDAHL</th>\n",
              "      <th>RATIO_DIVERSITY_GINI</th>\n",
              "      <th>RATIO_SHANNON_ENTROPY</th>\n",
              "      <th>RATIO_AVERAGE_POPULARITY</th>\n",
              "      <th>RATIO_NOVELTY</th>\n",
              "    </tr>\n",
              "    <tr>\n",
              "      <th>cutoff</th>\n",
              "      <th></th>\n",
              "      <th></th>\n",
              "      <th></th>\n",
              "      <th></th>\n",
              "      <th></th>\n",
              "      <th></th>\n",
              "      <th></th>\n",
              "      <th></th>\n",
              "      <th></th>\n",
              "      <th></th>\n",
              "      <th></th>\n",
              "      <th></th>\n",
              "      <th></th>\n",
              "      <th></th>\n",
              "      <th></th>\n",
              "      <th></th>\n",
              "      <th></th>\n",
              "      <th></th>\n",
              "      <th></th>\n",
              "      <th></th>\n",
              "      <th></th>\n",
              "      <th></th>\n",
              "      <th></th>\n",
              "      <th></th>\n",
              "      <th></th>\n",
              "    </tr>\n",
              "  </thead>\n",
              "  <tbody>\n",
              "    <tr>\n",
              "      <th>10</th>\n",
              "      <td>0.400286</td>\n",
              "      <td>0.40202</td>\n",
              "      <td>0.0712432</td>\n",
              "      <td>0.248463</td>\n",
              "      <td>0.249323</td>\n",
              "      <td>0.648394</td>\n",
              "      <td>0.414611</td>\n",
              "      <td>0.120958</td>\n",
              "      <td>0.970614</td>\n",
              "      <td>1.24679</td>\n",
              "      <td>0.00556369</td>\n",
              "      <td>0.523506</td>\n",
              "      <td>0.92969</td>\n",
              "      <td>0.992962</td>\n",
              "      <td>0.0665042</td>\n",
              "      <td>0.0531037</td>\n",
              "      <td>0.999707</td>\n",
              "      <td>0.97033</td>\n",
              "      <td>0.012329</td>\n",
              "      <td>8.09939</td>\n",
              "      <td>0.993346</td>\n",
              "      <td>0.049728</td>\n",
              "      <td>0.653705</td>\n",
              "      <td>2.55535</td>\n",
              "      <td>0.0261775</td>\n",
              "    </tr>\n",
              "  </tbody>\n",
              "</table>\n",
              "</div>"
            ],
            "text/plain": [
              "       PRECISION  ... RATIO_NOVELTY\n",
              "cutoff            ...              \n",
              "10      0.400286  ...     0.0261775\n",
              "\n",
              "[1 rows x 25 columns]"
            ]
          },
          "metadata": {},
          "execution_count": 43
        }
      ]
    },
    {
      "cell_type": "code",
      "source": [
        "# 0.6\n",
        "hybrid = DifferentLossScoresHybridRecommender(URM_train, recommender3, recommender2)\n",
        "hybrid.fit(norm = 2, alpha = 0.6)\n",
        "result_df, _ = evaluator_validation.evaluateRecommender(hybrid)\n",
        "result_df"
      ],
      "metadata": {
        "colab": {
          "base_uri": "https://localhost:8080/",
          "height": 149
        },
        "id": "5KG08rVWur5j",
        "outputId": "2e27c3d2-3f8c-4de8-f85d-7576428e9958"
      },
      "execution_count": 44,
      "outputs": [
        {
          "output_type": "stream",
          "name": "stdout",
          "text": [
            "EvaluatorHoldout: Processed 13646 (100.0%) in 2.03 min. Users per second: 112\n"
          ]
        },
        {
          "output_type": "execute_result",
          "data": {
            "text/html": [
              "<div>\n",
              "<style scoped>\n",
              "    .dataframe tbody tr th:only-of-type {\n",
              "        vertical-align: middle;\n",
              "    }\n",
              "\n",
              "    .dataframe tbody tr th {\n",
              "        vertical-align: top;\n",
              "    }\n",
              "\n",
              "    .dataframe thead th {\n",
              "        text-align: right;\n",
              "    }\n",
              "</style>\n",
              "<table border=\"1\" class=\"dataframe\">\n",
              "  <thead>\n",
              "    <tr style=\"text-align: right;\">\n",
              "      <th></th>\n",
              "      <th>PRECISION</th>\n",
              "      <th>PRECISION_RECALL_MIN_DEN</th>\n",
              "      <th>RECALL</th>\n",
              "      <th>MAP</th>\n",
              "      <th>MAP_MIN_DEN</th>\n",
              "      <th>MRR</th>\n",
              "      <th>NDCG</th>\n",
              "      <th>F1</th>\n",
              "      <th>HIT_RATE</th>\n",
              "      <th>ARHR_ALL_HITS</th>\n",
              "      <th>NOVELTY</th>\n",
              "      <th>AVERAGE_POPULARITY</th>\n",
              "      <th>DIVERSITY_MEAN_INTER_LIST</th>\n",
              "      <th>DIVERSITY_HERFINDAHL</th>\n",
              "      <th>COVERAGE_ITEM</th>\n",
              "      <th>COVERAGE_ITEM_CORRECT</th>\n",
              "      <th>COVERAGE_USER</th>\n",
              "      <th>COVERAGE_USER_CORRECT</th>\n",
              "      <th>DIVERSITY_GINI</th>\n",
              "      <th>SHANNON_ENTROPY</th>\n",
              "      <th>RATIO_DIVERSITY_HERFINDAHL</th>\n",
              "      <th>RATIO_DIVERSITY_GINI</th>\n",
              "      <th>RATIO_SHANNON_ENTROPY</th>\n",
              "      <th>RATIO_AVERAGE_POPULARITY</th>\n",
              "      <th>RATIO_NOVELTY</th>\n",
              "    </tr>\n",
              "    <tr>\n",
              "      <th>cutoff</th>\n",
              "      <th></th>\n",
              "      <th></th>\n",
              "      <th></th>\n",
              "      <th></th>\n",
              "      <th></th>\n",
              "      <th></th>\n",
              "      <th></th>\n",
              "      <th></th>\n",
              "      <th></th>\n",
              "      <th></th>\n",
              "      <th></th>\n",
              "      <th></th>\n",
              "      <th></th>\n",
              "      <th></th>\n",
              "      <th></th>\n",
              "      <th></th>\n",
              "      <th></th>\n",
              "      <th></th>\n",
              "      <th></th>\n",
              "      <th></th>\n",
              "      <th></th>\n",
              "      <th></th>\n",
              "      <th></th>\n",
              "      <th></th>\n",
              "      <th></th>\n",
              "    </tr>\n",
              "  </thead>\n",
              "  <tbody>\n",
              "    <tr>\n",
              "      <th>10</th>\n",
              "      <td>0.401033</td>\n",
              "      <td>0.402792</td>\n",
              "      <td>0.0714852</td>\n",
              "      <td>0.249091</td>\n",
              "      <td>0.249963</td>\n",
              "      <td>0.648647</td>\n",
              "      <td>0.415353</td>\n",
              "      <td>0.121341</td>\n",
              "      <td>0.971347</td>\n",
              "      <td>1.24885</td>\n",
              "      <td>0.00555818</td>\n",
              "      <td>0.527604</td>\n",
              "      <td>0.926452</td>\n",
              "      <td>0.992638</td>\n",
              "      <td>0.0674456</td>\n",
              "      <td>0.0523839</td>\n",
              "      <td>0.999707</td>\n",
              "      <td>0.971062</td>\n",
              "      <td>0.0119824</td>\n",
              "      <td>8.04985</td>\n",
              "      <td>0.993022</td>\n",
              "      <td>0.0483298</td>\n",
              "      <td>0.649707</td>\n",
              "      <td>2.57535</td>\n",
              "      <td>0.0261516</td>\n",
              "    </tr>\n",
              "  </tbody>\n",
              "</table>\n",
              "</div>"
            ],
            "text/plain": [
              "       PRECISION  ... RATIO_NOVELTY\n",
              "cutoff            ...              \n",
              "10      0.401033  ...     0.0261516\n",
              "\n",
              "[1 rows x 25 columns]"
            ]
          },
          "metadata": {},
          "execution_count": 44
        }
      ]
    },
    {
      "cell_type": "code",
      "source": [
        "# 0.7\n",
        "hybrid = DifferentLossScoresHybridRecommender(URM_train, recommender3, recommender2)\n",
        "hybrid.fit(norm = 2, alpha = 0.7)\n",
        "result_df, _ = evaluator_validation.evaluateRecommender(hybrid)\n",
        "result_df"
      ],
      "metadata": {
        "colab": {
          "base_uri": "https://localhost:8080/",
          "height": 149
        },
        "id": "YlHfGMB5uuFu",
        "outputId": "6f3fb84a-d3a3-491d-809f-e7a432c52752"
      },
      "execution_count": 45,
      "outputs": [
        {
          "output_type": "stream",
          "name": "stdout",
          "text": [
            "EvaluatorHoldout: Processed 13646 (100.0%) in 2.04 min. Users per second: 111\n"
          ]
        },
        {
          "output_type": "execute_result",
          "data": {
            "text/html": [
              "<div>\n",
              "<style scoped>\n",
              "    .dataframe tbody tr th:only-of-type {\n",
              "        vertical-align: middle;\n",
              "    }\n",
              "\n",
              "    .dataframe tbody tr th {\n",
              "        vertical-align: top;\n",
              "    }\n",
              "\n",
              "    .dataframe thead th {\n",
              "        text-align: right;\n",
              "    }\n",
              "</style>\n",
              "<table border=\"1\" class=\"dataframe\">\n",
              "  <thead>\n",
              "    <tr style=\"text-align: right;\">\n",
              "      <th></th>\n",
              "      <th>PRECISION</th>\n",
              "      <th>PRECISION_RECALL_MIN_DEN</th>\n",
              "      <th>RECALL</th>\n",
              "      <th>MAP</th>\n",
              "      <th>MAP_MIN_DEN</th>\n",
              "      <th>MRR</th>\n",
              "      <th>NDCG</th>\n",
              "      <th>F1</th>\n",
              "      <th>HIT_RATE</th>\n",
              "      <th>ARHR_ALL_HITS</th>\n",
              "      <th>NOVELTY</th>\n",
              "      <th>AVERAGE_POPULARITY</th>\n",
              "      <th>DIVERSITY_MEAN_INTER_LIST</th>\n",
              "      <th>DIVERSITY_HERFINDAHL</th>\n",
              "      <th>COVERAGE_ITEM</th>\n",
              "      <th>COVERAGE_ITEM_CORRECT</th>\n",
              "      <th>COVERAGE_USER</th>\n",
              "      <th>COVERAGE_USER_CORRECT</th>\n",
              "      <th>DIVERSITY_GINI</th>\n",
              "      <th>SHANNON_ENTROPY</th>\n",
              "      <th>RATIO_DIVERSITY_HERFINDAHL</th>\n",
              "      <th>RATIO_DIVERSITY_GINI</th>\n",
              "      <th>RATIO_SHANNON_ENTROPY</th>\n",
              "      <th>RATIO_AVERAGE_POPULARITY</th>\n",
              "      <th>RATIO_NOVELTY</th>\n",
              "    </tr>\n",
              "    <tr>\n",
              "      <th>cutoff</th>\n",
              "      <th></th>\n",
              "      <th></th>\n",
              "      <th></th>\n",
              "      <th></th>\n",
              "      <th></th>\n",
              "      <th></th>\n",
              "      <th></th>\n",
              "      <th></th>\n",
              "      <th></th>\n",
              "      <th></th>\n",
              "      <th></th>\n",
              "      <th></th>\n",
              "      <th></th>\n",
              "      <th></th>\n",
              "      <th></th>\n",
              "      <th></th>\n",
              "      <th></th>\n",
              "      <th></th>\n",
              "      <th></th>\n",
              "      <th></th>\n",
              "      <th></th>\n",
              "      <th></th>\n",
              "      <th></th>\n",
              "      <th></th>\n",
              "      <th></th>\n",
              "    </tr>\n",
              "  </thead>\n",
              "  <tbody>\n",
              "    <tr>\n",
              "      <th>10</th>\n",
              "      <td>0.401246</td>\n",
              "      <td>0.403054</td>\n",
              "      <td>0.0715918</td>\n",
              "      <td>0.249054</td>\n",
              "      <td>0.249909</td>\n",
              "      <td>0.648828</td>\n",
              "      <td>0.415355</td>\n",
              "      <td>0.121504</td>\n",
              "      <td>0.972006</td>\n",
              "      <td>1.24837</td>\n",
              "      <td>0.00555431</td>\n",
              "      <td>0.530832</td>\n",
              "      <td>0.923723</td>\n",
              "      <td>0.992366</td>\n",
              "      <td>0.0691622</td>\n",
              "      <td>0.0523839</td>\n",
              "      <td>0.999707</td>\n",
              "      <td>0.971722</td>\n",
              "      <td>0.0117407</td>\n",
              "      <td>8.01191</td>\n",
              "      <td>0.992749</td>\n",
              "      <td>0.0473549</td>\n",
              "      <td>0.646644</td>\n",
              "      <td>2.59111</td>\n",
              "      <td>0.0261334</td>\n",
              "    </tr>\n",
              "  </tbody>\n",
              "</table>\n",
              "</div>"
            ],
            "text/plain": [
              "       PRECISION  ... RATIO_NOVELTY\n",
              "cutoff            ...              \n",
              "10      0.401246  ...     0.0261334\n",
              "\n",
              "[1 rows x 25 columns]"
            ]
          },
          "metadata": {},
          "execution_count": 45
        }
      ]
    },
    {
      "cell_type": "code",
      "source": [
        "# 0.8\n",
        "hybrid = DifferentLossScoresHybridRecommender(URM_train, recommender3, recommender2)\n",
        "hybrid.fit(norm = 2, alpha = 0.2)\n",
        "result_df, _ = evaluator_validation.evaluateRecommender(hybrid)\n",
        "result_df"
      ],
      "metadata": {
        "colab": {
          "base_uri": "https://localhost:8080/",
          "height": 149
        },
        "id": "CTnCVB45uwQL",
        "outputId": "93305baf-4b18-49b0-979b-bfcbcc3ebf99"
      },
      "execution_count": 46,
      "outputs": [
        {
          "output_type": "stream",
          "name": "stdout",
          "text": [
            "EvaluatorHoldout: Processed 13646 (100.0%) in 2.03 min. Users per second: 112\n"
          ]
        },
        {
          "output_type": "execute_result",
          "data": {
            "text/html": [
              "<div>\n",
              "<style scoped>\n",
              "    .dataframe tbody tr th:only-of-type {\n",
              "        vertical-align: middle;\n",
              "    }\n",
              "\n",
              "    .dataframe tbody tr th {\n",
              "        vertical-align: top;\n",
              "    }\n",
              "\n",
              "    .dataframe thead th {\n",
              "        text-align: right;\n",
              "    }\n",
              "</style>\n",
              "<table border=\"1\" class=\"dataframe\">\n",
              "  <thead>\n",
              "    <tr style=\"text-align: right;\">\n",
              "      <th></th>\n",
              "      <th>PRECISION</th>\n",
              "      <th>PRECISION_RECALL_MIN_DEN</th>\n",
              "      <th>RECALL</th>\n",
              "      <th>MAP</th>\n",
              "      <th>MAP_MIN_DEN</th>\n",
              "      <th>MRR</th>\n",
              "      <th>NDCG</th>\n",
              "      <th>F1</th>\n",
              "      <th>HIT_RATE</th>\n",
              "      <th>ARHR_ALL_HITS</th>\n",
              "      <th>NOVELTY</th>\n",
              "      <th>AVERAGE_POPULARITY</th>\n",
              "      <th>DIVERSITY_MEAN_INTER_LIST</th>\n",
              "      <th>DIVERSITY_HERFINDAHL</th>\n",
              "      <th>COVERAGE_ITEM</th>\n",
              "      <th>COVERAGE_ITEM_CORRECT</th>\n",
              "      <th>COVERAGE_USER</th>\n",
              "      <th>COVERAGE_USER_CORRECT</th>\n",
              "      <th>DIVERSITY_GINI</th>\n",
              "      <th>SHANNON_ENTROPY</th>\n",
              "      <th>RATIO_DIVERSITY_HERFINDAHL</th>\n",
              "      <th>RATIO_DIVERSITY_GINI</th>\n",
              "      <th>RATIO_SHANNON_ENTROPY</th>\n",
              "      <th>RATIO_AVERAGE_POPULARITY</th>\n",
              "      <th>RATIO_NOVELTY</th>\n",
              "    </tr>\n",
              "    <tr>\n",
              "      <th>cutoff</th>\n",
              "      <th></th>\n",
              "      <th></th>\n",
              "      <th></th>\n",
              "      <th></th>\n",
              "      <th></th>\n",
              "      <th></th>\n",
              "      <th></th>\n",
              "      <th></th>\n",
              "      <th></th>\n",
              "      <th></th>\n",
              "      <th></th>\n",
              "      <th></th>\n",
              "      <th></th>\n",
              "      <th></th>\n",
              "      <th></th>\n",
              "      <th></th>\n",
              "      <th></th>\n",
              "      <th></th>\n",
              "      <th></th>\n",
              "      <th></th>\n",
              "      <th></th>\n",
              "      <th></th>\n",
              "      <th></th>\n",
              "      <th></th>\n",
              "      <th></th>\n",
              "    </tr>\n",
              "  </thead>\n",
              "  <tbody>\n",
              "    <tr>\n",
              "      <th>10</th>\n",
              "      <td>0.392254</td>\n",
              "      <td>0.393896</td>\n",
              "      <td>0.0696448</td>\n",
              "      <td>0.242166</td>\n",
              "      <td>0.242977</td>\n",
              "      <td>0.643761</td>\n",
              "      <td>0.40732</td>\n",
              "      <td>0.118288</td>\n",
              "      <td>0.968269</td>\n",
              "      <td>1.22777</td>\n",
              "      <td>0.00558966</td>\n",
              "      <td>0.505895</td>\n",
              "      <td>0.941258</td>\n",
              "      <td>0.994119</td>\n",
              "      <td>0.0649538</td>\n",
              "      <td>0.0543219</td>\n",
              "      <td>0.999707</td>\n",
              "      <td>0.967985</td>\n",
              "      <td>0.0138443</td>\n",
              "      <td>8.29585</td>\n",
              "      <td>0.994503</td>\n",
              "      <td>0.0558396</td>\n",
              "      <td>0.669561</td>\n",
              "      <td>2.46939</td>\n",
              "      <td>0.0262997</td>\n",
              "    </tr>\n",
              "  </tbody>\n",
              "</table>\n",
              "</div>"
            ],
            "text/plain": [
              "       PRECISION  ... RATIO_NOVELTY\n",
              "cutoff            ...              \n",
              "10      0.392254  ...     0.0262997\n",
              "\n",
              "[1 rows x 25 columns]"
            ]
          },
          "metadata": {},
          "execution_count": 46
        }
      ]
    },
    {
      "cell_type": "code",
      "source": [
        "# 0.9\n",
        "hybrid = DifferentLossScoresHybridRecommender(URM_train, recommender3, recommender2)\n",
        "hybrid.fit(norm = 2, alpha = 0.9)\n",
        "result_df, _ = evaluator_validation.evaluateRecommender(hybrid)\n",
        "result_df"
      ],
      "metadata": {
        "colab": {
          "base_uri": "https://localhost:8080/",
          "height": 149
        },
        "id": "m6B-RJZ_vNj2",
        "outputId": "8f7b4a12-096c-476f-afad-763f5c420146"
      },
      "execution_count": 47,
      "outputs": [
        {
          "output_type": "stream",
          "name": "stdout",
          "text": [
            "EvaluatorHoldout: Processed 13646 (100.0%) in 2.05 min. Users per second: 111\n"
          ]
        },
        {
          "output_type": "execute_result",
          "data": {
            "text/html": [
              "<div>\n",
              "<style scoped>\n",
              "    .dataframe tbody tr th:only-of-type {\n",
              "        vertical-align: middle;\n",
              "    }\n",
              "\n",
              "    .dataframe tbody tr th {\n",
              "        vertical-align: top;\n",
              "    }\n",
              "\n",
              "    .dataframe thead th {\n",
              "        text-align: right;\n",
              "    }\n",
              "</style>\n",
              "<table border=\"1\" class=\"dataframe\">\n",
              "  <thead>\n",
              "    <tr style=\"text-align: right;\">\n",
              "      <th></th>\n",
              "      <th>PRECISION</th>\n",
              "      <th>PRECISION_RECALL_MIN_DEN</th>\n",
              "      <th>RECALL</th>\n",
              "      <th>MAP</th>\n",
              "      <th>MAP_MIN_DEN</th>\n",
              "      <th>MRR</th>\n",
              "      <th>NDCG</th>\n",
              "      <th>F1</th>\n",
              "      <th>HIT_RATE</th>\n",
              "      <th>ARHR_ALL_HITS</th>\n",
              "      <th>NOVELTY</th>\n",
              "      <th>AVERAGE_POPULARITY</th>\n",
              "      <th>DIVERSITY_MEAN_INTER_LIST</th>\n",
              "      <th>DIVERSITY_HERFINDAHL</th>\n",
              "      <th>COVERAGE_ITEM</th>\n",
              "      <th>COVERAGE_ITEM_CORRECT</th>\n",
              "      <th>COVERAGE_USER</th>\n",
              "      <th>COVERAGE_USER_CORRECT</th>\n",
              "      <th>DIVERSITY_GINI</th>\n",
              "      <th>SHANNON_ENTROPY</th>\n",
              "      <th>RATIO_DIVERSITY_HERFINDAHL</th>\n",
              "      <th>RATIO_DIVERSITY_GINI</th>\n",
              "      <th>RATIO_SHANNON_ENTROPY</th>\n",
              "      <th>RATIO_AVERAGE_POPULARITY</th>\n",
              "      <th>RATIO_NOVELTY</th>\n",
              "    </tr>\n",
              "    <tr>\n",
              "      <th>cutoff</th>\n",
              "      <th></th>\n",
              "      <th></th>\n",
              "      <th></th>\n",
              "      <th></th>\n",
              "      <th></th>\n",
              "      <th></th>\n",
              "      <th></th>\n",
              "      <th></th>\n",
              "      <th></th>\n",
              "      <th></th>\n",
              "      <th></th>\n",
              "      <th></th>\n",
              "      <th></th>\n",
              "      <th></th>\n",
              "      <th></th>\n",
              "      <th></th>\n",
              "      <th></th>\n",
              "      <th></th>\n",
              "      <th></th>\n",
              "      <th></th>\n",
              "      <th></th>\n",
              "      <th></th>\n",
              "      <th></th>\n",
              "      <th></th>\n",
              "      <th></th>\n",
              "    </tr>\n",
              "  </thead>\n",
              "  <tbody>\n",
              "    <tr>\n",
              "      <th>10</th>\n",
              "      <td>0.400227</td>\n",
              "      <td>0.402063</td>\n",
              "      <td>0.0716636</td>\n",
              "      <td>0.247888</td>\n",
              "      <td>0.248755</td>\n",
              "      <td>0.648659</td>\n",
              "      <td>0.414401</td>\n",
              "      <td>0.121561</td>\n",
              "      <td>0.972959</td>\n",
              "      <td>1.24571</td>\n",
              "      <td>0.00555072</td>\n",
              "      <td>0.534978</td>\n",
              "      <td>0.919681</td>\n",
              "      <td>0.991961</td>\n",
              "      <td>0.0732045</td>\n",
              "      <td>0.052993</td>\n",
              "      <td>0.999707</td>\n",
              "      <td>0.972674</td>\n",
              "      <td>0.0114451</td>\n",
              "      <td>7.95963</td>\n",
              "      <td>0.992344</td>\n",
              "      <td>0.0461629</td>\n",
              "      <td>0.642425</td>\n",
              "      <td>2.61134</td>\n",
              "      <td>0.0261165</td>\n",
              "    </tr>\n",
              "  </tbody>\n",
              "</table>\n",
              "</div>"
            ],
            "text/plain": [
              "       PRECISION  ... RATIO_NOVELTY\n",
              "cutoff            ...              \n",
              "10      0.400227  ...     0.0261165\n",
              "\n",
              "[1 rows x 25 columns]"
            ]
          },
          "metadata": {},
          "execution_count": 47
        }
      ]
    },
    {
      "cell_type": "code",
      "source": [
        "# 1\n",
        "hybrid = DifferentLossScoresHybridRecommender(URM_train, recommender3, recommender2)\n",
        "hybrid.fit(norm = 2, alpha = 1)\n",
        "result_df, _ = evaluator_validation.evaluateRecommender(hybrid)\n",
        "result_df"
      ],
      "metadata": {
        "colab": {
          "base_uri": "https://localhost:8080/",
          "height": 149
        },
        "id": "9b9ZG7A5vPvz",
        "outputId": "7d966bb0-c8ae-4eaa-c40c-f90ad9af0706"
      },
      "execution_count": 48,
      "outputs": [
        {
          "output_type": "stream",
          "name": "stdout",
          "text": [
            "EvaluatorHoldout: Processed 13646 (100.0%) in 2.36 min. Users per second: 96\n"
          ]
        },
        {
          "output_type": "execute_result",
          "data": {
            "text/html": [
              "<div>\n",
              "<style scoped>\n",
              "    .dataframe tbody tr th:only-of-type {\n",
              "        vertical-align: middle;\n",
              "    }\n",
              "\n",
              "    .dataframe tbody tr th {\n",
              "        vertical-align: top;\n",
              "    }\n",
              "\n",
              "    .dataframe thead th {\n",
              "        text-align: right;\n",
              "    }\n",
              "</style>\n",
              "<table border=\"1\" class=\"dataframe\">\n",
              "  <thead>\n",
              "    <tr style=\"text-align: right;\">\n",
              "      <th></th>\n",
              "      <th>PRECISION</th>\n",
              "      <th>PRECISION_RECALL_MIN_DEN</th>\n",
              "      <th>RECALL</th>\n",
              "      <th>MAP</th>\n",
              "      <th>MAP_MIN_DEN</th>\n",
              "      <th>MRR</th>\n",
              "      <th>NDCG</th>\n",
              "      <th>F1</th>\n",
              "      <th>HIT_RATE</th>\n",
              "      <th>ARHR_ALL_HITS</th>\n",
              "      <th>NOVELTY</th>\n",
              "      <th>AVERAGE_POPULARITY</th>\n",
              "      <th>DIVERSITY_MEAN_INTER_LIST</th>\n",
              "      <th>DIVERSITY_HERFINDAHL</th>\n",
              "      <th>COVERAGE_ITEM</th>\n",
              "      <th>COVERAGE_ITEM_CORRECT</th>\n",
              "      <th>COVERAGE_USER</th>\n",
              "      <th>COVERAGE_USER_CORRECT</th>\n",
              "      <th>DIVERSITY_GINI</th>\n",
              "      <th>SHANNON_ENTROPY</th>\n",
              "      <th>RATIO_DIVERSITY_HERFINDAHL</th>\n",
              "      <th>RATIO_DIVERSITY_GINI</th>\n",
              "      <th>RATIO_SHANNON_ENTROPY</th>\n",
              "      <th>RATIO_AVERAGE_POPULARITY</th>\n",
              "      <th>RATIO_NOVELTY</th>\n",
              "    </tr>\n",
              "    <tr>\n",
              "      <th>cutoff</th>\n",
              "      <th></th>\n",
              "      <th></th>\n",
              "      <th></th>\n",
              "      <th></th>\n",
              "      <th></th>\n",
              "      <th></th>\n",
              "      <th></th>\n",
              "      <th></th>\n",
              "      <th></th>\n",
              "      <th></th>\n",
              "      <th></th>\n",
              "      <th></th>\n",
              "      <th></th>\n",
              "      <th></th>\n",
              "      <th></th>\n",
              "      <th></th>\n",
              "      <th></th>\n",
              "      <th></th>\n",
              "      <th></th>\n",
              "      <th></th>\n",
              "      <th></th>\n",
              "      <th></th>\n",
              "      <th></th>\n",
              "      <th></th>\n",
              "      <th></th>\n",
              "    </tr>\n",
              "  </thead>\n",
              "  <tbody>\n",
              "    <tr>\n",
              "      <th>10</th>\n",
              "      <td>0.399582</td>\n",
              "      <td>0.401398</td>\n",
              "      <td>0.0715377</td>\n",
              "      <td>0.247138</td>\n",
              "      <td>0.247995</td>\n",
              "      <td>0.646756</td>\n",
              "      <td>0.413507</td>\n",
              "      <td>0.12135</td>\n",
              "      <td>0.972813</td>\n",
              "      <td>1.24237</td>\n",
              "      <td>0.00555133</td>\n",
              "      <td>0.535755</td>\n",
              "      <td>0.918481</td>\n",
              "      <td>0.991841</td>\n",
              "      <td>0.0761393</td>\n",
              "      <td>0.0541004</td>\n",
              "      <td>0.999707</td>\n",
              "      <td>0.972527</td>\n",
              "      <td>0.0114314</td>\n",
              "      <td>7.94955</td>\n",
              "      <td>0.992224</td>\n",
              "      <td>0.0461075</td>\n",
              "      <td>0.641611</td>\n",
              "      <td>2.61514</td>\n",
              "      <td>0.0261194</td>\n",
              "    </tr>\n",
              "  </tbody>\n",
              "</table>\n",
              "</div>"
            ],
            "text/plain": [
              "       PRECISION  ... RATIO_NOVELTY\n",
              "cutoff            ...              \n",
              "10      0.399582  ...     0.0261194\n",
              "\n",
              "[1 rows x 25 columns]"
            ]
          },
          "metadata": {},
          "execution_count": 48
        }
      ]
    },
    {
      "cell_type": "markdown",
      "source": [
        "#Building the final recommender"
      ],
      "metadata": {
        "id": "uNjNvcqI6Eoz"
      }
    },
    {
      "cell_type": "code",
      "source": [
        "recSLIM = SLIMElasticNetRecommender(URM_sparse)"
      ],
      "metadata": {
        "id": "_zX5OnS-6TM5"
      },
      "execution_count": 62,
      "outputs": []
    },
    {
      "cell_type": "code",
      "source": [
        "recMFIALS = IALSRecommender(URM_sparse)"
      ],
      "metadata": {
        "id": "QWYq2fnc6eqC"
      },
      "execution_count": 63,
      "outputs": []
    },
    {
      "cell_type": "code",
      "source": [
        "recSLIM.fit(l1_ratio = 0.0002204448537910578, alpha = 0.079724114437381, topK = 3100)"
      ],
      "metadata": {
        "colab": {
          "base_uri": "https://localhost:8080/"
        },
        "id": "OD8G909q6r-a",
        "outputId": "b1a10cd3-db22-454f-b958-4808d874feba"
      },
      "execution_count": 64,
      "outputs": [
        {
          "output_type": "stream",
          "name": "stdout",
          "text": [
            "SLIMElasticNetRecommender: Processed 1124 ( 6.2%) in 5.00 min. Items per second: 3.74\n",
            "SLIMElasticNetRecommender: Processed 2321 (12.9%) in 10.00 min. Items per second: 3.87\n",
            "SLIMElasticNetRecommender: Processed 3521 (19.5%) in 15.01 min. Items per second: 3.91\n",
            "SLIMElasticNetRecommender: Processed 4711 (26.1%) in 20.01 min. Items per second: 3.92\n",
            "SLIMElasticNetRecommender: Processed 5892 (32.6%) in 25.01 min. Items per second: 3.93\n",
            "SLIMElasticNetRecommender: Processed 7081 (39.2%) in 30.01 min. Items per second: 3.93\n",
            "SLIMElasticNetRecommender: Processed 8269 (45.8%) in 35.01 min. Items per second: 3.94\n",
            "SLIMElasticNetRecommender: Processed 9467 (52.4%) in 40.01 min. Items per second: 3.94\n",
            "SLIMElasticNetRecommender: Processed 10674 (59.1%) in 45.02 min. Items per second: 3.95\n",
            "SLIMElasticNetRecommender: Processed 11868 (65.7%) in 50.02 min. Items per second: 3.95\n",
            "SLIMElasticNetRecommender: Processed 13065 (72.3%) in 55.02 min. Items per second: 3.96\n",
            "SLIMElasticNetRecommender: Processed 14258 (79.0%) in 1.00 hour. Items per second: 3.96\n",
            "SLIMElasticNetRecommender: Processed 15459 (85.6%) in 1.08 hour. Items per second: 3.96\n",
            "SLIMElasticNetRecommender: Processed 16641 (92.1%) in 1.17 hour. Items per second: 3.96\n",
            "SLIMElasticNetRecommender: Processed 17826 (98.7%) in 1.25 hour. Items per second: 3.96\n",
            "SLIMElasticNetRecommender: Processed 18059 (100.0%) in 1.27 hour. Items per second: 3.96\n"
          ]
        }
      ]
    },
    {
      "cell_type": "code",
      "source": [
        "recMFIALS.fit(epochs = 32, num_factors = 50, alpha = 1.011955985422186, reg = 0.0006510527003718695, init_mean = 0.4902658701038708, init_std = 0.0542837791767091)"
      ],
      "metadata": {
        "colab": {
          "base_uri": "https://localhost:8080/"
        },
        "id": "9Ubo1M9g64Uy",
        "outputId": "88b34962-1893-4338-f772-27b41e6321d7"
      },
      "execution_count": 65,
      "outputs": [
        {
          "output_type": "stream",
          "name": "stdout",
          "text": [
            "IALSRecommender: Epoch 1 of 32. Elapsed time 13.08 sec\n",
            "IALSRecommender: Epoch 2 of 32. Elapsed time 25.98 sec\n",
            "IALSRecommender: Epoch 3 of 32. Elapsed time 38.87 sec\n",
            "IALSRecommender: Epoch 4 of 32. Elapsed time 51.74 sec\n",
            "IALSRecommender: Epoch 5 of 32. Elapsed time 1.08 min\n",
            "IALSRecommender: Epoch 6 of 32. Elapsed time 1.29 min\n",
            "IALSRecommender: Epoch 7 of 32. Elapsed time 1.51 min\n",
            "IALSRecommender: Epoch 8 of 32. Elapsed time 1.72 min\n",
            "IALSRecommender: Epoch 9 of 32. Elapsed time 1.94 min\n",
            "IALSRecommender: Epoch 10 of 32. Elapsed time 2.15 min\n",
            "IALSRecommender: Epoch 11 of 32. Elapsed time 2.37 min\n",
            "IALSRecommender: Epoch 12 of 32. Elapsed time 2.59 min\n",
            "IALSRecommender: Epoch 13 of 32. Elapsed time 2.80 min\n",
            "IALSRecommender: Epoch 14 of 32. Elapsed time 3.02 min\n",
            "IALSRecommender: Epoch 15 of 32. Elapsed time 3.24 min\n",
            "IALSRecommender: Epoch 16 of 32. Elapsed time 3.45 min\n",
            "IALSRecommender: Epoch 17 of 32. Elapsed time 3.67 min\n",
            "IALSRecommender: Epoch 18 of 32. Elapsed time 3.89 min\n",
            "IALSRecommender: Epoch 19 of 32. Elapsed time 4.10 min\n",
            "IALSRecommender: Epoch 20 of 32. Elapsed time 4.32 min\n",
            "IALSRecommender: Epoch 21 of 32. Elapsed time 4.53 min\n",
            "IALSRecommender: Epoch 22 of 32. Elapsed time 4.75 min\n",
            "IALSRecommender: Epoch 23 of 32. Elapsed time 4.96 min\n",
            "IALSRecommender: Epoch 24 of 32. Elapsed time 5.18 min\n",
            "IALSRecommender: Epoch 25 of 32. Elapsed time 5.39 min\n",
            "IALSRecommender: Epoch 26 of 32. Elapsed time 5.61 min\n",
            "IALSRecommender: Epoch 27 of 32. Elapsed time 5.82 min\n",
            "IALSRecommender: Epoch 28 of 32. Elapsed time 6.04 min\n",
            "IALSRecommender: Epoch 29 of 32. Elapsed time 6.25 min\n",
            "IALSRecommender: Epoch 30 of 32. Elapsed time 6.47 min\n",
            "IALSRecommender: Epoch 31 of 32. Elapsed time 6.68 min\n",
            "IALSRecommender: Epoch 32 of 32. Elapsed time 6.90 min\n",
            "IALSRecommender: Terminating at epoch 32. Elapsed time 6.90 min\n"
          ]
        }
      ]
    },
    {
      "cell_type": "code",
      "source": [
        "hybrid_SLIM_MFIALS = DifferentLossScoresHybridRecommender(URM_sparse, recSLIM, recMFIALS)\n",
        "hybrid_SLIM_MFIALS.fit(norm = -np.inf, alpha = 0.8)"
      ],
      "metadata": {
        "id": "C_XGdH4K7ZjI"
      },
      "execution_count": 76,
      "outputs": []
    },
    {
      "cell_type": "code",
      "metadata": {
        "colab": {
          "base_uri": "https://localhost:8080/"
        },
        "id": "M4GCtxIF2Xx4",
        "outputId": "1ccd0c6b-c901-48ec-b92d-bb8cc302ed69"
      },
      "source": [
        "%cd RSChallenge/\n",
        "%ls"
      ],
      "execution_count": 77,
      "outputs": [
        {
          "output_type": "stream",
          "name": "stdout",
          "text": [
            "/content/gdrive/MyDrive/Colab Notebooks/RSChallenge\n",
            "HYBRID.ipynb  \u001b[0m\u001b[01;34mResults\u001b[0m/  \u001b[01;34mRSData\u001b[0m/  \u001b[01;34mRSLib\u001b[0m/  \u001b[01;34mRSLib2\u001b[0m/  submission_HYBRID_1.csv\n"
          ]
        }
      ]
    },
    {
      "cell_type": "code",
      "metadata": {
        "id": "QkLpWFEM2VMU"
      },
      "source": [
        "target_users = pd.read_csv('RSData/data_target_users_test.csv')"
      ],
      "execution_count": 78,
      "outputs": []
    },
    {
      "cell_type": "code",
      "metadata": {
        "colab": {
          "base_uri": "https://localhost:8080/"
        },
        "id": "pzNvGLYjWYna",
        "outputId": "c6a7f07d-9f4a-42f6-a913-7ec9f067f047"
      },
      "source": [
        "final_dict = {}\n",
        "start_time = time.time()\n",
        "\n",
        "for user in target_users['user_id']:\n",
        "  final_dict[user] = hybrid_SLIM_MFIALS.recommend(user,cutoff=10)\n",
        "end_time = time.time()\n",
        "print('Time needed is {}seconds'.format(end_time-start_time))"
      ],
      "execution_count": 79,
      "outputs": [
        {
          "output_type": "stream",
          "name": "stdout",
          "text": [
            "Time needed is 50.41395306587219seconds\n"
          ]
        }
      ]
    },
    {
      "cell_type": "code",
      "metadata": {
        "id": "VT3Hf0jsWjWj"
      },
      "source": [
        "item_list = []\n",
        "for user in target_users['user_id']:\n",
        "  item_list.append(' '.join(str(e) for e in final_dict[user]))"
      ],
      "execution_count": 80,
      "outputs": []
    },
    {
      "cell_type": "code",
      "metadata": {
        "colab": {
          "base_uri": "https://localhost:8080/",
          "height": 424
        },
        "id": "iSdj2hv5Wsqc",
        "outputId": "b34471c6-e6e6-4cb8-c1c6-ffb00803edb6"
      },
      "source": [
        "submission_df = pd.DataFrame({'user_id' : target_users['user_id'],'item_list' : item_list })\n",
        "submission_df['item_list'] = submission_df['item_list'].astype(str).str.strip('[]')\n",
        "submission_df"
      ],
      "execution_count": 81,
      "outputs": [
        {
          "output_type": "execute_result",
          "data": {
            "text/html": [
              "<div>\n",
              "<style scoped>\n",
              "    .dataframe tbody tr th:only-of-type {\n",
              "        vertical-align: middle;\n",
              "    }\n",
              "\n",
              "    .dataframe tbody tr th {\n",
              "        vertical-align: top;\n",
              "    }\n",
              "\n",
              "    .dataframe thead th {\n",
              "        text-align: right;\n",
              "    }\n",
              "</style>\n",
              "<table border=\"1\" class=\"dataframe\">\n",
              "  <thead>\n",
              "    <tr style=\"text-align: right;\">\n",
              "      <th></th>\n",
              "      <th>user_id</th>\n",
              "      <th>item_list</th>\n",
              "    </tr>\n",
              "  </thead>\n",
              "  <tbody>\n",
              "    <tr>\n",
              "      <th>0</th>\n",
              "      <td>0</td>\n",
              "      <td>3899 5433 16365 8465 16359 2243 6061 9130 640 ...</td>\n",
              "    </tr>\n",
              "    <tr>\n",
              "      <th>1</th>\n",
              "      <td>1</td>\n",
              "      <td>3473 940 14400 16012 2118 640 9275 16365 10118...</td>\n",
              "    </tr>\n",
              "    <tr>\n",
              "      <th>2</th>\n",
              "      <td>2</td>\n",
              "      <td>6177 1551 17022 17330 14229 16365 2846 15119 4...</td>\n",
              "    </tr>\n",
              "    <tr>\n",
              "      <th>3</th>\n",
              "      <td>3</td>\n",
              "      <td>8194 15551 15082 16359 8371 960 15507 16444 58...</td>\n",
              "    </tr>\n",
              "    <tr>\n",
              "      <th>4</th>\n",
              "      <td>4</td>\n",
              "      <td>8194 10586 6177 2152 9871 10954 5299 6011 1649...</td>\n",
              "    </tr>\n",
              "    <tr>\n",
              "      <th>...</th>\n",
              "      <td>...</td>\n",
              "      <td>...</td>\n",
              "    </tr>\n",
              "    <tr>\n",
              "      <th>13645</th>\n",
              "      <td>13645</td>\n",
              "      <td>6177 11491 3200 8898 1259 11576 7762 11303 407...</td>\n",
              "    </tr>\n",
              "    <tr>\n",
              "      <th>13646</th>\n",
              "      <td>13646</td>\n",
              "      <td>3473 7867 8635 16640 17266 17623 409 11504 176...</td>\n",
              "    </tr>\n",
              "    <tr>\n",
              "      <th>13647</th>\n",
              "      <td>13647</td>\n",
              "      <td>1846 7716 7606 11227 8635 14868 1186 11491 168...</td>\n",
              "    </tr>\n",
              "    <tr>\n",
              "      <th>13648</th>\n",
              "      <td>13648</td>\n",
              "      <td>6177 8635 13295 6214 7295 14358 14181 17936 52...</td>\n",
              "    </tr>\n",
              "    <tr>\n",
              "      <th>13649</th>\n",
              "      <td>13649</td>\n",
              "      <td>16919 4088 14536 5273 17330 11038 10026 14627 ...</td>\n",
              "    </tr>\n",
              "  </tbody>\n",
              "</table>\n",
              "<p>13650 rows × 2 columns</p>\n",
              "</div>"
            ],
            "text/plain": [
              "       user_id                                          item_list\n",
              "0            0  3899 5433 16365 8465 16359 2243 6061 9130 640 ...\n",
              "1            1  3473 940 14400 16012 2118 640 9275 16365 10118...\n",
              "2            2  6177 1551 17022 17330 14229 16365 2846 15119 4...\n",
              "3            3  8194 15551 15082 16359 8371 960 15507 16444 58...\n",
              "4            4  8194 10586 6177 2152 9871 10954 5299 6011 1649...\n",
              "...        ...                                                ...\n",
              "13645    13645  6177 11491 3200 8898 1259 11576 7762 11303 407...\n",
              "13646    13646  3473 7867 8635 16640 17266 17623 409 11504 176...\n",
              "13647    13647  1846 7716 7606 11227 8635 14868 1186 11491 168...\n",
              "13648    13648  6177 8635 13295 6214 7295 14358 14181 17936 52...\n",
              "13649    13649  16919 4088 14536 5273 17330 11038 10026 14627 ...\n",
              "\n",
              "[13650 rows x 2 columns]"
            ]
          },
          "metadata": {},
          "execution_count": 81
        }
      ]
    },
    {
      "cell_type": "code",
      "metadata": {
        "colab": {
          "base_uri": "https://localhost:8080/"
        },
        "id": "qhQPgu05WxeR",
        "outputId": "d5c9bec4-eda2-49fa-d642-c7f8f66752a4"
      },
      "source": [
        "%ls\n",
        "%cd .."
      ],
      "execution_count": 82,
      "outputs": [
        {
          "output_type": "stream",
          "name": "stdout",
          "text": [
            "HYBRID.ipynb  \u001b[0m\u001b[01;34mResults\u001b[0m/  \u001b[01;34mRSData\u001b[0m/  \u001b[01;34mRSLib\u001b[0m/  \u001b[01;34mRSLib2\u001b[0m/  submission_HYBRID_1.csv\n",
            "/content/gdrive/My Drive/Colab Notebooks\n"
          ]
        }
      ]
    },
    {
      "cell_type": "code",
      "metadata": {
        "id": "j55GRF3YWzoc"
      },
      "source": [
        "submission_df.to_csv('RSChallenge/submission_HYBRID_2.csv', index=False)"
      ],
      "execution_count": 83,
      "outputs": []
    }
  ]
}