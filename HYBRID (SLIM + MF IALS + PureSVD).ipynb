{
  "nbformat": 4,
  "nbformat_minor": 0,
  "metadata": {
    "colab": {
      "name": "HYBRID2.ipynb",
      "provenance": [],
      "collapsed_sections": []
    },
    "kernelspec": {
      "display_name": "Python 3",
      "name": "python3"
    },
    "language_info": {
      "name": "python"
    }
  },
  "cells": [
    {
      "cell_type": "code",
      "metadata": {
        "colab": {
          "base_uri": "https://localhost:8080/"
        },
        "id": "LFlT6nkAWskh",
        "outputId": "fc808d6c-4d87-4396-e945-007ae706e1d1"
      },
      "source": [
        "#Connecting to google drive\n",
        "from google.colab import drive \n",
        "drive.mount('/content/gdrive',force_remount=True)"
      ],
      "execution_count": 1,
      "outputs": [
        {
          "output_type": "stream",
          "name": "stdout",
          "text": [
            "Mounted at /content/gdrive\n"
          ]
        }
      ]
    },
    {
      "cell_type": "code",
      "metadata": {
        "colab": {
          "base_uri": "https://localhost:8080/"
        },
        "id": "IOxo6wtFYcWJ",
        "outputId": "9f1ff88d-a64b-4e62-f147-a5b27cf3466c"
      },
      "source": [
        "%cd gdrive/MyDrive/Colab\\ Notebooks/RSChallenge/RSLib\n",
        "%ls"
      ],
      "execution_count": 2,
      "outputs": [
        {
          "output_type": "stream",
          "name": "stdout",
          "text": [
            "/content/gdrive/MyDrive/Colab Notebooks/RSChallenge/RSLib\n",
            "\u001b[0m\u001b[01;34mRecSys_Course_AT_PoliMi-master\u001b[0m/\n"
          ]
        }
      ]
    },
    {
      "cell_type": "code",
      "metadata": {
        "colab": {
          "base_uri": "https://localhost:8080/"
        },
        "id": "uyeCiqzqYq-b",
        "outputId": "c7f1fe6b-3b69-45e6-aba0-561e16e49a72"
      },
      "source": [
        "!ls */*.py"
      ],
      "execution_count": 3,
      "outputs": [
        {
          "output_type": "stream",
          "name": "stdout",
          "text": [
            "RecSys_Course_AT_PoliMi-master/cython_example_FunkSVD.py\n",
            "RecSys_Course_AT_PoliMi-master/cython_example_SLIM_MSE.py\n",
            "RecSys_Course_AT_PoliMi-master/run_all_algorithms.py\n",
            "RecSys_Course_AT_PoliMi-master/run_compile_all_cython.py\n",
            "RecSys_Course_AT_PoliMi-master/run_hyperparameter_search.py\n",
            "RecSys_Course_AT_PoliMi-master/run_test_recommenders.py\n"
          ]
        }
      ]
    },
    {
      "cell_type": "code",
      "metadata": {
        "id": "2ueKvUiuYyX9"
      },
      "source": [
        "#Importing course's repositories\n",
        "import sys\n",
        "sys.path.append('/content/gdrive/MyDrive/Colab Notebooks/RSChallenge/RSLib/RecSys_Course_AT_PoliMi-master')"
      ],
      "execution_count": 4,
      "outputs": []
    },
    {
      "cell_type": "code",
      "source": [
        "#To use skopt\n",
        "! pip install --quiet lightgbm==2.2.3 scikit-optimize==0.9.0 neptune-client==0.4.132 neptune-contrib[monitoring]==0.25.0"
      ],
      "metadata": {
        "colab": {
          "base_uri": "https://localhost:8080/"
        },
        "id": "UvS1s1l-1_wm",
        "outputId": "7b7bcc5c-5600-40b1-ffae-e5315aff9d4e"
      },
      "execution_count": 5,
      "outputs": [
        {
          "output_type": "stream",
          "name": "stdout",
          "text": [
            "\u001b[?25l\r\u001b[K     |███▎                            | 10 kB 27.0 MB/s eta 0:00:01\r\u001b[K     |██████▌                         | 20 kB 31.4 MB/s eta 0:00:01\r\u001b[K     |█████████▉                      | 30 kB 22.1 MB/s eta 0:00:01\r\u001b[K     |█████████████                   | 40 kB 18.3 MB/s eta 0:00:01\r\u001b[K     |████████████████▍               | 51 kB 8.7 MB/s eta 0:00:01\r\u001b[K     |███████████████████▋            | 61 kB 10.2 MB/s eta 0:00:01\r\u001b[K     |██████████████████████▉         | 71 kB 9.2 MB/s eta 0:00:01\r\u001b[K     |██████████████████████████▏     | 81 kB 10.2 MB/s eta 0:00:01\r\u001b[K     |█████████████████████████████▍  | 92 kB 8.0 MB/s eta 0:00:01\r\u001b[K     |████████████████████████████████| 100 kB 4.9 MB/s \n",
            "\u001b[K     |████████████████████████████████| 110 kB 43.0 MB/s \n",
            "\u001b[K     |████████████████████████████████| 67 kB 5.2 MB/s \n",
            "\u001b[K     |████████████████████████████████| 829 kB 31.7 MB/s \n",
            "\u001b[K     |████████████████████████████████| 53 kB 2.1 MB/s \n",
            "\u001b[K     |████████████████████████████████| 180 kB 56.5 MB/s \n",
            "\u001b[K     |████████████████████████████████| 106 kB 49.7 MB/s \n",
            "\u001b[K     |████████████████████████████████| 175 kB 58.0 MB/s \n",
            "\u001b[K     |████████████████████████████████| 63 kB 1.7 MB/s \n",
            "\u001b[K     |████████████████████████████████| 99 kB 9.3 MB/s \n",
            "\u001b[K     |████████████████████████████████| 130 kB 48.1 MB/s \n",
            "\u001b[K     |████████████████████████████████| 67 kB 5.8 MB/s \n",
            "\u001b[K     |████████████████████████████████| 564 kB 33.4 MB/s \n",
            "\u001b[?25h  Building wheel for neptune-client (setup.py) ... \u001b[?25l\u001b[?25hdone\n",
            "  Building wheel for neptune-contrib (setup.py) ... \u001b[?25l\u001b[?25hdone\n",
            "  Building wheel for future (setup.py) ... \u001b[?25l\u001b[?25hdone\n",
            "  Building wheel for py-cpuinfo (setup.py) ... \u001b[?25l\u001b[?25hdone\n",
            "  Building wheel for strict-rfc3339 (setup.py) ... \u001b[?25l\u001b[?25hdone\n",
            "  Building wheel for memory-profiler (setup.py) ... \u001b[?25l\u001b[?25hdone\n"
          ]
        }
      ]
    },
    {
      "cell_type": "code",
      "metadata": {
        "colab": {
          "base_uri": "https://localhost:8080/"
        },
        "id": "gc4Jcu0fZCZJ",
        "outputId": "a7d42328-66ac-4009-a936-0cc697b3c88a"
      },
      "source": [
        "#Importing libraries\n",
        "import pandas as pd \n",
        "import scipy.sparse as sps\n",
        "import numpy as np\n",
        "import time\n",
        "import matplotlib.pyplot as pyplot\n",
        "import os\n",
        "from Evaluation.Evaluator import EvaluatorHoldout\n",
        "from Data_manager.split_functions.split_train_validation_random_holdout import split_train_in_two_percentage_global_sample\n",
        "from Recommenders.Similarity.Compute_Similarity_Python import Compute_Similarity_Python\n",
        "from Recommenders.SLIM.SLIMElasticNetRecommender import SLIMElasticNetRecommender\n",
        "from Recommenders.MatrixFactorization.IALSRecommender import IALSRecommender\n",
        "from HyperparameterTuning.SearchBayesianSkopt import SearchBayesianSkopt\n",
        "from HyperparameterTuning.SearchAbstractClass import SearchInputRecommenderArgs\n",
        "from Recommenders.MatrixFactorization.PureSVDRecommender import PureSVDRecommender\n",
        "\n",
        "print(\"DEBUG\")"
      ],
      "execution_count": 86,
      "outputs": [
        {
          "output_type": "stream",
          "name": "stdout",
          "text": [
            "DEBUG\n"
          ]
        }
      ]
    },
    {
      "cell_type": "code",
      "metadata": {
        "colab": {
          "base_uri": "https://localhost:8080/"
        },
        "id": "oZixAobTZ39k",
        "outputId": "f576efe0-250f-4f5e-f4d4-dc017dec4cee"
      },
      "source": [
        "%cd ..\n",
        "%ls"
      ],
      "execution_count": 7,
      "outputs": [
        {
          "output_type": "stream",
          "name": "stdout",
          "text": [
            "/content/gdrive/MyDrive/Colab Notebooks/RSChallenge\n",
            "HYBRID.ipynb  \u001b[0m\u001b[01;34mResults\u001b[0m/  \u001b[01;34mRSData\u001b[0m/  \u001b[01;34mRSLib\u001b[0m/  \u001b[01;34mRSLib2\u001b[0m/\n"
          ]
        }
      ]
    },
    {
      "cell_type": "code",
      "metadata": {
        "id": "Y4jzSuLZZLjE"
      },
      "source": [
        "#Loading dataframes\n",
        "URM_dataframe = pd.read_csv('RSData/data_train.csv')\n",
        "ICM_genre_dataframe=pd.read_csv('RSData/data_ICM_genre.csv')\n",
        "ICM_subgenre_dataframe=pd.read_csv('RSData/data_ICM_subgenre.csv')\n",
        "ICM_event_dataframe=pd.read_csv('RSData/data_ICM_event.csv')\n",
        "ICM_channel_dataframe=pd.read_csv('RSData/data_ICM_channel.csv')"
      ],
      "execution_count": 8,
      "outputs": []
    },
    {
      "cell_type": "code",
      "metadata": {
        "id": "Bs8W6l3IaK3z"
      },
      "source": [
        "#Column Renaming\n",
        "URM_dataframe.columns = ['User','Item','Interaction']\n",
        "ICM_genre_dataframe.columns = ['Item','Feature','Val']\n",
        "ICM_subgenre_dataframe.columns = ['Item','Feature','Val']\n",
        "ICM_event_dataframe.columns = ['Item','Feature','Val']\n",
        "ICM_channel_dataframe.columns = ['Item','Feature','Val']"
      ],
      "execution_count": 9,
      "outputs": []
    },
    {
      "cell_type": "code",
      "metadata": {
        "id": "aq7xFKS4aL1O"
      },
      "source": [
        "#Converting datatype\n",
        "URM_dataframe['Interaction'] = URM_dataframe['Interaction'].astype(int)\n",
        "ICM_genre_dataframe['Val'] = ICM_genre_dataframe['Val'].astype(int)\n",
        "ICM_subgenre_dataframe['Val'] = ICM_subgenre_dataframe['Val'].astype(int)\n",
        "ICM_event_dataframe['Val'] = ICM_event_dataframe['Val'].astype(int)\n",
        "ICM_channel_dataframe['Val'] = ICM_channel_dataframe['Val'].astype(int)"
      ],
      "execution_count": 10,
      "outputs": []
    },
    {
      "cell_type": "code",
      "metadata": {
        "colab": {
          "base_uri": "https://localhost:8080/"
        },
        "id": "aZAaTBClaVXp",
        "outputId": "08421cf4-34c4-46ee-e59c-b80bb4a581f6"
      },
      "source": [
        "#Printing stats to see if everything went well\n",
        "userID_unique = URM_dataframe[\"User\"].unique()\n",
        "itemID_unique = URM_dataframe[\"Item\"].unique()\n",
        "n_users = len(userID_unique)\n",
        "n_items = len(itemID_unique)\n",
        "n_interactions = len(URM_dataframe)\n",
        "\n",
        "#Printing some stats\n",
        "print(\"Number of users: \" + str(n_users))\n",
        "print(\"Number of items: \" + str(n_items))\n",
        "print(\"Number of interactions: \" + str(n_interactions))"
      ],
      "execution_count": 11,
      "outputs": [
        {
          "output_type": "stream",
          "name": "stdout",
          "text": [
            "Number of users: 13650\n",
            "Number of items: 18059\n",
            "Number of interactions: 5285664\n"
          ]
        }
      ]
    },
    {
      "cell_type": "code",
      "metadata": {
        "colab": {
          "base_uri": "https://localhost:8080/"
        },
        "id": "yB4mwV2paWVD",
        "outputId": "51010604-9c2a-4a1c-e12f-53cccb58d178"
      },
      "source": [
        "#Checking if re-assignment of ID's is needed\n",
        "print('The maxID for user {}, The maxID for item {}'.format(max(URM_dataframe.User),max(URM_dataframe.Item)))"
      ],
      "execution_count": 12,
      "outputs": [
        {
          "output_type": "stream",
          "name": "stdout",
          "text": [
            "The maxID for user 13649, The maxID for item 18058\n"
          ]
        }
      ]
    },
    {
      "cell_type": "markdown",
      "metadata": {
        "id": "x-6SNHkf6kKU"
      },
      "source": [
        "Re-assignment not needed"
      ]
    },
    {
      "cell_type": "code",
      "metadata": {
        "colab": {
          "base_uri": "https://localhost:8080/"
        },
        "id": "h_WVD6-9aaUZ",
        "outputId": "9ce0c422-8aea-49ce-a153-f8c16a5a1028"
      },
      "source": [
        "#Converting the URM into a sparse matrix\n",
        "URM_sparse = sps.coo_matrix((URM_dataframe['Interaction'].values,(URM_dataframe['User'].values,URM_dataframe['Item'].values)))\n",
        "URM_csr = URM_sparse.tocsr()\n",
        "URM_csr"
      ],
      "execution_count": 13,
      "outputs": [
        {
          "output_type": "execute_result",
          "data": {
            "text/plain": [
              "<13650x18059 sparse matrix of type '<class 'numpy.longlong'>'\n",
              "\twith 5285664 stored elements in Compressed Sparse Row format>"
            ]
          },
          "metadata": {},
          "execution_count": 13
        }
      ]
    },
    {
      "cell_type": "code",
      "metadata": {
        "colab": {
          "base_uri": "https://localhost:8080/"
        },
        "id": "MqGmEtuKabZ_",
        "outputId": "354cce9f-d984-4595-c447-86ea08563791"
      },
      "source": [
        "#Splitting data into training and validation set (Test set is the one on Kaggle)\n",
        "URM_train, URM_validation = split_train_in_two_percentage_global_sample(URM_csr, train_percentage = 0.80)\n",
        "evaluator_validation = EvaluatorHoldout(URM_validation, cutoff_list=[10])"
      ],
      "execution_count": 14,
      "outputs": [
        {
          "output_type": "stream",
          "name": "stdout",
          "text": [
            "Warning: 4 (0.03 %) of 13650 users have no sampled items\n",
            "EvaluatorHoldout: Ignoring 13646 ( 0.0%) Users that have less than 1 test interactions\n"
          ]
        }
      ]
    },
    {
      "cell_type": "markdown",
      "metadata": {
        "id": "ILLD234rIJPL"
      },
      "source": [
        "This requires a lot of time, let's first try with some random values ..."
      ]
    },
    {
      "cell_type": "code",
      "source": [
        "recommender = SLIMElasticNetRecommender(URM_train)"
      ],
      "metadata": {
        "id": "R9c0EKCZzj6_"
      },
      "execution_count": 15,
      "outputs": []
    },
    {
      "cell_type": "code",
      "metadata": {
        "colab": {
          "base_uri": "https://localhost:8080/"
        },
        "id": "3l9gqXDiF9Hb",
        "outputId": "43877df8-0b49-4e34-d93d-6ea1622eb244"
      },
      "source": [
        "recommender.fit(l1_ratio = 0.0002204448537910578, alpha = 0.079724114437381, topK = 3100) # 47.33%"
      ],
      "execution_count": 16,
      "outputs": [
        {
          "output_type": "stream",
          "name": "stdout",
          "text": [
            "SLIMElasticNetRecommender: Processed 1478 ( 8.2%) in 5.00 min. Items per second: 4.92\n",
            "SLIMElasticNetRecommender: Processed 3027 (16.8%) in 10.01 min. Items per second: 5.04\n",
            "SLIMElasticNetRecommender: Processed 4583 (25.4%) in 15.01 min. Items per second: 5.09\n",
            "SLIMElasticNetRecommender: Processed 6151 (34.1%) in 20.01 min. Items per second: 5.12\n",
            "SLIMElasticNetRecommender: Processed 7733 (42.8%) in 25.01 min. Items per second: 5.15\n",
            "SLIMElasticNetRecommender: Processed 9307 (51.5%) in 30.02 min. Items per second: 5.17\n",
            "SLIMElasticNetRecommender: Processed 10902 (60.4%) in 35.02 min. Items per second: 5.19\n",
            "SLIMElasticNetRecommender: Processed 12485 (69.1%) in 40.02 min. Items per second: 5.20\n",
            "SLIMElasticNetRecommender: Processed 14070 (77.9%) in 45.02 min. Items per second: 5.21\n",
            "SLIMElasticNetRecommender: Processed 15656 (86.7%) in 50.02 min. Items per second: 5.22\n",
            "SLIMElasticNetRecommender: Processed 17226 (95.4%) in 55.02 min. Items per second: 5.22\n",
            "SLIMElasticNetRecommender: Processed 18059 (100.0%) in 57.69 min. Items per second: 5.22\n"
          ]
        }
      ]
    },
    {
      "cell_type": "code",
      "source": [
        "recommender2 = IALSRecommender(URM_train)"
      ],
      "metadata": {
        "id": "zL2ssZIzz6eJ"
      },
      "execution_count": 17,
      "outputs": []
    },
    {
      "cell_type": "code",
      "source": [
        "recommender2.fit(epochs = 32, num_factors = 50, alpha = 1.011955985422186, reg = 0.0006510527003718695, init_mean = 0.4902658701038708, init_std = 0.0542837791767091) # Così ottengo: 0.418 MAP: 0.2335376"
      ],
      "metadata": {
        "colab": {
          "base_uri": "https://localhost:8080/"
        },
        "id": "yGFwVqKQz6_0",
        "outputId": "5994e46f-b359-4a44-9e5c-68a0bba75f57"
      },
      "execution_count": 90,
      "outputs": [
        {
          "output_type": "stream",
          "name": "stdout",
          "text": [
            "IALSRecommender: Epoch 1 of 32. Elapsed time 11.76 sec\n",
            "IALSRecommender: Epoch 2 of 32. Elapsed time 23.29 sec\n",
            "IALSRecommender: Epoch 3 of 32. Elapsed time 34.85 sec\n",
            "IALSRecommender: Epoch 4 of 32. Elapsed time 48.90 sec\n",
            "IALSRecommender: Epoch 5 of 32. Elapsed time 1.04 min\n",
            "IALSRecommender: Epoch 6 of 32. Elapsed time 1.23 min\n",
            "IALSRecommender: Epoch 7 of 32. Elapsed time 1.52 min\n",
            "IALSRecommender: Epoch 8 of 32. Elapsed time 1.99 min\n",
            "IALSRecommender: Epoch 9 of 32. Elapsed time 2.46 min\n",
            "IALSRecommender: Epoch 10 of 32. Elapsed time 2.81 min\n",
            "IALSRecommender: Epoch 11 of 32. Elapsed time 3.00 min\n",
            "IALSRecommender: Epoch 12 of 32. Elapsed time 3.19 min\n",
            "IALSRecommender: Epoch 13 of 32. Elapsed time 3.39 min\n",
            "IALSRecommender: Epoch 14 of 32. Elapsed time 3.58 min\n",
            "IALSRecommender: Epoch 15 of 32. Elapsed time 3.78 min\n",
            "IALSRecommender: Epoch 16 of 32. Elapsed time 3.97 min\n",
            "IALSRecommender: Epoch 17 of 32. Elapsed time 4.16 min\n",
            "IALSRecommender: Epoch 18 of 32. Elapsed time 4.35 min\n",
            "IALSRecommender: Epoch 19 of 32. Elapsed time 4.55 min\n",
            "IALSRecommender: Epoch 20 of 32. Elapsed time 4.73 min\n",
            "IALSRecommender: Epoch 21 of 32. Elapsed time 4.93 min\n",
            "IALSRecommender: Epoch 22 of 32. Elapsed time 5.12 min\n",
            "IALSRecommender: Epoch 23 of 32. Elapsed time 5.31 min\n",
            "IALSRecommender: Epoch 24 of 32. Elapsed time 5.51 min\n",
            "IALSRecommender: Epoch 25 of 32. Elapsed time 5.70 min\n",
            "IALSRecommender: Epoch 26 of 32. Elapsed time 5.90 min\n",
            "IALSRecommender: Epoch 27 of 32. Elapsed time 6.09 min\n",
            "IALSRecommender: Epoch 28 of 32. Elapsed time 6.28 min\n",
            "IALSRecommender: Epoch 29 of 32. Elapsed time 6.47 min\n",
            "IALSRecommender: Epoch 30 of 32. Elapsed time 6.66 min\n",
            "IALSRecommender: Epoch 31 of 32. Elapsed time 6.85 min\n",
            "IALSRecommender: Epoch 32 of 32. Elapsed time 7.04 min\n",
            "IALSRecommender: Terminating at epoch 32. Elapsed time 7.04 min\n"
          ]
        }
      ]
    },
    {
      "cell_type": "code",
      "source": [
        "recommenderSVD = PureSVDRecommender(URM_train)"
      ],
      "metadata": {
        "id": "Cm5weN1At9P3"
      },
      "execution_count": 87,
      "outputs": []
    },
    {
      "cell_type": "code",
      "source": [
        "recommenderSVD.fit(num_factors = 28)"
      ],
      "metadata": {
        "colab": {
          "base_uri": "https://localhost:8080/"
        },
        "id": "AAJEE8BhuU1W",
        "outputId": "4304a3e7-caa6-4795-febb-456ba53e7f12"
      },
      "execution_count": 89,
      "outputs": [
        {
          "output_type": "stream",
          "name": "stdout",
          "text": [
            "PureSVDRecommender: Computing SVD decomposition...\n",
            "PureSVDRecommender: Computing SVD decomposition... done in 3.84 sec\n"
          ]
        }
      ]
    },
    {
      "cell_type": "code",
      "source": [
        "from Recommenders.BaseRecommender import BaseRecommender\n",
        "\n",
        "class DifferentLossScoresHybridRecommender(BaseRecommender):\n",
        "    \"\"\" ScoresHybridRecommender\n",
        "    Hybrid of two prediction scores R = R1/norm*alpha + R2/norm*(1-alpha) where R1 and R2 come from\n",
        "    algorithms trained on different loss functions.\n",
        "\n",
        "    \"\"\"\n",
        "\n",
        "    RECOMMENDER_NAME = \"DifferentLossScoresHybridRecommender\"\n",
        "\n",
        "\n",
        "    def __init__(self, URM_train, recommender_1, recommender_2, recommender_3):\n",
        "        super(DifferentLossScoresHybridRecommender, self).__init__(URM_train)\n",
        "\n",
        "        self.URM_train = sps.csr_matrix(URM_train)\n",
        "        self.recommender_1 = recommender_1\n",
        "        self.recommender_2 = recommender_2\n",
        "        self.recommender_3 = recommender_3\n",
        "        \n",
        "        \n",
        "        \n",
        "    def fit(self, norm, alpha = 0.5, beta = 0.5, gamma = 0.5):\n",
        "\n",
        "        self.alpha = alpha\n",
        "        self.beta = beta\n",
        "        self.gamma = gamma\n",
        "        self.norm = norm\n",
        "\n",
        "\n",
        "    def _compute_item_score(self, user_id_array, items_to_compute):\n",
        "        \n",
        "        item_weights_1 = self.recommender_1._compute_item_score(user_id_array)\n",
        "        item_weights_2 = self.recommender_2._compute_item_score(user_id_array)\n",
        "        item_weights_3 = self.recommender_3._compute_item_score(user_id_array)\n",
        "\n",
        "        norm_item_weights_1 = LA.norm(item_weights_1, self.norm)\n",
        "        norm_item_weights_2 = LA.norm(item_weights_2, self.norm)\n",
        "        norm_item_weights_3 = LA.norm(item_weights_3, self.norm)\n",
        "        \n",
        "        \n",
        "        if norm_item_weights_1 == 0:\n",
        "            raise ValueError(\"Norm {} of item weights for recommender 1 is zero. Avoiding division by zero\".format(self.norm))\n",
        "        \n",
        "        if norm_item_weights_2 == 0:\n",
        "            raise ValueError(\"Norm {} of item weights for recommender 2 is zero. Avoiding division by zero\".format(self.norm))\n",
        "        \n",
        "        item_weights = item_weights_1 / norm_item_weights_1 * self.alpha + item_weights_2 / norm_item_weights_2 * (self.beta) + item_weights_3 / norm_item_weights_3 * (self.gamma)\n",
        "\n",
        "        return item_weights"
      ],
      "metadata": {
        "id": "Vh2hjxJw0WMO"
      },
      "execution_count": 98,
      "outputs": []
    },
    {
      "cell_type": "markdown",
      "source": [
        "#HYBRID SLIM + PURE SVD + MF IALS"
      ],
      "metadata": {
        "id": "-Gj-tGYEvU7a"
      }
    },
    {
      "cell_type": "code",
      "source": [
        "hybrid = DifferentLossScoresHybridRecommender(URM_train, recommender, recommender2, recommenderSVD)\n",
        "hybrid.fit(norm = -np.inf, alpha = 0.7, beta = 0.28, gamma = 0.02)\n",
        "result_df, _ = evaluator_validation.evaluateRecommender(hybrid)\n",
        "display(result_df)"
      ],
      "metadata": {
        "colab": {
          "base_uri": "https://localhost:8080/",
          "height": 149
        },
        "id": "71uq0ERpvZQk",
        "outputId": "1fa37d44-71bc-4573-8ab4-40ddaedfdbe9"
      },
      "execution_count": 138,
      "outputs": [
        {
          "output_type": "stream",
          "name": "stdout",
          "text": [
            "EvaluatorHoldout: Processed 13646 (100.0%) in 34.00 sec. Users per second: 401\n"
          ]
        },
        {
          "output_type": "display_data",
          "data": {
            "text/html": [
              "<div>\n",
              "<style scoped>\n",
              "    .dataframe tbody tr th:only-of-type {\n",
              "        vertical-align: middle;\n",
              "    }\n",
              "\n",
              "    .dataframe tbody tr th {\n",
              "        vertical-align: top;\n",
              "    }\n",
              "\n",
              "    .dataframe thead th {\n",
              "        text-align: right;\n",
              "    }\n",
              "</style>\n",
              "<table border=\"1\" class=\"dataframe\">\n",
              "  <thead>\n",
              "    <tr style=\"text-align: right;\">\n",
              "      <th></th>\n",
              "      <th>PRECISION</th>\n",
              "      <th>PRECISION_RECALL_MIN_DEN</th>\n",
              "      <th>RECALL</th>\n",
              "      <th>MAP</th>\n",
              "      <th>MAP_MIN_DEN</th>\n",
              "      <th>MRR</th>\n",
              "      <th>NDCG</th>\n",
              "      <th>F1</th>\n",
              "      <th>HIT_RATE</th>\n",
              "      <th>ARHR_ALL_HITS</th>\n",
              "      <th>NOVELTY</th>\n",
              "      <th>AVERAGE_POPULARITY</th>\n",
              "      <th>DIVERSITY_MEAN_INTER_LIST</th>\n",
              "      <th>DIVERSITY_HERFINDAHL</th>\n",
              "      <th>COVERAGE_ITEM</th>\n",
              "      <th>COVERAGE_ITEM_CORRECT</th>\n",
              "      <th>COVERAGE_USER</th>\n",
              "      <th>COVERAGE_USER_CORRECT</th>\n",
              "      <th>DIVERSITY_GINI</th>\n",
              "      <th>SHANNON_ENTROPY</th>\n",
              "      <th>RATIO_DIVERSITY_HERFINDAHL</th>\n",
              "      <th>RATIO_DIVERSITY_GINI</th>\n",
              "      <th>RATIO_SHANNON_ENTROPY</th>\n",
              "      <th>RATIO_AVERAGE_POPULARITY</th>\n",
              "      <th>RATIO_NOVELTY</th>\n",
              "    </tr>\n",
              "    <tr>\n",
              "      <th>cutoff</th>\n",
              "      <th></th>\n",
              "      <th></th>\n",
              "      <th></th>\n",
              "      <th></th>\n",
              "      <th></th>\n",
              "      <th></th>\n",
              "      <th></th>\n",
              "      <th></th>\n",
              "      <th></th>\n",
              "      <th></th>\n",
              "      <th></th>\n",
              "      <th></th>\n",
              "      <th></th>\n",
              "      <th></th>\n",
              "      <th></th>\n",
              "      <th></th>\n",
              "      <th></th>\n",
              "      <th></th>\n",
              "      <th></th>\n",
              "      <th></th>\n",
              "      <th></th>\n",
              "      <th></th>\n",
              "      <th></th>\n",
              "      <th></th>\n",
              "      <th></th>\n",
              "    </tr>\n",
              "  </thead>\n",
              "  <tbody>\n",
              "    <tr>\n",
              "      <th>10</th>\n",
              "      <td>0.403356</td>\n",
              "      <td>0.405193</td>\n",
              "      <td>0.0720257</td>\n",
              "      <td>0.250241</td>\n",
              "      <td>0.251137</td>\n",
              "      <td>0.648708</td>\n",
              "      <td>0.416973</td>\n",
              "      <td>0.122226</td>\n",
              "      <td>0.972666</td>\n",
              "      <td>1.2515</td>\n",
              "      <td>0.00552037</td>\n",
              "      <td>0.545722</td>\n",
              "      <td>0.918981</td>\n",
              "      <td>0.991891</td>\n",
              "      <td>0.0667811</td>\n",
              "      <td>0.0492829</td>\n",
              "      <td>0.999707</td>\n",
              "      <td>0.972381</td>\n",
              "      <td>0.0108116</td>\n",
              "      <td>7.89693</td>\n",
              "      <td>0.992274</td>\n",
              "      <td>0.0436075</td>\n",
              "      <td>0.637364</td>\n",
              "      <td>2.66379</td>\n",
              "      <td>0.0259737</td>\n",
              "    </tr>\n",
              "  </tbody>\n",
              "</table>\n",
              "</div>"
            ],
            "text/plain": [
              "       PRECISION  ... RATIO_NOVELTY\n",
              "cutoff            ...              \n",
              "10      0.403356  ...     0.0259737\n",
              "\n",
              "[1 rows x 25 columns]"
            ]
          },
          "metadata": {}
        }
      ]
    },
    {
      "cell_type": "markdown",
      "source": [
        "Migliore fin'ora: 0.7 0.28 0.02"
      ],
      "metadata": {
        "id": "jbQKlwjw9UxN"
      }
    },
    {
      "cell_type": "markdown",
      "source": [
        "#SLIM TOK K 3000 NORM 2"
      ],
      "metadata": {
        "id": "qKD-5nrGo6_d"
      }
    },
    {
      "cell_type": "code",
      "source": [
        "# 0.7\n",
        "hybrid = DifferentLossScoresHybridRecommender(URM_train, recommender, recommender2)\n",
        "hybrid.fit(norm = -np.inf, alpha = 0.7)\n",
        "result_df, _ = evaluator_validation.evaluateRecommender(hybrid)\n",
        "result_df"
      ],
      "metadata": {
        "colab": {
          "base_uri": "https://localhost:8080/",
          "height": 149
        },
        "id": "H3RF4Yvjb6H-",
        "outputId": "180b2723-85fc-4539-a47b-48a5d7f08cb4"
      },
      "execution_count": 56,
      "outputs": [
        {
          "output_type": "stream",
          "name": "stdout",
          "text": [
            "EvaluatorHoldout: Processed 13646 (100.0%) in 32.40 sec. Users per second: 421\n"
          ]
        },
        {
          "output_type": "execute_result",
          "data": {
            "text/html": [
              "<div>\n",
              "<style scoped>\n",
              "    .dataframe tbody tr th:only-of-type {\n",
              "        vertical-align: middle;\n",
              "    }\n",
              "\n",
              "    .dataframe tbody tr th {\n",
              "        vertical-align: top;\n",
              "    }\n",
              "\n",
              "    .dataframe thead th {\n",
              "        text-align: right;\n",
              "    }\n",
              "</style>\n",
              "<table border=\"1\" class=\"dataframe\">\n",
              "  <thead>\n",
              "    <tr style=\"text-align: right;\">\n",
              "      <th></th>\n",
              "      <th>PRECISION</th>\n",
              "      <th>PRECISION_RECALL_MIN_DEN</th>\n",
              "      <th>RECALL</th>\n",
              "      <th>MAP</th>\n",
              "      <th>MAP_MIN_DEN</th>\n",
              "      <th>MRR</th>\n",
              "      <th>NDCG</th>\n",
              "      <th>F1</th>\n",
              "      <th>HIT_RATE</th>\n",
              "      <th>ARHR_ALL_HITS</th>\n",
              "      <th>NOVELTY</th>\n",
              "      <th>AVERAGE_POPULARITY</th>\n",
              "      <th>DIVERSITY_MEAN_INTER_LIST</th>\n",
              "      <th>DIVERSITY_HERFINDAHL</th>\n",
              "      <th>COVERAGE_ITEM</th>\n",
              "      <th>COVERAGE_ITEM_CORRECT</th>\n",
              "      <th>COVERAGE_USER</th>\n",
              "      <th>COVERAGE_USER_CORRECT</th>\n",
              "      <th>DIVERSITY_GINI</th>\n",
              "      <th>SHANNON_ENTROPY</th>\n",
              "      <th>RATIO_DIVERSITY_HERFINDAHL</th>\n",
              "      <th>RATIO_DIVERSITY_GINI</th>\n",
              "      <th>RATIO_SHANNON_ENTROPY</th>\n",
              "      <th>RATIO_AVERAGE_POPULARITY</th>\n",
              "      <th>RATIO_NOVELTY</th>\n",
              "    </tr>\n",
              "    <tr>\n",
              "      <th>cutoff</th>\n",
              "      <th></th>\n",
              "      <th></th>\n",
              "      <th></th>\n",
              "      <th></th>\n",
              "      <th></th>\n",
              "      <th></th>\n",
              "      <th></th>\n",
              "      <th></th>\n",
              "      <th></th>\n",
              "      <th></th>\n",
              "      <th></th>\n",
              "      <th></th>\n",
              "      <th></th>\n",
              "      <th></th>\n",
              "      <th></th>\n",
              "      <th></th>\n",
              "      <th></th>\n",
              "      <th></th>\n",
              "      <th></th>\n",
              "      <th></th>\n",
              "      <th></th>\n",
              "      <th></th>\n",
              "      <th></th>\n",
              "      <th></th>\n",
              "      <th></th>\n",
              "    </tr>\n",
              "  </thead>\n",
              "  <tbody>\n",
              "    <tr>\n",
              "      <th>10</th>\n",
              "      <td>0.403298</td>\n",
              "      <td>0.405137</td>\n",
              "      <td>0.0720926</td>\n",
              "      <td>0.250358</td>\n",
              "      <td>0.251239</td>\n",
              "      <td>0.649596</td>\n",
              "      <td>0.417129</td>\n",
              "      <td>0.12232</td>\n",
              "      <td>0.9723</td>\n",
              "      <td>1.25272</td>\n",
              "      <td>0.00552297</td>\n",
              "      <td>0.544703</td>\n",
              "      <td>0.919408</td>\n",
              "      <td>0.991934</td>\n",
              "      <td>0.0679993</td>\n",
              "      <td>0.0502243</td>\n",
              "      <td>0.999707</td>\n",
              "      <td>0.972015</td>\n",
              "      <td>0.0109371</td>\n",
              "      <td>7.91046</td>\n",
              "      <td>0.992317</td>\n",
              "      <td>0.0441139</td>\n",
              "      <td>0.638456</td>\n",
              "      <td>2.65881</td>\n",
              "      <td>0.025986</td>\n",
              "    </tr>\n",
              "  </tbody>\n",
              "</table>\n",
              "</div>"
            ],
            "text/plain": [
              "       PRECISION  ... RATIO_NOVELTY\n",
              "cutoff            ...              \n",
              "10      0.403298  ...      0.025986\n",
              "\n",
              "[1 rows x 25 columns]"
            ]
          },
          "metadata": {},
          "execution_count": 56
        }
      ]
    },
    {
      "cell_type": "code",
      "source": [
        "# 0.75\n",
        "hybrid = DifferentLossScoresHybridRecommender(URM_train, recommender, recommender2)\n",
        "hybrid.fit(norm = -np.inf, alpha = 0.75)\n",
        "result_df, _ = evaluator_validation.evaluateRecommender(hybrid)\n",
        "result_df"
      ],
      "metadata": {
        "colab": {
          "base_uri": "https://localhost:8080/",
          "height": 149
        },
        "id": "RXX0p3Ca5jan",
        "outputId": "8dfcf4de-2b8a-4e53-fcde-cd47583c6914"
      },
      "execution_count": 60,
      "outputs": [
        {
          "output_type": "stream",
          "name": "stdout",
          "text": [
            "EvaluatorHoldout: Processed 13646 (100.0%) in 36.35 sec. Users per second: 375\n"
          ]
        },
        {
          "output_type": "execute_result",
          "data": {
            "text/html": [
              "<div>\n",
              "<style scoped>\n",
              "    .dataframe tbody tr th:only-of-type {\n",
              "        vertical-align: middle;\n",
              "    }\n",
              "\n",
              "    .dataframe tbody tr th {\n",
              "        vertical-align: top;\n",
              "    }\n",
              "\n",
              "    .dataframe thead th {\n",
              "        text-align: right;\n",
              "    }\n",
              "</style>\n",
              "<table border=\"1\" class=\"dataframe\">\n",
              "  <thead>\n",
              "    <tr style=\"text-align: right;\">\n",
              "      <th></th>\n",
              "      <th>PRECISION</th>\n",
              "      <th>PRECISION_RECALL_MIN_DEN</th>\n",
              "      <th>RECALL</th>\n",
              "      <th>MAP</th>\n",
              "      <th>MAP_MIN_DEN</th>\n",
              "      <th>MRR</th>\n",
              "      <th>NDCG</th>\n",
              "      <th>F1</th>\n",
              "      <th>HIT_RATE</th>\n",
              "      <th>ARHR_ALL_HITS</th>\n",
              "      <th>NOVELTY</th>\n",
              "      <th>AVERAGE_POPULARITY</th>\n",
              "      <th>DIVERSITY_MEAN_INTER_LIST</th>\n",
              "      <th>DIVERSITY_HERFINDAHL</th>\n",
              "      <th>COVERAGE_ITEM</th>\n",
              "      <th>COVERAGE_ITEM_CORRECT</th>\n",
              "      <th>COVERAGE_USER</th>\n",
              "      <th>COVERAGE_USER_CORRECT</th>\n",
              "      <th>DIVERSITY_GINI</th>\n",
              "      <th>SHANNON_ENTROPY</th>\n",
              "      <th>RATIO_DIVERSITY_HERFINDAHL</th>\n",
              "      <th>RATIO_DIVERSITY_GINI</th>\n",
              "      <th>RATIO_SHANNON_ENTROPY</th>\n",
              "      <th>RATIO_AVERAGE_POPULARITY</th>\n",
              "      <th>RATIO_NOVELTY</th>\n",
              "    </tr>\n",
              "    <tr>\n",
              "      <th>cutoff</th>\n",
              "      <th></th>\n",
              "      <th></th>\n",
              "      <th></th>\n",
              "      <th></th>\n",
              "      <th></th>\n",
              "      <th></th>\n",
              "      <th></th>\n",
              "      <th></th>\n",
              "      <th></th>\n",
              "      <th></th>\n",
              "      <th></th>\n",
              "      <th></th>\n",
              "      <th></th>\n",
              "      <th></th>\n",
              "      <th></th>\n",
              "      <th></th>\n",
              "      <th></th>\n",
              "      <th></th>\n",
              "      <th></th>\n",
              "      <th></th>\n",
              "      <th></th>\n",
              "      <th></th>\n",
              "      <th></th>\n",
              "      <th></th>\n",
              "      <th></th>\n",
              "    </tr>\n",
              "  </thead>\n",
              "  <tbody>\n",
              "    <tr>\n",
              "      <th>10</th>\n",
              "      <td>0.403444</td>\n",
              "      <td>0.405272</td>\n",
              "      <td>0.0720107</td>\n",
              "      <td>0.250325</td>\n",
              "      <td>0.25119</td>\n",
              "      <td>0.649035</td>\n",
              "      <td>0.417026</td>\n",
              "      <td>0.122208</td>\n",
              "      <td>0.972006</td>\n",
              "      <td>1.25172</td>\n",
              "      <td>0.00552046</td>\n",
              "      <td>0.54632</td>\n",
              "      <td>0.918299</td>\n",
              "      <td>0.991823</td>\n",
              "      <td>0.0686085</td>\n",
              "      <td>0.050335</td>\n",
              "      <td>0.999707</td>\n",
              "      <td>0.971722</td>\n",
              "      <td>0.0108458</td>\n",
              "      <td>7.89497</td>\n",
              "      <td>0.992206</td>\n",
              "      <td>0.0437454</td>\n",
              "      <td>0.637206</td>\n",
              "      <td>2.66671</td>\n",
              "      <td>0.0259742</td>\n",
              "    </tr>\n",
              "  </tbody>\n",
              "</table>\n",
              "</div>"
            ],
            "text/plain": [
              "       PRECISION  ... RATIO_NOVELTY\n",
              "cutoff            ...              \n",
              "10      0.403444  ...     0.0259742\n",
              "\n",
              "[1 rows x 25 columns]"
            ]
          },
          "metadata": {},
          "execution_count": 60
        }
      ]
    },
    {
      "cell_type": "code",
      "source": [
        "# 0.79\n",
        "hybrid = DifferentLossScoresHybridRecommender(URM_train, recommender, recommender2)\n",
        "hybrid.fit(norm = -np.inf, alpha = 0.79)\n",
        "result_df, _ = evaluator_validation.evaluateRecommender(hybrid)\n",
        "result_df"
      ],
      "metadata": {
        "colab": {
          "base_uri": "https://localhost:8080/",
          "height": 149
        },
        "id": "bsrfOBPTUhlM",
        "outputId": "ff43594b-54d7-4225-ba55-66a7dd765f1d"
      },
      "execution_count": 84,
      "outputs": [
        {
          "output_type": "stream",
          "name": "stdout",
          "text": [
            "EvaluatorHoldout: Processed 13646 (100.0%) in 35.09 sec. Users per second: 389\n"
          ]
        },
        {
          "output_type": "execute_result",
          "data": {
            "text/html": [
              "<div>\n",
              "<style scoped>\n",
              "    .dataframe tbody tr th:only-of-type {\n",
              "        vertical-align: middle;\n",
              "    }\n",
              "\n",
              "    .dataframe tbody tr th {\n",
              "        vertical-align: top;\n",
              "    }\n",
              "\n",
              "    .dataframe thead th {\n",
              "        text-align: right;\n",
              "    }\n",
              "</style>\n",
              "<table border=\"1\" class=\"dataframe\">\n",
              "  <thead>\n",
              "    <tr style=\"text-align: right;\">\n",
              "      <th></th>\n",
              "      <th>PRECISION</th>\n",
              "      <th>PRECISION_RECALL_MIN_DEN</th>\n",
              "      <th>RECALL</th>\n",
              "      <th>MAP</th>\n",
              "      <th>MAP_MIN_DEN</th>\n",
              "      <th>MRR</th>\n",
              "      <th>NDCG</th>\n",
              "      <th>F1</th>\n",
              "      <th>HIT_RATE</th>\n",
              "      <th>ARHR_ALL_HITS</th>\n",
              "      <th>NOVELTY</th>\n",
              "      <th>AVERAGE_POPULARITY</th>\n",
              "      <th>DIVERSITY_MEAN_INTER_LIST</th>\n",
              "      <th>DIVERSITY_HERFINDAHL</th>\n",
              "      <th>COVERAGE_ITEM</th>\n",
              "      <th>COVERAGE_ITEM_CORRECT</th>\n",
              "      <th>COVERAGE_USER</th>\n",
              "      <th>COVERAGE_USER_CORRECT</th>\n",
              "      <th>DIVERSITY_GINI</th>\n",
              "      <th>SHANNON_ENTROPY</th>\n",
              "      <th>RATIO_DIVERSITY_HERFINDAHL</th>\n",
              "      <th>RATIO_DIVERSITY_GINI</th>\n",
              "      <th>RATIO_SHANNON_ENTROPY</th>\n",
              "      <th>RATIO_AVERAGE_POPULARITY</th>\n",
              "      <th>RATIO_NOVELTY</th>\n",
              "    </tr>\n",
              "    <tr>\n",
              "      <th>cutoff</th>\n",
              "      <th></th>\n",
              "      <th></th>\n",
              "      <th></th>\n",
              "      <th></th>\n",
              "      <th></th>\n",
              "      <th></th>\n",
              "      <th></th>\n",
              "      <th></th>\n",
              "      <th></th>\n",
              "      <th></th>\n",
              "      <th></th>\n",
              "      <th></th>\n",
              "      <th></th>\n",
              "      <th></th>\n",
              "      <th></th>\n",
              "      <th></th>\n",
              "      <th></th>\n",
              "      <th></th>\n",
              "      <th></th>\n",
              "      <th></th>\n",
              "      <th></th>\n",
              "      <th></th>\n",
              "      <th></th>\n",
              "      <th></th>\n",
              "      <th></th>\n",
              "    </tr>\n",
              "  </thead>\n",
              "  <tbody>\n",
              "    <tr>\n",
              "      <th>10</th>\n",
              "      <td>0.403496</td>\n",
              "      <td>0.405314</td>\n",
              "      <td>0.0720479</td>\n",
              "      <td>0.250354</td>\n",
              "      <td>0.251205</td>\n",
              "      <td>0.64874</td>\n",
              "      <td>0.417013</td>\n",
              "      <td>0.122264</td>\n",
              "      <td>0.97208</td>\n",
              "      <td>1.25155</td>\n",
              "      <td>0.00551869</td>\n",
              "      <td>0.547518</td>\n",
              "      <td>0.91742</td>\n",
              "      <td>0.991735</td>\n",
              "      <td>0.0689407</td>\n",
              "      <td>0.0505011</td>\n",
              "      <td>0.999707</td>\n",
              "      <td>0.971795</td>\n",
              "      <td>0.0107727</td>\n",
              "      <td>7.8828</td>\n",
              "      <td>0.992118</td>\n",
              "      <td>0.0434506</td>\n",
              "      <td>0.636224</td>\n",
              "      <td>2.67255</td>\n",
              "      <td>0.0259659</td>\n",
              "    </tr>\n",
              "  </tbody>\n",
              "</table>\n",
              "</div>"
            ],
            "text/plain": [
              "       PRECISION  ... RATIO_NOVELTY\n",
              "cutoff            ...              \n",
              "10      0.403496  ...     0.0259659\n",
              "\n",
              "[1 rows x 25 columns]"
            ]
          },
          "metadata": {},
          "execution_count": 84
        }
      ]
    },
    {
      "cell_type": "code",
      "source": [
        "# 0.8\n",
        "hybrid = DifferentLossScoresHybridRecommender(URM_train, recommender, recommender2)\n",
        "hybrid.fit(norm = -np.inf, alpha = 0.8)\n",
        "result_df, _ = evaluator_validation.evaluateRecommender(hybrid)\n",
        "result_df"
      ],
      "metadata": {
        "colab": {
          "base_uri": "https://localhost:8080/",
          "height": 149
        },
        "id": "qjDzvAiPb6hC",
        "outputId": "f7db6c83-9d90-4fbe-8ab2-d771166ca7c9"
      },
      "execution_count": 57,
      "outputs": [
        {
          "output_type": "stream",
          "name": "stdout",
          "text": [
            "EvaluatorHoldout: Processed 13646 (100.0%) in 32.34 sec. Users per second: 422\n"
          ]
        },
        {
          "output_type": "execute_result",
          "data": {
            "text/html": [
              "<div>\n",
              "<style scoped>\n",
              "    .dataframe tbody tr th:only-of-type {\n",
              "        vertical-align: middle;\n",
              "    }\n",
              "\n",
              "    .dataframe tbody tr th {\n",
              "        vertical-align: top;\n",
              "    }\n",
              "\n",
              "    .dataframe thead th {\n",
              "        text-align: right;\n",
              "    }\n",
              "</style>\n",
              "<table border=\"1\" class=\"dataframe\">\n",
              "  <thead>\n",
              "    <tr style=\"text-align: right;\">\n",
              "      <th></th>\n",
              "      <th>PRECISION</th>\n",
              "      <th>PRECISION_RECALL_MIN_DEN</th>\n",
              "      <th>RECALL</th>\n",
              "      <th>MAP</th>\n",
              "      <th>MAP_MIN_DEN</th>\n",
              "      <th>MRR</th>\n",
              "      <th>NDCG</th>\n",
              "      <th>F1</th>\n",
              "      <th>HIT_RATE</th>\n",
              "      <th>ARHR_ALL_HITS</th>\n",
              "      <th>NOVELTY</th>\n",
              "      <th>AVERAGE_POPULARITY</th>\n",
              "      <th>DIVERSITY_MEAN_INTER_LIST</th>\n",
              "      <th>DIVERSITY_HERFINDAHL</th>\n",
              "      <th>COVERAGE_ITEM</th>\n",
              "      <th>COVERAGE_ITEM_CORRECT</th>\n",
              "      <th>COVERAGE_USER</th>\n",
              "      <th>COVERAGE_USER_CORRECT</th>\n",
              "      <th>DIVERSITY_GINI</th>\n",
              "      <th>SHANNON_ENTROPY</th>\n",
              "      <th>RATIO_DIVERSITY_HERFINDAHL</th>\n",
              "      <th>RATIO_DIVERSITY_GINI</th>\n",
              "      <th>RATIO_SHANNON_ENTROPY</th>\n",
              "      <th>RATIO_AVERAGE_POPULARITY</th>\n",
              "      <th>RATIO_NOVELTY</th>\n",
              "    </tr>\n",
              "    <tr>\n",
              "      <th>cutoff</th>\n",
              "      <th></th>\n",
              "      <th></th>\n",
              "      <th></th>\n",
              "      <th></th>\n",
              "      <th></th>\n",
              "      <th></th>\n",
              "      <th></th>\n",
              "      <th></th>\n",
              "      <th></th>\n",
              "      <th></th>\n",
              "      <th></th>\n",
              "      <th></th>\n",
              "      <th></th>\n",
              "      <th></th>\n",
              "      <th></th>\n",
              "      <th></th>\n",
              "      <th></th>\n",
              "      <th></th>\n",
              "      <th></th>\n",
              "      <th></th>\n",
              "      <th></th>\n",
              "      <th></th>\n",
              "      <th></th>\n",
              "      <th></th>\n",
              "      <th></th>\n",
              "    </tr>\n",
              "  </thead>\n",
              "  <tbody>\n",
              "    <tr>\n",
              "      <th>10</th>\n",
              "      <td>0.403474</td>\n",
              "      <td>0.405291</td>\n",
              "      <td>0.0720331</td>\n",
              "      <td>0.250378</td>\n",
              "      <td>0.251231</td>\n",
              "      <td>0.649071</td>\n",
              "      <td>0.417058</td>\n",
              "      <td>0.122242</td>\n",
              "      <td>0.97208</td>\n",
              "      <td>1.25188</td>\n",
              "      <td>0.0055184</td>\n",
              "      <td>0.547716</td>\n",
              "      <td>0.917274</td>\n",
              "      <td>0.991721</td>\n",
              "      <td>0.0692729</td>\n",
              "      <td>0.0505565</td>\n",
              "      <td>0.999707</td>\n",
              "      <td>0.971795</td>\n",
              "      <td>0.01076</td>\n",
              "      <td>7.88064</td>\n",
              "      <td>0.992104</td>\n",
              "      <td>0.0433994</td>\n",
              "      <td>0.636049</td>\n",
              "      <td>2.67352</td>\n",
              "      <td>0.0259645</td>\n",
              "    </tr>\n",
              "  </tbody>\n",
              "</table>\n",
              "</div>"
            ],
            "text/plain": [
              "       PRECISION  ... RATIO_NOVELTY\n",
              "cutoff            ...              \n",
              "10      0.403474  ...     0.0259645\n",
              "\n",
              "[1 rows x 25 columns]"
            ]
          },
          "metadata": {},
          "execution_count": 57
        }
      ]
    },
    {
      "cell_type": "code",
      "source": [
        "# 0.81\n",
        "hybrid = DifferentLossScoresHybridRecommender(URM_train, recommender, recommender2)\n",
        "hybrid.fit(norm = -np.inf, alpha = 0.81)\n",
        "result_df, _ = evaluator_validation.evaluateRecommender(hybrid)\n",
        "result_df"
      ],
      "metadata": {
        "colab": {
          "base_uri": "https://localhost:8080/",
          "height": 149
        },
        "id": "FEkkgFeJUk9A",
        "outputId": "30585b67-110a-42f5-e165-2bfa18da0dc3"
      },
      "execution_count": 85,
      "outputs": [
        {
          "output_type": "stream",
          "name": "stdout",
          "text": [
            "EvaluatorHoldout: Processed 13646 (100.0%) in 32.77 sec. Users per second: 416\n"
          ]
        },
        {
          "output_type": "execute_result",
          "data": {
            "text/html": [
              "<div>\n",
              "<style scoped>\n",
              "    .dataframe tbody tr th:only-of-type {\n",
              "        vertical-align: middle;\n",
              "    }\n",
              "\n",
              "    .dataframe tbody tr th {\n",
              "        vertical-align: top;\n",
              "    }\n",
              "\n",
              "    .dataframe thead th {\n",
              "        text-align: right;\n",
              "    }\n",
              "</style>\n",
              "<table border=\"1\" class=\"dataframe\">\n",
              "  <thead>\n",
              "    <tr style=\"text-align: right;\">\n",
              "      <th></th>\n",
              "      <th>PRECISION</th>\n",
              "      <th>PRECISION_RECALL_MIN_DEN</th>\n",
              "      <th>RECALL</th>\n",
              "      <th>MAP</th>\n",
              "      <th>MAP_MIN_DEN</th>\n",
              "      <th>MRR</th>\n",
              "      <th>NDCG</th>\n",
              "      <th>F1</th>\n",
              "      <th>HIT_RATE</th>\n",
              "      <th>ARHR_ALL_HITS</th>\n",
              "      <th>NOVELTY</th>\n",
              "      <th>AVERAGE_POPULARITY</th>\n",
              "      <th>DIVERSITY_MEAN_INTER_LIST</th>\n",
              "      <th>DIVERSITY_HERFINDAHL</th>\n",
              "      <th>COVERAGE_ITEM</th>\n",
              "      <th>COVERAGE_ITEM_CORRECT</th>\n",
              "      <th>COVERAGE_USER</th>\n",
              "      <th>COVERAGE_USER_CORRECT</th>\n",
              "      <th>DIVERSITY_GINI</th>\n",
              "      <th>SHANNON_ENTROPY</th>\n",
              "      <th>RATIO_DIVERSITY_HERFINDAHL</th>\n",
              "      <th>RATIO_DIVERSITY_GINI</th>\n",
              "      <th>RATIO_SHANNON_ENTROPY</th>\n",
              "      <th>RATIO_AVERAGE_POPULARITY</th>\n",
              "      <th>RATIO_NOVELTY</th>\n",
              "    </tr>\n",
              "    <tr>\n",
              "      <th>cutoff</th>\n",
              "      <th></th>\n",
              "      <th></th>\n",
              "      <th></th>\n",
              "      <th></th>\n",
              "      <th></th>\n",
              "      <th></th>\n",
              "      <th></th>\n",
              "      <th></th>\n",
              "      <th></th>\n",
              "      <th></th>\n",
              "      <th></th>\n",
              "      <th></th>\n",
              "      <th></th>\n",
              "      <th></th>\n",
              "      <th></th>\n",
              "      <th></th>\n",
              "      <th></th>\n",
              "      <th></th>\n",
              "      <th></th>\n",
              "      <th></th>\n",
              "      <th></th>\n",
              "      <th></th>\n",
              "      <th></th>\n",
              "      <th></th>\n",
              "      <th></th>\n",
              "    </tr>\n",
              "  </thead>\n",
              "  <tbody>\n",
              "    <tr>\n",
              "      <th>10</th>\n",
              "      <td>0.403334</td>\n",
              "      <td>0.405156</td>\n",
              "      <td>0.0720147</td>\n",
              "      <td>0.250325</td>\n",
              "      <td>0.251178</td>\n",
              "      <td>0.649196</td>\n",
              "      <td>0.416984</td>\n",
              "      <td>0.122209</td>\n",
              "      <td>0.972153</td>\n",
              "      <td>1.25183</td>\n",
              "      <td>0.00551819</td>\n",
              "      <td>0.547912</td>\n",
              "      <td>0.917126</td>\n",
              "      <td>0.991706</td>\n",
              "      <td>0.0694391</td>\n",
              "      <td>0.0506119</td>\n",
              "      <td>0.999707</td>\n",
              "      <td>0.971868</td>\n",
              "      <td>0.0107458</td>\n",
              "      <td>7.8784</td>\n",
              "      <td>0.992089</td>\n",
              "      <td>0.0433421</td>\n",
              "      <td>0.635869</td>\n",
              "      <td>2.67448</td>\n",
              "      <td>0.0259635</td>\n",
              "    </tr>\n",
              "  </tbody>\n",
              "</table>\n",
              "</div>"
            ],
            "text/plain": [
              "       PRECISION  ... RATIO_NOVELTY\n",
              "cutoff            ...              \n",
              "10      0.403334  ...     0.0259635\n",
              "\n",
              "[1 rows x 25 columns]"
            ]
          },
          "metadata": {},
          "execution_count": 85
        }
      ]
    },
    {
      "cell_type": "code",
      "source": [
        "# 0.85\n",
        "hybrid = DifferentLossScoresHybridRecommender(URM_train, recommender, recommender2)\n",
        "hybrid.fit(norm = -np.inf, alpha = 0.85)\n",
        "result_df, _ = evaluator_validation.evaluateRecommender(hybrid)\n",
        "result_df"
      ],
      "metadata": {
        "colab": {
          "base_uri": "https://localhost:8080/",
          "height": 149
        },
        "id": "_Rto5JpU5yZS",
        "outputId": "ed0cf5f2-41dc-452f-a6f0-26d96b561186"
      },
      "execution_count": 61,
      "outputs": [
        {
          "output_type": "stream",
          "name": "stdout",
          "text": [
            "EvaluatorHoldout: Processed 13646 (100.0%) in 33.60 sec. Users per second: 406\n"
          ]
        },
        {
          "output_type": "execute_result",
          "data": {
            "text/html": [
              "<div>\n",
              "<style scoped>\n",
              "    .dataframe tbody tr th:only-of-type {\n",
              "        vertical-align: middle;\n",
              "    }\n",
              "\n",
              "    .dataframe tbody tr th {\n",
              "        vertical-align: top;\n",
              "    }\n",
              "\n",
              "    .dataframe thead th {\n",
              "        text-align: right;\n",
              "    }\n",
              "</style>\n",
              "<table border=\"1\" class=\"dataframe\">\n",
              "  <thead>\n",
              "    <tr style=\"text-align: right;\">\n",
              "      <th></th>\n",
              "      <th>PRECISION</th>\n",
              "      <th>PRECISION_RECALL_MIN_DEN</th>\n",
              "      <th>RECALL</th>\n",
              "      <th>MAP</th>\n",
              "      <th>MAP_MIN_DEN</th>\n",
              "      <th>MRR</th>\n",
              "      <th>NDCG</th>\n",
              "      <th>F1</th>\n",
              "      <th>HIT_RATE</th>\n",
              "      <th>ARHR_ALL_HITS</th>\n",
              "      <th>NOVELTY</th>\n",
              "      <th>AVERAGE_POPULARITY</th>\n",
              "      <th>DIVERSITY_MEAN_INTER_LIST</th>\n",
              "      <th>DIVERSITY_HERFINDAHL</th>\n",
              "      <th>COVERAGE_ITEM</th>\n",
              "      <th>COVERAGE_ITEM_CORRECT</th>\n",
              "      <th>COVERAGE_USER</th>\n",
              "      <th>COVERAGE_USER_CORRECT</th>\n",
              "      <th>DIVERSITY_GINI</th>\n",
              "      <th>SHANNON_ENTROPY</th>\n",
              "      <th>RATIO_DIVERSITY_HERFINDAHL</th>\n",
              "      <th>RATIO_DIVERSITY_GINI</th>\n",
              "      <th>RATIO_SHANNON_ENTROPY</th>\n",
              "      <th>RATIO_AVERAGE_POPULARITY</th>\n",
              "      <th>RATIO_NOVELTY</th>\n",
              "    </tr>\n",
              "    <tr>\n",
              "      <th>cutoff</th>\n",
              "      <th></th>\n",
              "      <th></th>\n",
              "      <th></th>\n",
              "      <th></th>\n",
              "      <th></th>\n",
              "      <th></th>\n",
              "      <th></th>\n",
              "      <th></th>\n",
              "      <th></th>\n",
              "      <th></th>\n",
              "      <th></th>\n",
              "      <th></th>\n",
              "      <th></th>\n",
              "      <th></th>\n",
              "      <th></th>\n",
              "      <th></th>\n",
              "      <th></th>\n",
              "      <th></th>\n",
              "      <th></th>\n",
              "      <th></th>\n",
              "      <th></th>\n",
              "      <th></th>\n",
              "      <th></th>\n",
              "      <th></th>\n",
              "      <th></th>\n",
              "    </tr>\n",
              "  </thead>\n",
              "  <tbody>\n",
              "    <tr>\n",
              "      <th>10</th>\n",
              "      <td>0.402975</td>\n",
              "      <td>0.40478</td>\n",
              "      <td>0.071949</td>\n",
              "      <td>0.250116</td>\n",
              "      <td>0.250967</td>\n",
              "      <td>0.649743</td>\n",
              "      <td>0.416762</td>\n",
              "      <td>0.122098</td>\n",
              "      <td>0.972006</td>\n",
              "      <td>1.25163</td>\n",
              "      <td>0.00551661</td>\n",
              "      <td>0.54896</td>\n",
              "      <td>0.916395</td>\n",
              "      <td>0.991633</td>\n",
              "      <td>0.0700482</td>\n",
              "      <td>0.0501689</td>\n",
              "      <td>0.999707</td>\n",
              "      <td>0.971722</td>\n",
              "      <td>0.0106816</td>\n",
              "      <td>7.86778</td>\n",
              "      <td>0.992016</td>\n",
              "      <td>0.0430832</td>\n",
              "      <td>0.635012</td>\n",
              "      <td>2.67959</td>\n",
              "      <td>0.025956</td>\n",
              "    </tr>\n",
              "  </tbody>\n",
              "</table>\n",
              "</div>"
            ],
            "text/plain": [
              "       PRECISION  ... RATIO_NOVELTY\n",
              "cutoff            ...              \n",
              "10      0.402975  ...      0.025956\n",
              "\n",
              "[1 rows x 25 columns]"
            ]
          },
          "metadata": {},
          "execution_count": 61
        }
      ]
    },
    {
      "cell_type": "markdown",
      "source": [
        "#Building the final recommender"
      ],
      "metadata": {
        "id": "uNjNvcqI6Eoz"
      }
    },
    {
      "cell_type": "code",
      "source": [
        "recSLIM = SLIMElasticNetRecommender(URM_sparse)"
      ],
      "metadata": {
        "id": "_zX5OnS-6TM5"
      },
      "execution_count": 62,
      "outputs": []
    },
    {
      "cell_type": "code",
      "source": [
        "recMFIALS = IALSRecommender(URM_sparse)"
      ],
      "metadata": {
        "id": "QWYq2fnc6eqC"
      },
      "execution_count": 63,
      "outputs": []
    },
    {
      "cell_type": "code",
      "source": [
        "recSLIM.fit(l1_ratio = 0.0002204448537910578, alpha = 0.079724114437381, topK = 3100)"
      ],
      "metadata": {
        "colab": {
          "base_uri": "https://localhost:8080/"
        },
        "id": "OD8G909q6r-a",
        "outputId": "b1a10cd3-db22-454f-b958-4808d874feba"
      },
      "execution_count": 64,
      "outputs": [
        {
          "output_type": "stream",
          "name": "stdout",
          "text": [
            "SLIMElasticNetRecommender: Processed 1124 ( 6.2%) in 5.00 min. Items per second: 3.74\n",
            "SLIMElasticNetRecommender: Processed 2321 (12.9%) in 10.00 min. Items per second: 3.87\n",
            "SLIMElasticNetRecommender: Processed 3521 (19.5%) in 15.01 min. Items per second: 3.91\n",
            "SLIMElasticNetRecommender: Processed 4711 (26.1%) in 20.01 min. Items per second: 3.92\n",
            "SLIMElasticNetRecommender: Processed 5892 (32.6%) in 25.01 min. Items per second: 3.93\n",
            "SLIMElasticNetRecommender: Processed 7081 (39.2%) in 30.01 min. Items per second: 3.93\n",
            "SLIMElasticNetRecommender: Processed 8269 (45.8%) in 35.01 min. Items per second: 3.94\n",
            "SLIMElasticNetRecommender: Processed 9467 (52.4%) in 40.01 min. Items per second: 3.94\n",
            "SLIMElasticNetRecommender: Processed 10674 (59.1%) in 45.02 min. Items per second: 3.95\n",
            "SLIMElasticNetRecommender: Processed 11868 (65.7%) in 50.02 min. Items per second: 3.95\n",
            "SLIMElasticNetRecommender: Processed 13065 (72.3%) in 55.02 min. Items per second: 3.96\n",
            "SLIMElasticNetRecommender: Processed 14258 (79.0%) in 1.00 hour. Items per second: 3.96\n",
            "SLIMElasticNetRecommender: Processed 15459 (85.6%) in 1.08 hour. Items per second: 3.96\n",
            "SLIMElasticNetRecommender: Processed 16641 (92.1%) in 1.17 hour. Items per second: 3.96\n",
            "SLIMElasticNetRecommender: Processed 17826 (98.7%) in 1.25 hour. Items per second: 3.96\n",
            "SLIMElasticNetRecommender: Processed 18059 (100.0%) in 1.27 hour. Items per second: 3.96\n"
          ]
        }
      ]
    },
    {
      "cell_type": "code",
      "source": [
        "recMFIALS.fit(epochs = 32, num_factors = 50, alpha = 1.011955985422186, reg = 0.0006510527003718695, init_mean = 0.4902658701038708, init_std = 0.0542837791767091)"
      ],
      "metadata": {
        "colab": {
          "base_uri": "https://localhost:8080/"
        },
        "id": "9Ubo1M9g64Uy",
        "outputId": "88b34962-1893-4338-f772-27b41e6321d7"
      },
      "execution_count": 65,
      "outputs": [
        {
          "output_type": "stream",
          "name": "stdout",
          "text": [
            "IALSRecommender: Epoch 1 of 32. Elapsed time 13.08 sec\n",
            "IALSRecommender: Epoch 2 of 32. Elapsed time 25.98 sec\n",
            "IALSRecommender: Epoch 3 of 32. Elapsed time 38.87 sec\n",
            "IALSRecommender: Epoch 4 of 32. Elapsed time 51.74 sec\n",
            "IALSRecommender: Epoch 5 of 32. Elapsed time 1.08 min\n",
            "IALSRecommender: Epoch 6 of 32. Elapsed time 1.29 min\n",
            "IALSRecommender: Epoch 7 of 32. Elapsed time 1.51 min\n",
            "IALSRecommender: Epoch 8 of 32. Elapsed time 1.72 min\n",
            "IALSRecommender: Epoch 9 of 32. Elapsed time 1.94 min\n",
            "IALSRecommender: Epoch 10 of 32. Elapsed time 2.15 min\n",
            "IALSRecommender: Epoch 11 of 32. Elapsed time 2.37 min\n",
            "IALSRecommender: Epoch 12 of 32. Elapsed time 2.59 min\n",
            "IALSRecommender: Epoch 13 of 32. Elapsed time 2.80 min\n",
            "IALSRecommender: Epoch 14 of 32. Elapsed time 3.02 min\n",
            "IALSRecommender: Epoch 15 of 32. Elapsed time 3.24 min\n",
            "IALSRecommender: Epoch 16 of 32. Elapsed time 3.45 min\n",
            "IALSRecommender: Epoch 17 of 32. Elapsed time 3.67 min\n",
            "IALSRecommender: Epoch 18 of 32. Elapsed time 3.89 min\n",
            "IALSRecommender: Epoch 19 of 32. Elapsed time 4.10 min\n",
            "IALSRecommender: Epoch 20 of 32. Elapsed time 4.32 min\n",
            "IALSRecommender: Epoch 21 of 32. Elapsed time 4.53 min\n",
            "IALSRecommender: Epoch 22 of 32. Elapsed time 4.75 min\n",
            "IALSRecommender: Epoch 23 of 32. Elapsed time 4.96 min\n",
            "IALSRecommender: Epoch 24 of 32. Elapsed time 5.18 min\n",
            "IALSRecommender: Epoch 25 of 32. Elapsed time 5.39 min\n",
            "IALSRecommender: Epoch 26 of 32. Elapsed time 5.61 min\n",
            "IALSRecommender: Epoch 27 of 32. Elapsed time 5.82 min\n",
            "IALSRecommender: Epoch 28 of 32. Elapsed time 6.04 min\n",
            "IALSRecommender: Epoch 29 of 32. Elapsed time 6.25 min\n",
            "IALSRecommender: Epoch 30 of 32. Elapsed time 6.47 min\n",
            "IALSRecommender: Epoch 31 of 32. Elapsed time 6.68 min\n",
            "IALSRecommender: Epoch 32 of 32. Elapsed time 6.90 min\n",
            "IALSRecommender: Terminating at epoch 32. Elapsed time 6.90 min\n"
          ]
        }
      ]
    },
    {
      "cell_type": "code",
      "source": [
        "recommenderSVD = PureSVDRecommender(URM_sparse)"
      ],
      "metadata": {
        "id": "ze2e9uD8ByQU"
      },
      "execution_count": 139,
      "outputs": []
    },
    {
      "cell_type": "code",
      "source": [
        "recommenderSVD.fit(num_factors=28)"
      ],
      "metadata": {
        "colab": {
          "base_uri": "https://localhost:8080/"
        },
        "id": "qmbDJTl7B060",
        "outputId": "292f779c-893e-4745-ab0c-10b64879ea7d"
      },
      "execution_count": 140,
      "outputs": [
        {
          "output_type": "stream",
          "name": "stdout",
          "text": [
            "PureSVDRecommender: Computing SVD decomposition...\n",
            "PureSVDRecommender: Computing SVD decomposition... done in 4.73 sec\n"
          ]
        }
      ]
    },
    {
      "cell_type": "code",
      "source": [
        "hybrid_SLIM_MFIALS = DifferentLossScoresHybridRecommender(URM_sparse, recSLIM, recMFIALS)\n",
        "hybrid_SLIM_MFIALS.fit(norm = -np.inf, alpha = 0.8)"
      ],
      "metadata": {
        "id": "C_XGdH4K7ZjI"
      },
      "execution_count": 76,
      "outputs": []
    },
    {
      "cell_type": "code",
      "source": [
        "hybrid_SLIM_MFIALS_SVD = DifferentLossScoresHybridRecommender(URM_sparse, recSLIM, recMFIALS, recommenderSVD)\n",
        "hybrid_SLIM_MFIALS_SVD.fit(norm = -np.inf, alpha = 0.7, beta=0.28, gamma=0.02)"
      ],
      "metadata": {
        "id": "VBE_rgmuB5Fa"
      },
      "execution_count": 142,
      "outputs": []
    },
    {
      "cell_type": "code",
      "metadata": {
        "colab": {
          "base_uri": "https://localhost:8080/"
        },
        "id": "M4GCtxIF2Xx4",
        "outputId": "61d45882-cc6c-473e-908d-1e7bc598ad75"
      },
      "source": [
        "%cd RSChallenge/\n",
        "%ls"
      ],
      "execution_count": 143,
      "outputs": [
        {
          "output_type": "stream",
          "name": "stdout",
          "text": [
            "/content/gdrive/My Drive/Colab Notebooks/RSChallenge\n",
            "HYBRID1.ipynb  \u001b[0m\u001b[01;34mResults\u001b[0m/  \u001b[01;34mRSLib\u001b[0m/   submission_HYBRID_1.csv\n",
            "HYBRID2.ipynb  \u001b[01;34mRSData\u001b[0m/   \u001b[01;34mRSLib2\u001b[0m/  submission_HYBRID_2.csv\n"
          ]
        }
      ]
    },
    {
      "cell_type": "code",
      "metadata": {
        "id": "QkLpWFEM2VMU"
      },
      "source": [
        "target_users = pd.read_csv('RSData/data_target_users_test.csv')"
      ],
      "execution_count": 144,
      "outputs": []
    },
    {
      "cell_type": "code",
      "metadata": {
        "colab": {
          "base_uri": "https://localhost:8080/"
        },
        "id": "pzNvGLYjWYna",
        "outputId": "f543c692-8d6a-4cd7-9a97-4b13856a20d0"
      },
      "source": [
        "final_dict = {}\n",
        "start_time = time.time()\n",
        "\n",
        "for user in target_users['user_id']:\n",
        "  final_dict[user] = hybrid_SLIM_MFIALS_SVD.recommend(user,cutoff=10)\n",
        "end_time = time.time()\n",
        "print('Time needed is {}seconds'.format(end_time-start_time))"
      ],
      "execution_count": 145,
      "outputs": [
        {
          "output_type": "stream",
          "name": "stdout",
          "text": [
            "Time needed is 83.88834977149963seconds\n"
          ]
        }
      ]
    },
    {
      "cell_type": "code",
      "metadata": {
        "id": "VT3Hf0jsWjWj"
      },
      "source": [
        "item_list = []\n",
        "for user in target_users['user_id']:\n",
        "  item_list.append(' '.join(str(e) for e in final_dict[user]))"
      ],
      "execution_count": 146,
      "outputs": []
    },
    {
      "cell_type": "code",
      "metadata": {
        "colab": {
          "base_uri": "https://localhost:8080/",
          "height": 424
        },
        "id": "iSdj2hv5Wsqc",
        "outputId": "8fdff152-62e1-4719-e90f-f2db7b1b08e0"
      },
      "source": [
        "submission_df = pd.DataFrame({'user_id' : target_users['user_id'],'item_list' : item_list })\n",
        "submission_df['item_list'] = submission_df['item_list'].astype(str).str.strip('[]')\n",
        "submission_df"
      ],
      "execution_count": 147,
      "outputs": [
        {
          "output_type": "execute_result",
          "data": {
            "text/html": [
              "<div>\n",
              "<style scoped>\n",
              "    .dataframe tbody tr th:only-of-type {\n",
              "        vertical-align: middle;\n",
              "    }\n",
              "\n",
              "    .dataframe tbody tr th {\n",
              "        vertical-align: top;\n",
              "    }\n",
              "\n",
              "    .dataframe thead th {\n",
              "        text-align: right;\n",
              "    }\n",
              "</style>\n",
              "<table border=\"1\" class=\"dataframe\">\n",
              "  <thead>\n",
              "    <tr style=\"text-align: right;\">\n",
              "      <th></th>\n",
              "      <th>user_id</th>\n",
              "      <th>item_list</th>\n",
              "    </tr>\n",
              "  </thead>\n",
              "  <tbody>\n",
              "    <tr>\n",
              "      <th>0</th>\n",
              "      <td>0</td>\n",
              "      <td>3899 5433 16365 16359 8465 6061 2243 9130 640 ...</td>\n",
              "    </tr>\n",
              "    <tr>\n",
              "      <th>1</th>\n",
              "      <td>1</td>\n",
              "      <td>3473 940 14400 2118 16012 9275 16365 640 10118...</td>\n",
              "    </tr>\n",
              "    <tr>\n",
              "      <th>2</th>\n",
              "      <td>2</td>\n",
              "      <td>6177 1551 17330 17022 14229 16365 15119 4607 2...</td>\n",
              "    </tr>\n",
              "    <tr>\n",
              "      <th>3</th>\n",
              "      <td>3</td>\n",
              "      <td>8194 15551 15082 16359 960 8371 15507 5885 598...</td>\n",
              "    </tr>\n",
              "    <tr>\n",
              "      <th>4</th>\n",
              "      <td>4</td>\n",
              "      <td>8194 10586 9871 2152 6177 5299 10954 11836 601...</td>\n",
              "    </tr>\n",
              "    <tr>\n",
              "      <th>...</th>\n",
              "      <td>...</td>\n",
              "      <td>...</td>\n",
              "    </tr>\n",
              "    <tr>\n",
              "      <th>13645</th>\n",
              "      <td>13645</td>\n",
              "      <td>6177 11491 3200 1259 8898 11576 4078 11303 776...</td>\n",
              "    </tr>\n",
              "    <tr>\n",
              "      <th>13646</th>\n",
              "      <td>13646</td>\n",
              "      <td>3473 7867 8635 16640 17266 17623 409 11504 176...</td>\n",
              "    </tr>\n",
              "    <tr>\n",
              "      <th>13647</th>\n",
              "      <td>13647</td>\n",
              "      <td>1846 7716 7606 11227 8635 14868 1186 16846 114...</td>\n",
              "    </tr>\n",
              "    <tr>\n",
              "      <th>13648</th>\n",
              "      <td>13648</td>\n",
              "      <td>6177 8635 13295 6214 14181 7295 17936 5273 143...</td>\n",
              "    </tr>\n",
              "    <tr>\n",
              "      <th>13649</th>\n",
              "      <td>13649</td>\n",
              "      <td>16919 4088 14536 5273 11038 17330 10026 14627 ...</td>\n",
              "    </tr>\n",
              "  </tbody>\n",
              "</table>\n",
              "<p>13650 rows × 2 columns</p>\n",
              "</div>"
            ],
            "text/plain": [
              "       user_id                                          item_list\n",
              "0            0  3899 5433 16365 16359 8465 6061 2243 9130 640 ...\n",
              "1            1  3473 940 14400 2118 16012 9275 16365 640 10118...\n",
              "2            2  6177 1551 17330 17022 14229 16365 15119 4607 2...\n",
              "3            3  8194 15551 15082 16359 960 8371 15507 5885 598...\n",
              "4            4  8194 10586 9871 2152 6177 5299 10954 11836 601...\n",
              "...        ...                                                ...\n",
              "13645    13645  6177 11491 3200 1259 8898 11576 4078 11303 776...\n",
              "13646    13646  3473 7867 8635 16640 17266 17623 409 11504 176...\n",
              "13647    13647  1846 7716 7606 11227 8635 14868 1186 16846 114...\n",
              "13648    13648  6177 8635 13295 6214 14181 7295 17936 5273 143...\n",
              "13649    13649  16919 4088 14536 5273 11038 17330 10026 14627 ...\n",
              "\n",
              "[13650 rows x 2 columns]"
            ]
          },
          "metadata": {},
          "execution_count": 147
        }
      ]
    },
    {
      "cell_type": "code",
      "metadata": {
        "colab": {
          "base_uri": "https://localhost:8080/"
        },
        "id": "qhQPgu05WxeR",
        "outputId": "2d354460-4b36-4bf2-e5e3-ec12a76a4db7"
      },
      "source": [
        "%ls\n",
        "%cd .."
      ],
      "execution_count": 148,
      "outputs": [
        {
          "output_type": "stream",
          "name": "stdout",
          "text": [
            "HYBRID1.ipynb  \u001b[0m\u001b[01;34mResults\u001b[0m/  \u001b[01;34mRSLib\u001b[0m/   submission_HYBRID_1.csv\n",
            "HYBRID2.ipynb  \u001b[01;34mRSData\u001b[0m/   \u001b[01;34mRSLib2\u001b[0m/  submission_HYBRID_2.csv\n",
            "/content/gdrive/MyDrive/Colab Notebooks\n"
          ]
        }
      ]
    },
    {
      "cell_type": "code",
      "metadata": {
        "id": "j55GRF3YWzoc"
      },
      "source": [
        "submission_df.to_csv('RSChallenge/submission_HYBRID_3.csv', index=False)"
      ],
      "execution_count": 149,
      "outputs": []
    },
    {
      "cell_type": "markdown",
      "source": [
        "Controlliamo quanto le recomendations dell'ibrido a 3 sono diverse dalle recommendations dell'ibrido a 2."
      ],
      "metadata": {
        "id": "o_2BLHeZCsbj"
      }
    },
    {
      "cell_type": "code",
      "source": [
        "%ls"
      ],
      "metadata": {
        "colab": {
          "base_uri": "https://localhost:8080/"
        },
        "id": "D14F0sh8Dgxl",
        "outputId": "b92ac9ee-4165-4468-ac38-73829a10effd"
      },
      "execution_count": 150,
      "outputs": [
        {
          "output_type": "stream",
          "name": "stdout",
          "text": [
            " \u001b[0m\u001b[01;34mAN2DL\u001b[0m/                                      Model_aug_no_transf.ipynb\n",
            "'CONV ESAMI.ipynb'                           \u001b[01;34mRS\u001b[0m/\n",
            "'Copia di DataSeries-Part2-Modeling.ipynb'   \u001b[01;34mRSChallenge\u001b[0m/\n",
            " \u001b[01;34mDM\u001b[0m/                                         \u001b[01;34mSDA\u001b[0m/\n",
            " gra.ipynb\n"
          ]
        }
      ]
    },
    {
      "cell_type": "code",
      "source": [
        "HYB2 = pd.read_csv('RSChallenge/submission_HYBRID_2.csv') # Loading DF\n",
        "HYB3 = pd.read_csv('RSChallenge/submission_HYBRID_3.csv') # Loading DF"
      ],
      "metadata": {
        "id": "-qVPC9X5Cyc7"
      },
      "execution_count": 151,
      "outputs": []
    },
    {
      "cell_type": "code",
      "source": [
        "HYB2"
      ],
      "metadata": {
        "colab": {
          "base_uri": "https://localhost:8080/",
          "height": 424
        },
        "id": "JFzqJ3MlDqDp",
        "outputId": "b3178cee-9947-4031-9681-29f16144be7f"
      },
      "execution_count": 152,
      "outputs": [
        {
          "output_type": "execute_result",
          "data": {
            "text/html": [
              "<div>\n",
              "<style scoped>\n",
              "    .dataframe tbody tr th:only-of-type {\n",
              "        vertical-align: middle;\n",
              "    }\n",
              "\n",
              "    .dataframe tbody tr th {\n",
              "        vertical-align: top;\n",
              "    }\n",
              "\n",
              "    .dataframe thead th {\n",
              "        text-align: right;\n",
              "    }\n",
              "</style>\n",
              "<table border=\"1\" class=\"dataframe\">\n",
              "  <thead>\n",
              "    <tr style=\"text-align: right;\">\n",
              "      <th></th>\n",
              "      <th>user_id</th>\n",
              "      <th>item_list</th>\n",
              "    </tr>\n",
              "  </thead>\n",
              "  <tbody>\n",
              "    <tr>\n",
              "      <th>0</th>\n",
              "      <td>0</td>\n",
              "      <td>3899 5433 16365 8465 16359 2243 6061 9130 640 ...</td>\n",
              "    </tr>\n",
              "    <tr>\n",
              "      <th>1</th>\n",
              "      <td>1</td>\n",
              "      <td>3473 940 14400 16012 2118 640 9275 16365 10118...</td>\n",
              "    </tr>\n",
              "    <tr>\n",
              "      <th>2</th>\n",
              "      <td>2</td>\n",
              "      <td>6177 1551 17022 17330 14229 16365 2846 15119 4...</td>\n",
              "    </tr>\n",
              "    <tr>\n",
              "      <th>3</th>\n",
              "      <td>3</td>\n",
              "      <td>8194 15551 15082 16359 8371 960 15507 16444 58...</td>\n",
              "    </tr>\n",
              "    <tr>\n",
              "      <th>4</th>\n",
              "      <td>4</td>\n",
              "      <td>8194 10586 6177 2152 9871 10954 5299 6011 1649...</td>\n",
              "    </tr>\n",
              "    <tr>\n",
              "      <th>...</th>\n",
              "      <td>...</td>\n",
              "      <td>...</td>\n",
              "    </tr>\n",
              "    <tr>\n",
              "      <th>13645</th>\n",
              "      <td>13645</td>\n",
              "      <td>6177 11491 3200 8898 1259 11576 7762 11303 407...</td>\n",
              "    </tr>\n",
              "    <tr>\n",
              "      <th>13646</th>\n",
              "      <td>13646</td>\n",
              "      <td>3473 7867 8635 16640 17266 17623 409 11504 176...</td>\n",
              "    </tr>\n",
              "    <tr>\n",
              "      <th>13647</th>\n",
              "      <td>13647</td>\n",
              "      <td>1846 7716 7606 11227 8635 14868 1186 11491 168...</td>\n",
              "    </tr>\n",
              "    <tr>\n",
              "      <th>13648</th>\n",
              "      <td>13648</td>\n",
              "      <td>6177 8635 13295 6214 7295 14358 14181 17936 52...</td>\n",
              "    </tr>\n",
              "    <tr>\n",
              "      <th>13649</th>\n",
              "      <td>13649</td>\n",
              "      <td>16919 4088 14536 5273 17330 11038 10026 14627 ...</td>\n",
              "    </tr>\n",
              "  </tbody>\n",
              "</table>\n",
              "<p>13650 rows × 2 columns</p>\n",
              "</div>"
            ],
            "text/plain": [
              "       user_id                                          item_list\n",
              "0            0  3899 5433 16365 8465 16359 2243 6061 9130 640 ...\n",
              "1            1  3473 940 14400 16012 2118 640 9275 16365 10118...\n",
              "2            2  6177 1551 17022 17330 14229 16365 2846 15119 4...\n",
              "3            3  8194 15551 15082 16359 8371 960 15507 16444 58...\n",
              "4            4  8194 10586 6177 2152 9871 10954 5299 6011 1649...\n",
              "...        ...                                                ...\n",
              "13645    13645  6177 11491 3200 8898 1259 11576 7762 11303 407...\n",
              "13646    13646  3473 7867 8635 16640 17266 17623 409 11504 176...\n",
              "13647    13647  1846 7716 7606 11227 8635 14868 1186 11491 168...\n",
              "13648    13648  6177 8635 13295 6214 7295 14358 14181 17936 52...\n",
              "13649    13649  16919 4088 14536 5273 17330 11038 10026 14627 ...\n",
              "\n",
              "[13650 rows x 2 columns]"
            ]
          },
          "metadata": {},
          "execution_count": 152
        }
      ]
    },
    {
      "cell_type": "code",
      "source": [
        "HYB3"
      ],
      "metadata": {
        "colab": {
          "base_uri": "https://localhost:8080/",
          "height": 424
        },
        "id": "QD3zbW_8D6Ca",
        "outputId": "6f086c53-c7cc-4f16-dd9f-98e9cea97235"
      },
      "execution_count": 153,
      "outputs": [
        {
          "output_type": "execute_result",
          "data": {
            "text/html": [
              "<div>\n",
              "<style scoped>\n",
              "    .dataframe tbody tr th:only-of-type {\n",
              "        vertical-align: middle;\n",
              "    }\n",
              "\n",
              "    .dataframe tbody tr th {\n",
              "        vertical-align: top;\n",
              "    }\n",
              "\n",
              "    .dataframe thead th {\n",
              "        text-align: right;\n",
              "    }\n",
              "</style>\n",
              "<table border=\"1\" class=\"dataframe\">\n",
              "  <thead>\n",
              "    <tr style=\"text-align: right;\">\n",
              "      <th></th>\n",
              "      <th>user_id</th>\n",
              "      <th>item_list</th>\n",
              "    </tr>\n",
              "  </thead>\n",
              "  <tbody>\n",
              "    <tr>\n",
              "      <th>0</th>\n",
              "      <td>0</td>\n",
              "      <td>3899 5433 16365 16359 8465 6061 2243 9130 640 ...</td>\n",
              "    </tr>\n",
              "    <tr>\n",
              "      <th>1</th>\n",
              "      <td>1</td>\n",
              "      <td>3473 940 14400 2118 16012 9275 16365 640 10118...</td>\n",
              "    </tr>\n",
              "    <tr>\n",
              "      <th>2</th>\n",
              "      <td>2</td>\n",
              "      <td>6177 1551 17330 17022 14229 16365 15119 4607 2...</td>\n",
              "    </tr>\n",
              "    <tr>\n",
              "      <th>3</th>\n",
              "      <td>3</td>\n",
              "      <td>8194 15551 15082 16359 960 8371 15507 5885 598...</td>\n",
              "    </tr>\n",
              "    <tr>\n",
              "      <th>4</th>\n",
              "      <td>4</td>\n",
              "      <td>8194 10586 9871 2152 6177 5299 10954 11836 601...</td>\n",
              "    </tr>\n",
              "    <tr>\n",
              "      <th>...</th>\n",
              "      <td>...</td>\n",
              "      <td>...</td>\n",
              "    </tr>\n",
              "    <tr>\n",
              "      <th>13645</th>\n",
              "      <td>13645</td>\n",
              "      <td>6177 11491 3200 1259 8898 11576 4078 11303 776...</td>\n",
              "    </tr>\n",
              "    <tr>\n",
              "      <th>13646</th>\n",
              "      <td>13646</td>\n",
              "      <td>3473 7867 8635 16640 17266 17623 409 11504 176...</td>\n",
              "    </tr>\n",
              "    <tr>\n",
              "      <th>13647</th>\n",
              "      <td>13647</td>\n",
              "      <td>1846 7716 7606 11227 8635 14868 1186 16846 114...</td>\n",
              "    </tr>\n",
              "    <tr>\n",
              "      <th>13648</th>\n",
              "      <td>13648</td>\n",
              "      <td>6177 8635 13295 6214 14181 7295 17936 5273 143...</td>\n",
              "    </tr>\n",
              "    <tr>\n",
              "      <th>13649</th>\n",
              "      <td>13649</td>\n",
              "      <td>16919 4088 14536 5273 11038 17330 10026 14627 ...</td>\n",
              "    </tr>\n",
              "  </tbody>\n",
              "</table>\n",
              "<p>13650 rows × 2 columns</p>\n",
              "</div>"
            ],
            "text/plain": [
              "       user_id                                          item_list\n",
              "0            0  3899 5433 16365 16359 8465 6061 2243 9130 640 ...\n",
              "1            1  3473 940 14400 2118 16012 9275 16365 640 10118...\n",
              "2            2  6177 1551 17330 17022 14229 16365 15119 4607 2...\n",
              "3            3  8194 15551 15082 16359 960 8371 15507 5885 598...\n",
              "4            4  8194 10586 9871 2152 6177 5299 10954 11836 601...\n",
              "...        ...                                                ...\n",
              "13645    13645  6177 11491 3200 1259 8898 11576 4078 11303 776...\n",
              "13646    13646  3473 7867 8635 16640 17266 17623 409 11504 176...\n",
              "13647    13647  1846 7716 7606 11227 8635 14868 1186 16846 114...\n",
              "13648    13648  6177 8635 13295 6214 14181 7295 17936 5273 143...\n",
              "13649    13649  16919 4088 14536 5273 11038 17330 10026 14627 ...\n",
              "\n",
              "[13650 rows x 2 columns]"
            ]
          },
          "metadata": {},
          "execution_count": 153
        }
      ]
    },
    {
      "cell_type": "code",
      "source": [
        "HYB2_ll = HYB2.values.tolist() \n",
        "HYB2_list = HYB2_ll[0][1].split()\n",
        "HYB3_ll = HYB3.values.tolist() \n",
        "HYB3_list = HYB3_ll[0][1].split()"
      ],
      "metadata": {
        "id": "ymtULKHSEMzA"
      },
      "execution_count": 154,
      "outputs": []
    },
    {
      "cell_type": "code",
      "source": [
        "num10 = 0\n",
        "num9 = 0\n",
        "num8 = 0\n",
        "num7 = 0\n",
        "num6 = 0\n",
        "num5 = 0\n",
        "num4 = 0\n",
        "num3 = 0\n",
        "num2 = 0\n",
        "num1 = 0\n",
        "num0 = 0\n",
        "\n",
        "for user in target_users['user_id']:\n",
        "  count = 0\n",
        "  HYB2_list = HYB2_ll[user][1].split()\n",
        "  HYB3_list = HYB3_ll[user][1].split()\n",
        "  for k in range(10):\n",
        "    if(HYB2_list[k] in HYB3_list):\n",
        "      count = count + 1\n",
        "  \n",
        "  if count == 10: num10=num10+1\n",
        "  if count == 9: num9=num9+1\n",
        "  if count == 8: num8=num8+1\n",
        "  if count == 7: num7=num7+1\n",
        "  if count == 6: num6=num6+1\n",
        "  if count == 5: num5=num5+1\n",
        "  if count == 4: num4=num4+1\n",
        "  if count == 3: num3=num3+1\n",
        "  if count == 2: num2=num2+1\n",
        "  if count == 1: num1=num1+1\n",
        "\n",
        "print(num10)\n",
        "print(num9)\n",
        "print(num8)\n",
        "print(num7)\n",
        "print(num6)\n",
        "print(num5)\n",
        "print(num4)\n",
        "print(num3)\n",
        "print(num2)\n",
        "print(num1)"
      ],
      "metadata": {
        "colab": {
          "base_uri": "https://localhost:8080/"
        },
        "id": "CkuQrXP9D7uB",
        "outputId": "ebe48fe2-27b5-43f2-9ebf-dd5e73941eee"
      },
      "execution_count": 155,
      "outputs": [
        {
          "output_type": "stream",
          "name": "stdout",
          "text": [
            "9350\n",
            "4100\n",
            "196\n",
            "4\n",
            "0\n",
            "0\n",
            "0\n",
            "0\n",
            "0\n",
            "0\n"
          ]
        }
      ]
    }
  ]
}